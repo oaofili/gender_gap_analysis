{
 "cells": [
  {
   "cell_type": "markdown",
   "metadata": {},
   "source": [
    "# Analyzing the Gender Gap in Hollywood"
   ]
  },
  {
   "cell_type": "markdown",
   "metadata": {},
   "source": [
    "# 0.0 NoteBook Objective\n",
    "\n",
    "The objective of this notebook is to merge 5 dataframes to create one singular dataframe for our EDA analysis and modelling. Hang tight, things are going to get merged inside and outside!"
   ]
  },
  {
   "cell_type": "markdown",
   "metadata": {},
   "source": [
    "# 1.0 Importing Libraries"
   ]
  },
  {
   "cell_type": "code",
   "execution_count": 29,
   "metadata": {},
   "outputs": [],
   "source": [
    "# The usual suspects to get our notebook looking good\n",
    "import pandas as pd\n",
    "import numpy as np\n",
    "import warnings\n",
    "import missingno\n",
    "from tqdm import tqdm\n",
    "import math, time, random, datetime"
   ]
  },
  {
   "cell_type": "code",
   "execution_count": 30,
   "metadata": {},
   "outputs": [],
   "source": [
    "tqdm.pandas() # This inititates the TQDM lirbrary with pandas for us to track progress"
   ]
  },
  {
   "cell_type": "markdown",
   "metadata": {},
   "source": [
    "# 2.0 Importing DataSets"
   ]
  },
  {
   "cell_type": "markdown",
   "metadata": {},
   "source": [
    "## 2.1 Import IMDB Names\n",
    "This contains the names and date of all 297,705 actors and actresses in our Data Set."
   ]
  },
  {
   "cell_type": "code",
   "execution_count": 31,
   "metadata": {},
   "outputs": [
    {
     "name": "stdout",
     "output_type": "stream",
     "text": [
      "It took 2.46 seconds\n"
     ]
    }
   ],
   "source": [
    "# Import IMDb names\n",
    "start = time.time()\n",
    "warnings.filterwarnings(\"ignore\")\n",
    "df_names = pd.read_csv('/Users/macbook/Google Drive/0. Ofilispeaks Business (Mac and Cloud)/9. Data Science/0. Python/General Assembly Training/Project 6/archive/IMDb names.csv')\n",
    "end = time.time()\n",
    "print(f'It took {round((end-start),2)} seconds')"
   ]
  },
  {
   "cell_type": "code",
   "execution_count": 32,
   "metadata": {},
   "outputs": [
    {
     "data": {
      "text/html": [
       "<div>\n",
       "<style scoped>\n",
       "    .dataframe tbody tr th:only-of-type {\n",
       "        vertical-align: middle;\n",
       "    }\n",
       "\n",
       "    .dataframe tbody tr th {\n",
       "        vertical-align: top;\n",
       "    }\n",
       "\n",
       "    .dataframe thead th {\n",
       "        text-align: right;\n",
       "    }\n",
       "</style>\n",
       "<table border=\"1\" class=\"dataframe\">\n",
       "  <thead>\n",
       "    <tr style=\"text-align: right;\">\n",
       "      <th></th>\n",
       "      <th>imdb_name_id</th>\n",
       "      <th>name</th>\n",
       "      <th>birth_name</th>\n",
       "      <th>height</th>\n",
       "      <th>bio</th>\n",
       "      <th>birth_details</th>\n",
       "      <th>date_of_birth</th>\n",
       "      <th>place_of_birth</th>\n",
       "      <th>death_details</th>\n",
       "      <th>date_of_death</th>\n",
       "      <th>place_of_death</th>\n",
       "      <th>reason_of_death</th>\n",
       "      <th>spouses_string</th>\n",
       "      <th>spouses</th>\n",
       "      <th>divorces</th>\n",
       "      <th>spouses_with_children</th>\n",
       "      <th>children</th>\n",
       "    </tr>\n",
       "  </thead>\n",
       "  <tbody>\n",
       "    <tr>\n",
       "      <th>0</th>\n",
       "      <td>nm0000001</td>\n",
       "      <td>Fred Astaire</td>\n",
       "      <td>Frederic Austerlitz Jr.</td>\n",
       "      <td>177.0</td>\n",
       "      <td>Fred Astaire was born in Omaha, Nebraska, to J...</td>\n",
       "      <td>May 10, 1899 in Omaha, Nebraska, USA</td>\n",
       "      <td>1899-05-10</td>\n",
       "      <td>Omaha, Nebraska, USA</td>\n",
       "      <td>June 22, 1987 in Los Angeles, California, USA ...</td>\n",
       "      <td>1987-06-22</td>\n",
       "      <td>Los Angeles, California, USA</td>\n",
       "      <td>pneumonia</td>\n",
       "      <td>Robyn Smith  (27 June 1980 - 22 June 1987) (hi...</td>\n",
       "      <td>2</td>\n",
       "      <td>0</td>\n",
       "      <td>1</td>\n",
       "      <td>2</td>\n",
       "    </tr>\n",
       "  </tbody>\n",
       "</table>\n",
       "</div>"
      ],
      "text/plain": [
       "  imdb_name_id          name               birth_name  height  \\\n",
       "0    nm0000001  Fred Astaire  Frederic Austerlitz Jr.   177.0   \n",
       "\n",
       "                                                 bio  \\\n",
       "0  Fred Astaire was born in Omaha, Nebraska, to J...   \n",
       "\n",
       "                          birth_details date_of_birth        place_of_birth  \\\n",
       "0  May 10, 1899 in Omaha, Nebraska, USA    1899-05-10  Omaha, Nebraska, USA   \n",
       "\n",
       "                                       death_details date_of_death  \\\n",
       "0  June 22, 1987 in Los Angeles, California, USA ...    1987-06-22   \n",
       "\n",
       "                   place_of_death reason_of_death  \\\n",
       "0  Los Angeles, California, USA         pneumonia   \n",
       "\n",
       "                                      spouses_string  spouses  divorces  \\\n",
       "0  Robyn Smith  (27 June 1980 - 22 June 1987) (hi...        2         0   \n",
       "\n",
       "   spouses_with_children  children  \n",
       "0                      1         2  "
      ]
     },
     "execution_count": 32,
     "metadata": {},
     "output_type": "execute_result"
    }
   ],
   "source": [
    "df_names.head(1)"
   ]
  },
  {
   "cell_type": "code",
   "execution_count": 33,
   "metadata": {},
   "outputs": [
    {
     "data": {
      "text/plain": [
       "(297705, 17)"
      ]
     },
     "execution_count": 33,
     "metadata": {},
     "output_type": "execute_result"
    }
   ],
   "source": [
    "df_names.shape"
   ]
  },
  {
   "cell_type": "markdown",
   "metadata": {},
   "source": [
    "## 2.2 Import IMDB Movies\n",
    "This contains names of imdb movies and other information like revenue and world-wide movie budget."
   ]
  },
  {
   "cell_type": "code",
   "execution_count": 34,
   "metadata": {},
   "outputs": [
    {
     "name": "stdout",
     "output_type": "stream",
     "text": [
      "It took 1.19 seconds\n"
     ]
    }
   ],
   "source": [
    "# Import IMDb movies\n",
    "start = time.time()\n",
    "warnings.filterwarnings(\"ignore\")\n",
    "df_movies = pd.read_csv('/Users/macbook/Google Drive/0. Ofilispeaks Business (Mac and Cloud)/9. Data Science/0. Python/General Assembly Training/Project 6/archive/IMDb movies.csv')\n",
    "end = time.time()\n",
    "print(f'It took {round((end-start),2)} seconds')"
   ]
  },
  {
   "cell_type": "code",
   "execution_count": 35,
   "metadata": {},
   "outputs": [
    {
     "data": {
      "text/plain": [
       "Index(['imdb_title_id', 'title', 'original_title', 'year', 'date_published',\n",
       "       'genre', 'duration', 'country', 'language', 'director', 'writer',\n",
       "       'production_company', 'actors', 'description', 'avg_vote', 'votes',\n",
       "       'budget', 'usa_gross_income', 'worlwide_gross_income', 'metascore',\n",
       "       'reviews_from_users', 'reviews_from_critics'],\n",
       "      dtype='object')"
      ]
     },
     "execution_count": 35,
     "metadata": {},
     "output_type": "execute_result"
    }
   ],
   "source": [
    "df_movies.head()"
   ]
  },
  {
   "cell_type": "markdown",
   "metadata": {},
   "source": [
    "## 2.3 Import IMDB Ratings\n",
    "\n",
    "This contains ratings of movies broken down."
   ]
  },
  {
   "cell_type": "code",
   "execution_count": 36,
   "metadata": {},
   "outputs": [
    {
     "name": "stdout",
     "output_type": "stream",
     "text": [
      "It took 0.59 seconds\n"
     ]
    }
   ],
   "source": [
    "# Import imdb ratings dataset\n",
    "start = time.time()\n",
    "warnings.filterwarnings(\"ignore\")\n",
    "df_ratings = pd.read_csv('/Users/macbook/Google Drive/0. Ofilispeaks Business (Mac and Cloud)/9. Data Science/0. Python/General Assembly Training/Project 6/archive/IMDb ratings.csv')\n",
    "end = time.time()\n",
    "print(f'It took {round((end-start),2)} seconds')"
   ]
  },
  {
   "cell_type": "code",
   "execution_count": 37,
   "metadata": {},
   "outputs": [
    {
     "data": {
      "text/html": [
       "<div>\n",
       "<style scoped>\n",
       "    .dataframe tbody tr th:only-of-type {\n",
       "        vertical-align: middle;\n",
       "    }\n",
       "\n",
       "    .dataframe tbody tr th {\n",
       "        vertical-align: top;\n",
       "    }\n",
       "\n",
       "    .dataframe thead th {\n",
       "        text-align: right;\n",
       "    }\n",
       "</style>\n",
       "<table border=\"1\" class=\"dataframe\">\n",
       "  <thead>\n",
       "    <tr style=\"text-align: right;\">\n",
       "      <th></th>\n",
       "      <th>imdb_title_id</th>\n",
       "      <th>weighted_average_vote</th>\n",
       "      <th>total_votes</th>\n",
       "      <th>mean_vote</th>\n",
       "      <th>median_vote</th>\n",
       "      <th>votes_10</th>\n",
       "      <th>votes_9</th>\n",
       "      <th>votes_8</th>\n",
       "      <th>votes_7</th>\n",
       "      <th>votes_6</th>\n",
       "      <th>...</th>\n",
       "      <th>females_30age_avg_vote</th>\n",
       "      <th>females_30age_votes</th>\n",
       "      <th>females_45age_avg_vote</th>\n",
       "      <th>females_45age_votes</th>\n",
       "      <th>top1000_voters_rating</th>\n",
       "      <th>top1000_voters_votes</th>\n",
       "      <th>us_voters_rating</th>\n",
       "      <th>us_voters_votes</th>\n",
       "      <th>non_us_voters_rating</th>\n",
       "      <th>non_us_voters_votes</th>\n",
       "    </tr>\n",
       "  </thead>\n",
       "  <tbody>\n",
       "    <tr>\n",
       "      <th>0</th>\n",
       "      <td>tt0000009</td>\n",
       "      <td>5.9</td>\n",
       "      <td>154</td>\n",
       "      <td>5.9</td>\n",
       "      <td>6.0</td>\n",
       "      <td>12</td>\n",
       "      <td>4</td>\n",
       "      <td>10</td>\n",
       "      <td>43</td>\n",
       "      <td>28</td>\n",
       "      <td>...</td>\n",
       "      <td>5.7</td>\n",
       "      <td>13.0</td>\n",
       "      <td>4.5</td>\n",
       "      <td>4.0</td>\n",
       "      <td>5.7</td>\n",
       "      <td>34.0</td>\n",
       "      <td>6.4</td>\n",
       "      <td>51.0</td>\n",
       "      <td>6.0</td>\n",
       "      <td>70.0</td>\n",
       "    </tr>\n",
       "  </tbody>\n",
       "</table>\n",
       "<p>1 rows × 49 columns</p>\n",
       "</div>"
      ],
      "text/plain": [
       "  imdb_title_id  weighted_average_vote  total_votes  mean_vote  median_vote  \\\n",
       "0     tt0000009                    5.9          154        5.9          6.0   \n",
       "\n",
       "   votes_10  votes_9  votes_8  votes_7  votes_6  ...  females_30age_avg_vote  \\\n",
       "0        12        4       10       43       28  ...                     5.7   \n",
       "\n",
       "   females_30age_votes  females_45age_avg_vote  females_45age_votes  \\\n",
       "0                 13.0                     4.5                  4.0   \n",
       "\n",
       "   top1000_voters_rating  top1000_voters_votes  us_voters_rating  \\\n",
       "0                    5.7                  34.0               6.4   \n",
       "\n",
       "   us_voters_votes  non_us_voters_rating  non_us_voters_votes  \n",
       "0             51.0                   6.0                 70.0  \n",
       "\n",
       "[1 rows x 49 columns]"
      ]
     },
     "execution_count": 37,
     "metadata": {},
     "output_type": "execute_result"
    }
   ],
   "source": [
    "df_ratings.head(1)"
   ]
  },
  {
   "cell_type": "markdown",
   "metadata": {},
   "source": [
    "## 2.4 Import IMDB Title Principals\n",
    "\n",
    "This is a key dataset that tells us the category of the cast members."
   ]
  },
  {
   "cell_type": "code",
   "execution_count": 38,
   "metadata": {},
   "outputs": [
    {
     "name": "stdout",
     "output_type": "stream",
     "text": [
      "It took 1.02 seconds\n"
     ]
    }
   ],
   "source": [
    "# Import imdb title principals dataset\n",
    "start = time.time()\n",
    "warnings.filterwarnings(\"ignore\")\n",
    "df_title_principals = pd.read_csv('/Users/macbook/Google Drive/0. Ofilispeaks Business (Mac and Cloud)/9. Data Science/0. Python/General Assembly Training/Project 6/archive/IMDb title_principals.csv')\n",
    "end = time.time()\n",
    "print(f'It took {round((end-start),2)} seconds')"
   ]
  },
  {
   "cell_type": "code",
   "execution_count": 39,
   "metadata": {},
   "outputs": [
    {
     "data": {
      "text/html": [
       "<div>\n",
       "<style scoped>\n",
       "    .dataframe tbody tr th:only-of-type {\n",
       "        vertical-align: middle;\n",
       "    }\n",
       "\n",
       "    .dataframe tbody tr th {\n",
       "        vertical-align: top;\n",
       "    }\n",
       "\n",
       "    .dataframe thead th {\n",
       "        text-align: right;\n",
       "    }\n",
       "</style>\n",
       "<table border=\"1\" class=\"dataframe\">\n",
       "  <thead>\n",
       "    <tr style=\"text-align: right;\">\n",
       "      <th></th>\n",
       "      <th>imdb_title_id</th>\n",
       "      <th>ordering</th>\n",
       "      <th>imdb_name_id</th>\n",
       "      <th>category</th>\n",
       "      <th>job</th>\n",
       "      <th>characters</th>\n",
       "    </tr>\n",
       "  </thead>\n",
       "  <tbody>\n",
       "    <tr>\n",
       "      <th>0</th>\n",
       "      <td>tt0000009</td>\n",
       "      <td>1</td>\n",
       "      <td>nm0063086</td>\n",
       "      <td>actress</td>\n",
       "      <td>NaN</td>\n",
       "      <td>[\"Miss Geraldine Holbrook (Miss Jerry)\"]</td>\n",
       "    </tr>\n",
       "    <tr>\n",
       "      <th>1</th>\n",
       "      <td>tt0000009</td>\n",
       "      <td>2</td>\n",
       "      <td>nm0183823</td>\n",
       "      <td>actor</td>\n",
       "      <td>NaN</td>\n",
       "      <td>[\"Mr. Hamilton\"]</td>\n",
       "    </tr>\n",
       "    <tr>\n",
       "      <th>2</th>\n",
       "      <td>tt0000009</td>\n",
       "      <td>3</td>\n",
       "      <td>nm1309758</td>\n",
       "      <td>actor</td>\n",
       "      <td>NaN</td>\n",
       "      <td>[\"Chauncey Depew - the Director of the New Yor...</td>\n",
       "    </tr>\n",
       "    <tr>\n",
       "      <th>3</th>\n",
       "      <td>tt0000009</td>\n",
       "      <td>4</td>\n",
       "      <td>nm0085156</td>\n",
       "      <td>director</td>\n",
       "      <td>NaN</td>\n",
       "      <td>NaN</td>\n",
       "    </tr>\n",
       "    <tr>\n",
       "      <th>4</th>\n",
       "      <td>tt0000574</td>\n",
       "      <td>1</td>\n",
       "      <td>nm0846887</td>\n",
       "      <td>actress</td>\n",
       "      <td>NaN</td>\n",
       "      <td>[\"Kate Kelly\"]</td>\n",
       "    </tr>\n",
       "  </tbody>\n",
       "</table>\n",
       "</div>"
      ],
      "text/plain": [
       "  imdb_title_id  ordering imdb_name_id  category  job  \\\n",
       "0     tt0000009         1    nm0063086   actress  NaN   \n",
       "1     tt0000009         2    nm0183823     actor  NaN   \n",
       "2     tt0000009         3    nm1309758     actor  NaN   \n",
       "3     tt0000009         4    nm0085156  director  NaN   \n",
       "4     tt0000574         1    nm0846887   actress  NaN   \n",
       "\n",
       "                                          characters  \n",
       "0           [\"Miss Geraldine Holbrook (Miss Jerry)\"]  \n",
       "1                                   [\"Mr. Hamilton\"]  \n",
       "2  [\"Chauncey Depew - the Director of the New Yor...  \n",
       "3                                                NaN  \n",
       "4                                     [\"Kate Kelly\"]  "
      ]
     },
     "execution_count": 39,
     "metadata": {},
     "output_type": "execute_result"
    }
   ],
   "source": [
    "df_title_principals.head()"
   ]
  },
  {
   "cell_type": "markdown",
   "metadata": {},
   "source": [
    "# 3.0 Import Scrapped Wikipedia DataSets for Merging"
   ]
  },
  {
   "cell_type": "markdown",
   "metadata": {},
   "source": [
    "## 3.1 Import Wikipedia Populated Data Frame (Cast): Part 1\n",
    "\n",
    "This is the first scrapped dataset from Wikipedia containing Role summary."
   ]
  },
  {
   "cell_type": "code",
   "execution_count": 40,
   "metadata": {},
   "outputs": [
    {
     "name": "stdout",
     "output_type": "stream",
     "text": [
      "It took 0.29 seconds\n"
     ]
    }
   ],
   "source": [
    "# Import Wikipedia DataFrame\n",
    "start = time.time()\n",
    "warnings.filterwarnings(\"ignore\")\n",
    "df_cast_wiki = pd.read_csv('/Users/macbook/Google Drive/0. Ofilispeaks Business (Mac and Cloud)/9. Data Science/0. Python/General Assembly Training/Project 6/data/movies_cast.csv')\n",
    "end = time.time()\n",
    "print(f'It took {round((end-start),2)} seconds')"
   ]
  },
  {
   "cell_type": "code",
   "execution_count": 41,
   "metadata": {},
   "outputs": [
    {
     "data": {
      "text/plain": [
       "(85852, 2)"
      ]
     },
     "execution_count": 41,
     "metadata": {},
     "output_type": "execute_result"
    }
   ],
   "source": [
    "df_cast_wiki.shape"
   ]
  },
  {
   "cell_type": "markdown",
   "metadata": {},
   "source": [
    "## 3.2 Import Wikipedia Populated Data Frame (Cast): Part 2\n",
    "\n",
    "Because some movies on Wikipedia are listed as *Movie Name (1999 film)* I created another Wikipedia scrape to pull in casts of these movies."
   ]
  },
  {
   "cell_type": "code",
   "execution_count": 45,
   "metadata": {},
   "outputs": [
    {
     "name": "stdout",
     "output_type": "stream",
     "text": [
      "It took 1.0 seconds\n"
     ]
    }
   ],
   "source": [
    "# Import Wikipedia DataFrame\n",
    "start = time.time()\n",
    "warnings.filterwarnings(\"ignore\")\n",
    "df_cast_wiki_deep = pd.read_csv('/Users/macbook/Google Drive/0. Ofilispeaks Business (Mac and Cloud)/9. Data Science/0. Python/General Assembly Training/Project 6/data/movies_cast_wiki.csv')\n",
    "end = time.time()\n",
    "print(f'It took {round((end-start),2)} seconds')"
   ]
  },
  {
   "cell_type": "code",
   "execution_count": 46,
   "metadata": {},
   "outputs": [
    {
     "data": {
      "text/plain": [
       "(61986, 25)"
      ]
     },
     "execution_count": 46,
     "metadata": {},
     "output_type": "execute_result"
    }
   ],
   "source": [
    "df_cast_wiki_deep.shape # Inspect shape of DataFrame"
   ]
  },
  {
   "cell_type": "code",
   "execution_count": 48,
   "metadata": {},
   "outputs": [],
   "source": [
    "df_cast_wiki_deep = df_cast_wiki_deep[['imdb_title_id','cast_wiki']] # Assign Pertinent Columns to DataFrame"
   ]
  },
  {
   "cell_type": "code",
   "execution_count": 49,
   "metadata": {},
   "outputs": [],
   "source": [
    "# Rename DataSet column\n",
    "df_cast_wiki_deep.rename(columns={'cast_wiki': 'cast'},\n",
    "          inplace=True, errors='raise')"
   ]
  },
  {
   "cell_type": "code",
   "execution_count": 51,
   "metadata": {},
   "outputs": [
    {
     "data": {
      "text/plain": [
       "(7138, 2)"
      ]
     },
     "execution_count": 51,
     "metadata": {},
     "output_type": "execute_result"
    }
   ],
   "source": [
    "df_cast_wiki_deep.shape # Inspect shape of DataFrame"
   ]
  },
  {
   "cell_type": "markdown",
   "metadata": {},
   "source": [
    "## 3.3 Merge Wikipedia DataSets above into One: Part 3"
   ]
  },
  {
   "cell_type": "code",
   "execution_count": 52,
   "metadata": {},
   "outputs": [],
   "source": [
    "# Perform an Outer Merge\n",
    "df_wiki_merge = pd.merge(df_cast_wiki_deep, df_cast_wiki, on=['imdb_title_id','cast'], how='outer') "
   ]
  },
  {
   "cell_type": "code",
   "execution_count": 53,
   "metadata": {},
   "outputs": [
    {
     "data": {
      "text/html": [
       "<div>\n",
       "<style scoped>\n",
       "    .dataframe tbody tr th:only-of-type {\n",
       "        vertical-align: middle;\n",
       "    }\n",
       "\n",
       "    .dataframe tbody tr th {\n",
       "        vertical-align: top;\n",
       "    }\n",
       "\n",
       "    .dataframe thead th {\n",
       "        text-align: right;\n",
       "    }\n",
       "</style>\n",
       "<table border=\"1\" class=\"dataframe\">\n",
       "  <thead>\n",
       "    <tr style=\"text-align: right;\">\n",
       "      <th></th>\n",
       "      <th>imdb_title_id</th>\n",
       "      <th>cast</th>\n",
       "    </tr>\n",
       "  </thead>\n",
       "  <tbody>\n",
       "    <tr>\n",
       "      <th>0</th>\n",
       "      <td>tt0002101</td>\n",
       "      <td>Helen Gardner as Cleopatra - Queen of Egypt\\nM...</td>\n",
       "    </tr>\n",
       "    <tr>\n",
       "      <th>1</th>\n",
       "      <td>tt0002423</td>\n",
       "      <td>Pola Negri as Madame DuBarry, The Former Jeann...</td>\n",
       "    </tr>\n",
       "    <tr>\n",
       "      <th>2</th>\n",
       "      <td>tt0002461</td>\n",
       "      <td>Robert Gemp ... King Edward IV\\nFrederick Ward...</td>\n",
       "    </tr>\n",
       "    <tr>\n",
       "      <th>3</th>\n",
       "      <td>tt0002646</td>\n",
       "      <td>Olaf Fønss as Dr. Friedrich von Kammacher\\nIda...</td>\n",
       "    </tr>\n",
       "    <tr>\n",
       "      <th>4</th>\n",
       "      <td>tt0003167</td>\n",
       "      <td>Henry B. Walthall ....  John Howard Payne\\nJos...</td>\n",
       "    </tr>\n",
       "  </tbody>\n",
       "</table>\n",
       "</div>"
      ],
      "text/plain": [
       "  imdb_title_id                                               cast\n",
       "0     tt0002101  Helen Gardner as Cleopatra - Queen of Egypt\\nM...\n",
       "1     tt0002423  Pola Negri as Madame DuBarry, The Former Jeann...\n",
       "2     tt0002461  Robert Gemp ... King Edward IV\\nFrederick Ward...\n",
       "3     tt0002646  Olaf Fønss as Dr. Friedrich von Kammacher\\nIda...\n",
       "4     tt0003167  Henry B. Walthall ....  John Howard Payne\\nJos..."
      ]
     },
     "execution_count": 53,
     "metadata": {},
     "output_type": "execute_result"
    }
   ],
   "source": [
    "df_wiki_merge.head() # Inspect DataFrame Head"
   ]
  },
  {
   "cell_type": "code",
   "execution_count": 54,
   "metadata": {},
   "outputs": [
    {
     "data": {
      "text/plain": [
       "(31004, 2)"
      ]
     },
     "execution_count": 54,
     "metadata": {},
     "output_type": "execute_result"
    }
   ],
   "source": [
    "df_wiki_merge.shape # Inspect Final Merged Shape"
   ]
  },
  {
   "cell_type": "markdown",
   "metadata": {},
   "source": [
    "## 3.4 Process Merged DataSet\n",
    "\n",
    "After merging the dataset, we would need to process the cast set into one coherent dataset that separates the cluster of tesxt we have into discernable portions."
   ]
  },
  {
   "cell_type": "code",
   "execution_count": 55,
   "metadata": {},
   "outputs": [],
   "source": [
    "# Performs an inner merge to the original imdb dataset\n",
    "df_movies_update = pd.merge(df_movies, df_wiki_merge, on='imdb_title_id', how='inner')"
   ]
  },
  {
   "cell_type": "code",
   "execution_count": 56,
   "metadata": {},
   "outputs": [
    {
     "data": {
      "text/plain": [
       "(31004, 23)"
      ]
     },
     "execution_count": 56,
     "metadata": {},
     "output_type": "execute_result"
    }
   ],
   "source": [
    "df_movies_update.shape # Inspect shape of dataframe"
   ]
  },
  {
   "cell_type": "code",
   "execution_count": 57,
   "metadata": {},
   "outputs": [
    {
     "data": {
      "text/html": [
       "<div>\n",
       "<style scoped>\n",
       "    .dataframe tbody tr th:only-of-type {\n",
       "        vertical-align: middle;\n",
       "    }\n",
       "\n",
       "    .dataframe tbody tr th {\n",
       "        vertical-align: top;\n",
       "    }\n",
       "\n",
       "    .dataframe thead th {\n",
       "        text-align: right;\n",
       "    }\n",
       "</style>\n",
       "<table border=\"1\" class=\"dataframe\">\n",
       "  <thead>\n",
       "    <tr style=\"text-align: right;\">\n",
       "      <th></th>\n",
       "      <th>imdb_title_id</th>\n",
       "      <th>title</th>\n",
       "      <th>original_title</th>\n",
       "      <th>year</th>\n",
       "      <th>date_published</th>\n",
       "      <th>genre</th>\n",
       "      <th>duration</th>\n",
       "      <th>country</th>\n",
       "      <th>language</th>\n",
       "      <th>director</th>\n",
       "      <th>...</th>\n",
       "      <th>description</th>\n",
       "      <th>avg_vote</th>\n",
       "      <th>votes</th>\n",
       "      <th>budget</th>\n",
       "      <th>usa_gross_income</th>\n",
       "      <th>worlwide_gross_income</th>\n",
       "      <th>metascore</th>\n",
       "      <th>reviews_from_users</th>\n",
       "      <th>reviews_from_critics</th>\n",
       "      <th>cast</th>\n",
       "    </tr>\n",
       "  </thead>\n",
       "  <tbody>\n",
       "    <tr>\n",
       "      <th>0</th>\n",
       "      <td>tt0000009</td>\n",
       "      <td>Miss Jerry</td>\n",
       "      <td>Miss Jerry</td>\n",
       "      <td>1894</td>\n",
       "      <td>1894-10-09</td>\n",
       "      <td>Romance</td>\n",
       "      <td>45</td>\n",
       "      <td>USA</td>\n",
       "      <td>None</td>\n",
       "      <td>Alexander Black</td>\n",
       "      <td>...</td>\n",
       "      <td>The adventures of a female reporter in the 1890s.</td>\n",
       "      <td>5.9</td>\n",
       "      <td>154</td>\n",
       "      <td>NaN</td>\n",
       "      <td>NaN</td>\n",
       "      <td>NaN</td>\n",
       "      <td>NaN</td>\n",
       "      <td>1.0</td>\n",
       "      <td>2.0</td>\n",
       "      <td>Blanche Bayliss (under the name \"Constance Art...</td>\n",
       "    </tr>\n",
       "  </tbody>\n",
       "</table>\n",
       "<p>1 rows × 23 columns</p>\n",
       "</div>"
      ],
      "text/plain": [
       "  imdb_title_id       title original_title  year date_published    genre  \\\n",
       "0     tt0000009  Miss Jerry     Miss Jerry  1894     1894-10-09  Romance   \n",
       "\n",
       "   duration country language         director  ...  \\\n",
       "0        45     USA     None  Alexander Black  ...   \n",
       "\n",
       "                                         description avg_vote votes budget  \\\n",
       "0  The adventures of a female reporter in the 1890s.      5.9   154    NaN   \n",
       "\n",
       "   usa_gross_income  worlwide_gross_income metascore reviews_from_users  \\\n",
       "0               NaN                    NaN       NaN                1.0   \n",
       "\n",
       "  reviews_from_critics                                               cast  \n",
       "0                  2.0  Blanche Bayliss (under the name \"Constance Art...  \n",
       "\n",
       "[1 rows x 23 columns]"
      ]
     },
     "execution_count": 57,
     "metadata": {},
     "output_type": "execute_result"
    }
   ],
   "source": [
    "df_movies_update.head(1) # Inspect head of dataframe"
   ]
  },
  {
   "cell_type": "markdown",
   "metadata": {},
   "source": [
    "### 3.4.1 Function to Handle Scrapped DataSets That are separated by *\\n*\n",
    "This function breaks out our text into 3 discernable peices:\n",
    "1. Actor/Actress Name\n",
    "2. Actor/Actress Character name in the movies\n",
    "3. Actor/Actress Character Role in the movies"
   ]
  },
  {
   "cell_type": "code",
   "execution_count": 58,
   "metadata": {},
   "outputs": [],
   "source": [
    "def cast_roles (section):\n",
    "    \n",
    "    if section == 'missing': # This line is to handle error thrown in columns where cast == 'missing'\n",
    "        return 'missing'\n",
    "    \n",
    "    try:\n",
    "        test = section.replace(\"\\'\", \"\").split('\\n') # Split up scrapped cast data into list of paragraphs\n",
    "    except:\n",
    "        return 'missing'\n",
    "    \n",
    "    emptydict = [] # This list is to store zipped dictionary \n",
    "    \n",
    "    empty = [] # This is to store the actors names\n",
    "    for i in range(0,len(test)):\n",
    "        try:\n",
    "            empty.append(test[i].split(' as')[0])\n",
    "        except:\n",
    "            continue\n",
    "        \n",
    "    character = [] # This is to store the characters they played names\n",
    "    for i in range(0,len(test)):\n",
    "        start = test[i].find('as') + 3\n",
    "        end = test[i].find(':', start)\n",
    "        character.append(test[i][start:end])\n",
    "        \n",
    "    role = [] # This is to store the roles\n",
    "    for i in range(0,len(test)):\n",
    "        if ':' not in test[i]:\n",
    "            try:\n",
    "                role.append(test[i].split(' as ')[1])\n",
    "            except:\n",
    "                continue\n",
    "\n",
    "        else:    \n",
    "            start = test[i].find(':') + 1\n",
    "            end = test[i].find('. ', start)\n",
    "            role.append(test[i][start:end])\n",
    "        \n",
    "    dictlist = ['name','character','role'] # This stores the dictionary keys\n",
    "    zipped = list(zip(empty,character,role)) # Zip all 3 lists above into list of lists\n",
    "    \n",
    "    for i in zipped:\n",
    "\n",
    "        emptydict.append(dict(zip(dictlist,i))) # This converts list of lists to dictionary\n",
    "        \n",
    "    return emptydict"
   ]
  },
  {
   "cell_type": "code",
   "execution_count": 59,
   "metadata": {},
   "outputs": [
    {
     "name": "stderr",
     "output_type": "stream",
     "text": [
      "100%|██████████| 31004/31004 [00:01<00:00, 22932.22it/s]\n",
      "100%|██████████| 31004/31004 [00:08<00:00, 3871.92it/s]\n",
      "100%|██████████| 31004/31004 [00:07<00:00, 3985.82it/s]\n"
     ]
    }
   ],
   "source": [
    "# Find get cast dictionary\n",
    "df_movies_update['cast_dict'] = df_movies_update['cast'].progress_apply(cast_roles)\n",
    "\n",
    "df_movies_updated = df_movies_update.copy()\n",
    "\n",
    "df_movies_updated = df_movies_updated[['imdb_title_id','original_title','cast_dict']]\n",
    "\n",
    "df_movies_updated = df_movies_updated[(df_movies_updated['cast_dict'].notnull()) & (df_movies_updated['cast_dict']!='missing')]\n",
    "\n",
    "Idx=df_movies_updated.set_index(['imdb_title_id','original_title']).cast_dict.progress_apply(pd.Series).stack().index\n",
    "# https://stackoverflow.com/questions/46220941/pandas-unpack-a-column-with-list-of-dict-values-into-multiple-columns\n",
    "\n",
    "df_movies_updated = pd.DataFrame(df_movies_updated.set_index(['imdb_title_id']).cast_dict.progress_apply(pd.Series).stack().values.tolist(),index=Idx).reset_index().drop('level_2',1)\n",
    "# https://stackoverflow.com/questions/46220941/pandas-unpack-a-column-with-list-of-dict-values-into-multiple-columns"
   ]
  },
  {
   "cell_type": "markdown",
   "metadata": {},
   "source": [
    "### 3.4.2 Function to Handle Scrapped DataSets That are not separated by *\\n*\n",
    "For some reason, the text in wikipedia in some cases was not separated by a paragraph space. So we did not find an occurence of '\\n', so this function breaks out our text into 3 discernable peices but is a slight modification of the above to handle this peculiar situation:\n",
    "1. Actor/Actress Name\n",
    "2. Actor/Actress Character name in the movies\n",
    "3. Actor/Actress Character Role in the movies"
   ]
  },
  {
   "cell_type": "code",
   "execution_count": 60,
   "metadata": {},
   "outputs": [],
   "source": [
    "def cast_roles_two (section):\n",
    "    \n",
    "    if section == 'missing': # This line is to handle error thrown in columns where cast == 'missing'\n",
    "        return 'missing'\n",
    "    \n",
    "    \n",
    "    try:\n",
    "        test = section.replace(\"\\n\", \" \")\n",
    "        test = test.replace(\"\\'\", \"\").split('.')# Split up scrapped cast data into list of paragraphs\n",
    "    except:\n",
    "        return 'missing'\n",
    "    \n",
    "    emptydict = [] # This list is to store zipped dictionary \n",
    "    \n",
    "    empty = [] # This is to store the actors names\n",
    "    for i in range(0,len(test)):\n",
    "        if ':' not in test[i]:\n",
    "            continue\n",
    "        else:\n",
    "            try:\n",
    "                empty.append(test[i].split(' as')[0].replace('[^\\w\\s]',''))\n",
    "            except:\n",
    "                continue\n",
    "\n",
    "    character = [] # This is to store the characters they played names\n",
    "    for i in range(0,len(test)):\n",
    "        if ':' not in test[i]:\n",
    "            continue\n",
    "        else:\n",
    "            start = test[i].find('as') + 3\n",
    "            end = test[i].find(':', start)\n",
    "            character.append(test[i][start:end])\n",
    "        \n",
    "    role = []\n",
    "    for i in range(0,len(test)):\n",
    "        if ':' not in test[i]:\n",
    "            continue\n",
    "\n",
    "        else:    \n",
    "            role.append(test[i].split(':')[1])\n",
    "#             start = test[i].find(':') + 1\n",
    "#             end = test[i].find('.', start)\n",
    "#             role.append(test[i][start:end])\n",
    "        \n",
    "    dictlist = ['name','character','role'] # This stores the dictionary keys\n",
    "    zipped = list(zip(empty,character,role)) # Zip all 3 lists above into list of lists\n",
    "    \n",
    "    for i in zipped:\n",
    "\n",
    "        emptydict.append(dict(zip(dictlist,i))) # This converts list of lists to dictionary\n",
    "        \n",
    "    return emptydict"
   ]
  },
  {
   "cell_type": "code",
   "execution_count": 61,
   "metadata": {},
   "outputs": [
    {
     "name": "stderr",
     "output_type": "stream",
     "text": [
      "100%|██████████| 31004/31004 [00:00<00:00, 124424.07it/s]\n",
      "100%|██████████| 31004/31004 [00:07<00:00, 4338.29it/s]\n",
      "100%|██████████| 31004/31004 [00:07<00:00, 4212.02it/s] \n"
     ]
    }
   ],
   "source": [
    "# Find get cast dictionary\n",
    "df_movies_update['cast_dict'] = df_movies_update['cast'].progress_apply(cast_roles_two)\n",
    "\n",
    "df_movies_updated_two = df_movies_update.copy()\n",
    "\n",
    "df_movies_updated_two = df_movies_updated_two[['imdb_title_id','original_title','cast_dict']]\n",
    "\n",
    "df_movies_updated_two = df_movies_updated_two[(df_movies_updated_two['cast_dict'].notnull()) & (df_movies_updated_two['cast_dict']!='missing')]\n",
    "\n",
    "Idx=df_movies_updated_two.set_index(['imdb_title_id','original_title']).cast_dict.progress_apply(pd.Series).stack().index\n",
    "# https://stackoverflow.com/questions/46220941/pandas-unpack-a-column-with-list-of-dict-values-into-multiple-columns\n",
    "\n",
    "df_movies_updated_two = pd.DataFrame(df_movies_updated_two.set_index(['imdb_title_id']).cast_dict.progress_apply(pd.Series).stack().values.tolist(),index=Idx).reset_index().drop('level_2',1)\n",
    "# https://stackoverflow.com/questions/46220941/pandas-unpack-a-column-with-list-of-dict-values-into-multiple-columns"
   ]
  },
  {
   "cell_type": "markdown",
   "metadata": {},
   "source": [
    "### 3.4.3 Joining Of our Two DataSets Above"
   ]
  },
  {
   "cell_type": "code",
   "execution_count": 63,
   "metadata": {},
   "outputs": [],
   "source": [
    "# Add the 2 dataframes together\n",
    "df_movies_updated = pd.concat([df_movies_updated, df_movies_updated_two])"
   ]
  },
  {
   "cell_type": "code",
   "execution_count": 64,
   "metadata": {},
   "outputs": [],
   "source": [
    "# Remove the punctuation marks created by second wikipedia scrapping\n",
    "df_movies_updated_two['name'] = df_movies_updated_two['name'].str.replace(r'[^\\w\\s]+', '')"
   ]
  },
  {
   "cell_type": "code",
   "execution_count": 65,
   "metadata": {},
   "outputs": [
    {
     "data": {
      "text/plain": [
       "(312223, 5)"
      ]
     },
     "execution_count": 65,
     "metadata": {},
     "output_type": "execute_result"
    }
   ],
   "source": [
    "df_movies_updated.shape # Inspect shape of the resulting dataframe"
   ]
  },
  {
   "cell_type": "code",
   "execution_count": 66,
   "metadata": {},
   "outputs": [
    {
     "data": {
      "text/html": [
       "<div>\n",
       "<style scoped>\n",
       "    .dataframe tbody tr th:only-of-type {\n",
       "        vertical-align: middle;\n",
       "    }\n",
       "\n",
       "    .dataframe tbody tr th {\n",
       "        vertical-align: top;\n",
       "    }\n",
       "\n",
       "    .dataframe thead th {\n",
       "        text-align: right;\n",
       "    }\n",
       "</style>\n",
       "<table border=\"1\" class=\"dataframe\">\n",
       "  <thead>\n",
       "    <tr style=\"text-align: right;\">\n",
       "      <th></th>\n",
       "      <th>imdb_title_id</th>\n",
       "      <th>original_title</th>\n",
       "      <th>name</th>\n",
       "      <th>character</th>\n",
       "      <th>role</th>\n",
       "    </tr>\n",
       "  </thead>\n",
       "  <tbody>\n",
       "    <tr>\n",
       "      <th>0</th>\n",
       "      <td>tt0000009</td>\n",
       "      <td>Miss Jerry</td>\n",
       "      <td>Blanche Bayliss (under the name \"Constance Art...</td>\n",
       "      <td>Miss Geraldine Holbrook (Miss Jerry</td>\n",
       "      <td>Miss Geraldine Holbrook (Miss Jerry)</td>\n",
       "    </tr>\n",
       "    <tr>\n",
       "      <th>1</th>\n",
       "      <td>tt0000009</td>\n",
       "      <td>Miss Jerry</td>\n",
       "      <td>William Courtenay</td>\n",
       "      <td>Walter Hamilto</td>\n",
       "      <td>Walter Hamilton</td>\n",
       "    </tr>\n",
       "    <tr>\n",
       "      <th>2</th>\n",
       "      <td>tt0000009</td>\n",
       "      <td>Miss Jerry</td>\n",
       "      <td>Chauncey Depew</td>\n",
       "      <td>Himself (Director of the New York Central Rail...</td>\n",
       "      <td>Himself (Director of the New York Central Rail...</td>\n",
       "    </tr>\n",
       "    <tr>\n",
       "      <th>3</th>\n",
       "      <td>tt0000574</td>\n",
       "      <td>The Story of the Kelly Gang</td>\n",
       "      <td>There is considerable uncertainty over who app...</td>\n",
       "      <td>ere is considerable uncertainty over who appea...</td>\n",
       "      <td>Dan Kelly</td>\n",
       "    </tr>\n",
       "    <tr>\n",
       "      <th>4</th>\n",
       "      <td>tt0000574</td>\n",
       "      <td>The Story of the Kelly Gang</td>\n",
       "      <td></td>\n",
       "      <td></td>\n",
       "      <td>the stunt double for the actress playing Kate ...</td>\n",
       "    </tr>\n",
       "  </tbody>\n",
       "</table>\n",
       "</div>"
      ],
      "text/plain": [
       "  imdb_title_id               original_title  \\\n",
       "0     tt0000009                   Miss Jerry   \n",
       "1     tt0000009                   Miss Jerry   \n",
       "2     tt0000009                   Miss Jerry   \n",
       "3     tt0000574  The Story of the Kelly Gang   \n",
       "4     tt0000574  The Story of the Kelly Gang   \n",
       "\n",
       "                                                name  \\\n",
       "0  Blanche Bayliss (under the name \"Constance Art...   \n",
       "1                                  William Courtenay   \n",
       "2                                     Chauncey Depew   \n",
       "3  There is considerable uncertainty over who app...   \n",
       "4                                                      \n",
       "\n",
       "                                           character  \\\n",
       "0                Miss Geraldine Holbrook (Miss Jerry   \n",
       "1                                     Walter Hamilto   \n",
       "2  Himself (Director of the New York Central Rail...   \n",
       "3  ere is considerable uncertainty over who appea...   \n",
       "4                                                      \n",
       "\n",
       "                                                role  \n",
       "0               Miss Geraldine Holbrook (Miss Jerry)  \n",
       "1                                    Walter Hamilton  \n",
       "2  Himself (Director of the New York Central Rail...  \n",
       "3                                          Dan Kelly  \n",
       "4  the stunt double for the actress playing Kate ...  "
      ]
     },
     "execution_count": 66,
     "metadata": {},
     "output_type": "execute_result"
    }
   ],
   "source": [
    "df_movies_updated.head() # Inspect head of resulting dataframe"
   ]
  },
  {
   "cell_type": "markdown",
   "metadata": {},
   "source": [
    "# 4.0 Align NameIDs with df_movies_updated\n",
    "\n",
    "Now we need to link our newly created dataframe in section 3.0 above to the imdb name ids. This is to allow us link and merge the tables."
   ]
  },
  {
   "cell_type": "code",
   "execution_count": 67,
   "metadata": {},
   "outputs": [
    {
     "data": {
      "text/html": [
       "<div>\n",
       "<style scoped>\n",
       "    .dataframe tbody tr th:only-of-type {\n",
       "        vertical-align: middle;\n",
       "    }\n",
       "\n",
       "    .dataframe tbody tr th {\n",
       "        vertical-align: top;\n",
       "    }\n",
       "\n",
       "    .dataframe thead th {\n",
       "        text-align: right;\n",
       "    }\n",
       "</style>\n",
       "<table border=\"1\" class=\"dataframe\">\n",
       "  <thead>\n",
       "    <tr style=\"text-align: right;\">\n",
       "      <th></th>\n",
       "      <th>imdb_name_id</th>\n",
       "      <th>name</th>\n",
       "    </tr>\n",
       "  </thead>\n",
       "  <tbody>\n",
       "    <tr>\n",
       "      <th>0</th>\n",
       "      <td>nm0000001</td>\n",
       "      <td>Fred Astaire</td>\n",
       "    </tr>\n",
       "    <tr>\n",
       "      <th>1</th>\n",
       "      <td>nm0000002</td>\n",
       "      <td>Lauren Bacall</td>\n",
       "    </tr>\n",
       "    <tr>\n",
       "      <th>2</th>\n",
       "      <td>nm0000003</td>\n",
       "      <td>Brigitte Bardot</td>\n",
       "    </tr>\n",
       "    <tr>\n",
       "      <th>3</th>\n",
       "      <td>nm0000004</td>\n",
       "      <td>John Belushi</td>\n",
       "    </tr>\n",
       "    <tr>\n",
       "      <th>4</th>\n",
       "      <td>nm0000005</td>\n",
       "      <td>Ingmar Bergman</td>\n",
       "    </tr>\n",
       "  </tbody>\n",
       "</table>\n",
       "</div>"
      ],
      "text/plain": [
       "  imdb_name_id             name\n",
       "0    nm0000001     Fred Astaire\n",
       "1    nm0000002    Lauren Bacall\n",
       "2    nm0000003  Brigitte Bardot\n",
       "3    nm0000004     John Belushi\n",
       "4    nm0000005   Ingmar Bergman"
      ]
     },
     "execution_count": 67,
     "metadata": {},
     "output_type": "execute_result"
    }
   ],
   "source": [
    "# Create a copy of the names dataframe and assign it pertinent columns ['imdb_name_id','name']\n",
    "scrape_df = df_names.copy()\n",
    "scrape_df = scrape_df[['imdb_name_id','name']]\n",
    "scrape_df.head()"
   ]
  },
  {
   "cell_type": "markdown",
   "metadata": {},
   "source": [
    "#### We then zip the Dataframe togetehr to create a dictionary where the name ID is the key and the name is the value"
   ]
  },
  {
   "cell_type": "code",
   "execution_count": 68,
   "metadata": {},
   "outputs": [],
   "source": [
    "imdb_dictionary = dict(zip(scrape_df['imdb_name_id'],scrape_df['name']))\n",
    "# Zip the 2 columns into a dictionary"
   ]
  },
  {
   "cell_type": "markdown",
   "metadata": {},
   "source": [
    "#### Function to assign name_id key based on name value"
   ]
  },
  {
   "cell_type": "code",
   "execution_count": 69,
   "metadata": {},
   "outputs": [],
   "source": [
    "def imdb_to_wiki (value):\n",
    "    for k,v in imdb_dictionary.items():\n",
    "        if v == value:\n",
    "            return k\n",
    "        else:\n",
    "            continue"
   ]
  },
  {
   "cell_type": "markdown",
   "metadata": {},
   "source": [
    "#### Application of our naming Function"
   ]
  },
  {
   "cell_type": "code",
   "execution_count": 71,
   "metadata": {},
   "outputs": [
    {
     "name": "stderr",
     "output_type": "stream",
     "text": [
      "100%|██████████| 312223/312223 [46:52<00:00, 111.02it/s] \n"
     ]
    }
   ],
   "source": [
    "df_movies_updated['imdb_name_id'] = df_movies_updated['name'].progress_apply(imdb_to_wiki)\n",
    "# TQDM apply and track progress of key extraction from Dictionary"
   ]
  },
  {
   "cell_type": "markdown",
   "metadata": {},
   "source": [
    "#### Here we inspect to see how many name_ids were properly linked"
   ]
  },
  {
   "cell_type": "code",
   "execution_count": 74,
   "metadata": {},
   "outputs": [
    {
     "data": {
      "text/plain": [
       "imdb_title_id          0\n",
       "original_title         0\n",
       "name                   0\n",
       "character              0\n",
       "role                   0\n",
       "imdb_name_id      110722\n",
       "dtype: int64"
      ]
     },
     "execution_count": 74,
     "metadata": {},
     "output_type": "execute_result"
    }
   ],
   "source": [
    "df_movies_updated.isnull().sum() # Check null value sums"
   ]
  },
  {
   "cell_type": "code",
   "execution_count": 76,
   "metadata": {},
   "outputs": [],
   "source": [
    "df_movies_updated.dropna(subset=['imdb_name_id'], inplace= True)"
   ]
  },
  {
   "cell_type": "markdown",
   "metadata": {},
   "source": [
    "# 5.0 Merge Updated Movie Data Frame (with roles) to Principals DataFrame\n",
    "\n",
    "With the name IDs in place, we merge it with the IMDB Principal Titles DataFrame, this will enable use link to some interesting data features, such as movie ordering."
   ]
  },
  {
   "cell_type": "code",
   "execution_count": 77,
   "metadata": {},
   "outputs": [
    {
     "data": {
      "text/plain": [
       "(835513, 6)"
      ]
     },
     "execution_count": 77,
     "metadata": {},
     "output_type": "execute_result"
    }
   ],
   "source": [
    "df_title_principals.shape # Inspect shape of DataFrame"
   ]
  },
  {
   "cell_type": "code",
   "execution_count": 78,
   "metadata": {},
   "outputs": [
    {
     "data": {
      "text/plain": [
       "(201501, 6)"
      ]
     },
     "execution_count": 78,
     "metadata": {},
     "output_type": "execute_result"
    }
   ],
   "source": [
    "df_movies_updated.shape # Inspect shape of DataFrame"
   ]
  },
  {
   "cell_type": "code",
   "execution_count": 79,
   "metadata": {},
   "outputs": [],
   "source": [
    "df = pd.merge(df_title_principals, df_movies_updated, on=[\"imdb_title_id\",\"imdb_name_id\"], how='inner')\n",
    "# Inner Merge the 2 dataframes"
   ]
  },
  {
   "cell_type": "code",
   "execution_count": 80,
   "metadata": {},
   "outputs": [
    {
     "data": {
      "text/html": [
       "<div>\n",
       "<style scoped>\n",
       "    .dataframe tbody tr th:only-of-type {\n",
       "        vertical-align: middle;\n",
       "    }\n",
       "\n",
       "    .dataframe tbody tr th {\n",
       "        vertical-align: top;\n",
       "    }\n",
       "\n",
       "    .dataframe thead th {\n",
       "        text-align: right;\n",
       "    }\n",
       "</style>\n",
       "<table border=\"1\" class=\"dataframe\">\n",
       "  <thead>\n",
       "    <tr style=\"text-align: right;\">\n",
       "      <th></th>\n",
       "      <th>imdb_title_id</th>\n",
       "      <th>ordering</th>\n",
       "      <th>imdb_name_id</th>\n",
       "      <th>category</th>\n",
       "      <th>job</th>\n",
       "      <th>characters</th>\n",
       "      <th>original_title</th>\n",
       "      <th>name</th>\n",
       "      <th>character</th>\n",
       "      <th>role</th>\n",
       "    </tr>\n",
       "  </thead>\n",
       "  <tbody>\n",
       "    <tr>\n",
       "      <th>0</th>\n",
       "      <td>tt0000009</td>\n",
       "      <td>2</td>\n",
       "      <td>nm0183823</td>\n",
       "      <td>actor</td>\n",
       "      <td>NaN</td>\n",
       "      <td>[\"Mr. Hamilton\"]</td>\n",
       "      <td>Miss Jerry</td>\n",
       "      <td>William Courtenay</td>\n",
       "      <td>Walter Hamilto</td>\n",
       "      <td>Walter Hamilton</td>\n",
       "    </tr>\n",
       "    <tr>\n",
       "      <th>1</th>\n",
       "      <td>tt0000009</td>\n",
       "      <td>3</td>\n",
       "      <td>nm1309758</td>\n",
       "      <td>actor</td>\n",
       "      <td>NaN</td>\n",
       "      <td>[\"Chauncey Depew - the Director of the New Yor...</td>\n",
       "      <td>Miss Jerry</td>\n",
       "      <td>Chauncey Depew</td>\n",
       "      <td>Himself (Director of the New York Central Rail...</td>\n",
       "      <td>Himself (Director of the New York Central Rail...</td>\n",
       "    </tr>\n",
       "    <tr>\n",
       "      <th>2</th>\n",
       "      <td>tt0000574</td>\n",
       "      <td>1</td>\n",
       "      <td>nm0846887</td>\n",
       "      <td>actress</td>\n",
       "      <td>NaN</td>\n",
       "      <td>[\"Kate Kelly\"]</td>\n",
       "      <td>The Story of the Kelly Gang</td>\n",
       "      <td>Elizabeth Tait</td>\n",
       "      <td>the stunt double for the actress playing Kate ...</td>\n",
       "      <td>Steve Hart</td>\n",
       "    </tr>\n",
       "    <tr>\n",
       "      <th>3</th>\n",
       "      <td>tt0002101</td>\n",
       "      <td>1</td>\n",
       "      <td>nm0306947</td>\n",
       "      <td>actress</td>\n",
       "      <td>NaN</td>\n",
       "      <td>[\"Cleopatra - Queen of Egypt\"]</td>\n",
       "      <td>Cleopatra</td>\n",
       "      <td>Helen Gardner</td>\n",
       "      <td>Cleopatra - Queen of Egyp</td>\n",
       "      <td>Cleopatra - Queen of Egypt</td>\n",
       "    </tr>\n",
       "    <tr>\n",
       "      <th>4</th>\n",
       "      <td>tt0002101</td>\n",
       "      <td>2</td>\n",
       "      <td>nm0801774</td>\n",
       "      <td>actress</td>\n",
       "      <td>NaN</td>\n",
       "      <td>[\"Iras - An Attendant\"]</td>\n",
       "      <td>Cleopatra</td>\n",
       "      <td>Pearl Sindelar</td>\n",
       "      <td>Iras - An attendan</td>\n",
       "      <td>Iras - An attendant</td>\n",
       "    </tr>\n",
       "  </tbody>\n",
       "</table>\n",
       "</div>"
      ],
      "text/plain": [
       "  imdb_title_id  ordering imdb_name_id category  job  \\\n",
       "0     tt0000009         2    nm0183823    actor  NaN   \n",
       "1     tt0000009         3    nm1309758    actor  NaN   \n",
       "2     tt0000574         1    nm0846887  actress  NaN   \n",
       "3     tt0002101         1    nm0306947  actress  NaN   \n",
       "4     tt0002101         2    nm0801774  actress  NaN   \n",
       "\n",
       "                                          characters  \\\n",
       "0                                   [\"Mr. Hamilton\"]   \n",
       "1  [\"Chauncey Depew - the Director of the New Yor...   \n",
       "2                                     [\"Kate Kelly\"]   \n",
       "3                     [\"Cleopatra - Queen of Egypt\"]   \n",
       "4                            [\"Iras - An Attendant\"]   \n",
       "\n",
       "                original_title               name  \\\n",
       "0                   Miss Jerry  William Courtenay   \n",
       "1                   Miss Jerry     Chauncey Depew   \n",
       "2  The Story of the Kelly Gang     Elizabeth Tait   \n",
       "3                    Cleopatra      Helen Gardner   \n",
       "4                    Cleopatra     Pearl Sindelar   \n",
       "\n",
       "                                           character  \\\n",
       "0                                     Walter Hamilto   \n",
       "1  Himself (Director of the New York Central Rail...   \n",
       "2  the stunt double for the actress playing Kate ...   \n",
       "3                          Cleopatra - Queen of Egyp   \n",
       "4                                 Iras - An attendan   \n",
       "\n",
       "                                                role  \n",
       "0                                    Walter Hamilton  \n",
       "1  Himself (Director of the New York Central Rail...  \n",
       "2                                         Steve Hart  \n",
       "3                         Cleopatra - Queen of Egypt  \n",
       "4                                Iras - An attendant  "
      ]
     },
     "execution_count": 80,
     "metadata": {},
     "output_type": "execute_result"
    }
   ],
   "source": [
    "df.head() # Inspect head of DataFrame, here we see how well we scrapped and merged datasets"
   ]
  },
  {
   "cell_type": "code",
   "execution_count": 82,
   "metadata": {},
   "outputs": [
    {
     "data": {
      "text/plain": [
       "(89736, 10)"
      ]
     },
     "execution_count": 82,
     "metadata": {},
     "output_type": "execute_result"
    }
   ],
   "source": [
    "df.shape"
   ]
  },
  {
   "cell_type": "markdown",
   "metadata": {},
   "source": [
    "# 6.0 Final Merge to Movie imdb DataFrame\n",
    "This links our current dataframe to the imdb movie dataframe"
   ]
  },
  {
   "cell_type": "code",
   "execution_count": 99,
   "metadata": {},
   "outputs": [],
   "source": [
    "df_final = pd.merge(df_movies, df, on=[\"imdb_title_id\"], how='inner')\n",
    "# Inner Merge with movie IMDB dataframe"
   ]
  },
  {
   "cell_type": "code",
   "execution_count": 100,
   "metadata": {},
   "outputs": [],
   "source": [
    "df_final = pd.merge(df_names, df_final, on=[\"imdb_name_id\"], how='inner')\n",
    "# Inner Merge resulting with name IMDB dataframe"
   ]
  },
  {
   "cell_type": "code",
   "execution_count": 101,
   "metadata": {},
   "outputs": [
    {
     "data": {
      "text/plain": [
       "(89736, 47)"
      ]
     },
     "execution_count": 101,
     "metadata": {},
     "output_type": "execute_result"
    }
   ],
   "source": [
    "df_final.shape # DataFrame Shape"
   ]
  },
  {
   "cell_type": "code",
   "execution_count": 102,
   "metadata": {},
   "outputs": [
    {
     "data": {
      "text/plain": [
       "Index(['imdb_name_id', 'name_x', 'birth_name', 'height', 'bio',\n",
       "       'birth_details', 'date_of_birth', 'place_of_birth', 'death_details',\n",
       "       'date_of_death', 'place_of_death', 'reason_of_death', 'spouses_string',\n",
       "       'spouses', 'divorces', 'spouses_with_children', 'children',\n",
       "       'imdb_title_id', 'title', 'original_title_x', 'year', 'date_published',\n",
       "       'genre', 'duration', 'country', 'language', 'director', 'writer',\n",
       "       'production_company', 'actors', 'description', 'avg_vote', 'votes',\n",
       "       'budget', 'usa_gross_income', 'worlwide_gross_income', 'metascore',\n",
       "       'reviews_from_users', 'reviews_from_critics', 'ordering', 'category',\n",
       "       'job', 'characters', 'original_title_y', 'name_y', 'character', 'role'],\n",
       "      dtype='object')"
      ]
     },
     "execution_count": 102,
     "metadata": {},
     "output_type": "execute_result"
    }
   ],
   "source": [
    "df_final.columns # Inspect DataFrame column titles"
   ]
  },
  {
   "cell_type": "code",
   "execution_count": 103,
   "metadata": {
    "scrolled": false
   },
   "outputs": [
    {
     "data": {
      "text/html": [
       "<div>\n",
       "<style scoped>\n",
       "    .dataframe tbody tr th:only-of-type {\n",
       "        vertical-align: middle;\n",
       "    }\n",
       "\n",
       "    .dataframe tbody tr th {\n",
       "        vertical-align: top;\n",
       "    }\n",
       "\n",
       "    .dataframe thead th {\n",
       "        text-align: right;\n",
       "    }\n",
       "</style>\n",
       "<table border=\"1\" class=\"dataframe\">\n",
       "  <thead>\n",
       "    <tr style=\"text-align: right;\">\n",
       "      <th></th>\n",
       "      <th>0</th>\n",
       "      <th>1</th>\n",
       "      <th>2</th>\n",
       "      <th>3</th>\n",
       "      <th>4</th>\n",
       "    </tr>\n",
       "  </thead>\n",
       "  <tbody>\n",
       "    <tr>\n",
       "      <th>imdb_name_id</th>\n",
       "      <td>nm0000001</td>\n",
       "      <td>nm0000001</td>\n",
       "      <td>nm0000001</td>\n",
       "      <td>nm0000001</td>\n",
       "      <td>nm0000001</td>\n",
       "    </tr>\n",
       "    <tr>\n",
       "      <th>name_x</th>\n",
       "      <td>Fred Astaire</td>\n",
       "      <td>Fred Astaire</td>\n",
       "      <td>Fred Astaire</td>\n",
       "      <td>Fred Astaire</td>\n",
       "      <td>Fred Astaire</td>\n",
       "    </tr>\n",
       "    <tr>\n",
       "      <th>birth_name</th>\n",
       "      <td>Frederic Austerlitz Jr.</td>\n",
       "      <td>Frederic Austerlitz Jr.</td>\n",
       "      <td>Frederic Austerlitz Jr.</td>\n",
       "      <td>Frederic Austerlitz Jr.</td>\n",
       "      <td>Frederic Austerlitz Jr.</td>\n",
       "    </tr>\n",
       "    <tr>\n",
       "      <th>height</th>\n",
       "      <td>177.0</td>\n",
       "      <td>177.0</td>\n",
       "      <td>177.0</td>\n",
       "      <td>177.0</td>\n",
       "      <td>177.0</td>\n",
       "    </tr>\n",
       "    <tr>\n",
       "      <th>bio</th>\n",
       "      <td>Fred Astaire was born in Omaha, Nebraska, to J...</td>\n",
       "      <td>Fred Astaire was born in Omaha, Nebraska, to J...</td>\n",
       "      <td>Fred Astaire was born in Omaha, Nebraska, to J...</td>\n",
       "      <td>Fred Astaire was born in Omaha, Nebraska, to J...</td>\n",
       "      <td>Fred Astaire was born in Omaha, Nebraska, to J...</td>\n",
       "    </tr>\n",
       "    <tr>\n",
       "      <th>birth_details</th>\n",
       "      <td>May 10, 1899 in Omaha, Nebraska, USA</td>\n",
       "      <td>May 10, 1899 in Omaha, Nebraska, USA</td>\n",
       "      <td>May 10, 1899 in Omaha, Nebraska, USA</td>\n",
       "      <td>May 10, 1899 in Omaha, Nebraska, USA</td>\n",
       "      <td>May 10, 1899 in Omaha, Nebraska, USA</td>\n",
       "    </tr>\n",
       "    <tr>\n",
       "      <th>date_of_birth</th>\n",
       "      <td>1899-05-10</td>\n",
       "      <td>1899-05-10</td>\n",
       "      <td>1899-05-10</td>\n",
       "      <td>1899-05-10</td>\n",
       "      <td>1899-05-10</td>\n",
       "    </tr>\n",
       "    <tr>\n",
       "      <th>place_of_birth</th>\n",
       "      <td>Omaha, Nebraska, USA</td>\n",
       "      <td>Omaha, Nebraska, USA</td>\n",
       "      <td>Omaha, Nebraska, USA</td>\n",
       "      <td>Omaha, Nebraska, USA</td>\n",
       "      <td>Omaha, Nebraska, USA</td>\n",
       "    </tr>\n",
       "    <tr>\n",
       "      <th>death_details</th>\n",
       "      <td>June 22, 1987 in Los Angeles, California, USA ...</td>\n",
       "      <td>June 22, 1987 in Los Angeles, California, USA ...</td>\n",
       "      <td>June 22, 1987 in Los Angeles, California, USA ...</td>\n",
       "      <td>June 22, 1987 in Los Angeles, California, USA ...</td>\n",
       "      <td>June 22, 1987 in Los Angeles, California, USA ...</td>\n",
       "    </tr>\n",
       "    <tr>\n",
       "      <th>date_of_death</th>\n",
       "      <td>1987-06-22</td>\n",
       "      <td>1987-06-22</td>\n",
       "      <td>1987-06-22</td>\n",
       "      <td>1987-06-22</td>\n",
       "      <td>1987-06-22</td>\n",
       "    </tr>\n",
       "    <tr>\n",
       "      <th>place_of_death</th>\n",
       "      <td>Los Angeles, California, USA</td>\n",
       "      <td>Los Angeles, California, USA</td>\n",
       "      <td>Los Angeles, California, USA</td>\n",
       "      <td>Los Angeles, California, USA</td>\n",
       "      <td>Los Angeles, California, USA</td>\n",
       "    </tr>\n",
       "    <tr>\n",
       "      <th>reason_of_death</th>\n",
       "      <td>pneumonia</td>\n",
       "      <td>pneumonia</td>\n",
       "      <td>pneumonia</td>\n",
       "      <td>pneumonia</td>\n",
       "      <td>pneumonia</td>\n",
       "    </tr>\n",
       "    <tr>\n",
       "      <th>spouses_string</th>\n",
       "      <td>Robyn Smith  (27 June 1980 - 22 June 1987) (hi...</td>\n",
       "      <td>Robyn Smith  (27 June 1980 - 22 June 1987) (hi...</td>\n",
       "      <td>Robyn Smith  (27 June 1980 - 22 June 1987) (hi...</td>\n",
       "      <td>Robyn Smith  (27 June 1980 - 22 June 1987) (hi...</td>\n",
       "      <td>Robyn Smith  (27 June 1980 - 22 June 1987) (hi...</td>\n",
       "    </tr>\n",
       "    <tr>\n",
       "      <th>spouses</th>\n",
       "      <td>2</td>\n",
       "      <td>2</td>\n",
       "      <td>2</td>\n",
       "      <td>2</td>\n",
       "      <td>2</td>\n",
       "    </tr>\n",
       "    <tr>\n",
       "      <th>divorces</th>\n",
       "      <td>0</td>\n",
       "      <td>0</td>\n",
       "      <td>0</td>\n",
       "      <td>0</td>\n",
       "      <td>0</td>\n",
       "    </tr>\n",
       "    <tr>\n",
       "      <th>spouses_with_children</th>\n",
       "      <td>1</td>\n",
       "      <td>1</td>\n",
       "      <td>1</td>\n",
       "      <td>1</td>\n",
       "      <td>1</td>\n",
       "    </tr>\n",
       "    <tr>\n",
       "      <th>children</th>\n",
       "      <td>2</td>\n",
       "      <td>2</td>\n",
       "      <td>2</td>\n",
       "      <td>2</td>\n",
       "      <td>2</td>\n",
       "    </tr>\n",
       "    <tr>\n",
       "      <th>imdb_title_id</th>\n",
       "      <td>tt0025164</td>\n",
       "      <td>tt0026942</td>\n",
       "      <td>tt0028333</td>\n",
       "      <td>tt0028757</td>\n",
       "      <td>tt0029546</td>\n",
       "    </tr>\n",
       "    <tr>\n",
       "      <th>title</th>\n",
       "      <td>Cerco il mio amore</td>\n",
       "      <td>Roberta</td>\n",
       "      <td>Follie d'inverno</td>\n",
       "      <td>Una magnifica avventura</td>\n",
       "      <td>Voglio danzare con te</td>\n",
       "    </tr>\n",
       "    <tr>\n",
       "      <th>original_title_x</th>\n",
       "      <td>The Gay Divorcee</td>\n",
       "      <td>Roberta</td>\n",
       "      <td>Swing Time</td>\n",
       "      <td>A Damsel in Distress</td>\n",
       "      <td>Shall We Dance</td>\n",
       "    </tr>\n",
       "    <tr>\n",
       "      <th>year</th>\n",
       "      <td>1934</td>\n",
       "      <td>1935</td>\n",
       "      <td>1936</td>\n",
       "      <td>1937</td>\n",
       "      <td>1937</td>\n",
       "    </tr>\n",
       "    <tr>\n",
       "      <th>date_published</th>\n",
       "      <td>1934-10-12</td>\n",
       "      <td>1935-03-08</td>\n",
       "      <td>1938-02-24</td>\n",
       "      <td>1937-11-19</td>\n",
       "      <td>1937-10-27</td>\n",
       "    </tr>\n",
       "    <tr>\n",
       "      <th>genre</th>\n",
       "      <td>Comedy, Musical, Romance</td>\n",
       "      <td>Comedy, Musical, Romance</td>\n",
       "      <td>Comedy, Musical, Romance</td>\n",
       "      <td>Comedy, Music, Romance</td>\n",
       "      <td>Comedy, Musical, Romance</td>\n",
       "    </tr>\n",
       "    <tr>\n",
       "      <th>duration</th>\n",
       "      <td>107</td>\n",
       "      <td>106</td>\n",
       "      <td>103</td>\n",
       "      <td>101</td>\n",
       "      <td>109</td>\n",
       "    </tr>\n",
       "    <tr>\n",
       "      <th>country</th>\n",
       "      <td>USA</td>\n",
       "      <td>USA</td>\n",
       "      <td>USA</td>\n",
       "      <td>USA</td>\n",
       "      <td>USA</td>\n",
       "    </tr>\n",
       "    <tr>\n",
       "      <th>language</th>\n",
       "      <td>English, French, Italian</td>\n",
       "      <td>English, French, Russian</td>\n",
       "      <td>English, French</td>\n",
       "      <td>English</td>\n",
       "      <td>English, French</td>\n",
       "    </tr>\n",
       "    <tr>\n",
       "      <th>director</th>\n",
       "      <td>Mark Sandrich</td>\n",
       "      <td>William A. Seiter</td>\n",
       "      <td>George Stevens</td>\n",
       "      <td>George Stevens</td>\n",
       "      <td>Mark Sandrich</td>\n",
       "    </tr>\n",
       "    <tr>\n",
       "      <th>writer</th>\n",
       "      <td>Dwight Taylor, Kenneth S. Webb</td>\n",
       "      <td>Jerome Kern, Otto A. Harbach</td>\n",
       "      <td>Howard Lindsay, Allan Scott</td>\n",
       "      <td>P.G. Wodehouse, Ian Hay</td>\n",
       "      <td>Allan Scott, Ernest Pagano</td>\n",
       "    </tr>\n",
       "    <tr>\n",
       "      <th>production_company</th>\n",
       "      <td>RKO Radio Pictures</td>\n",
       "      <td>RKO Radio Pictures</td>\n",
       "      <td>RKO Radio Pictures</td>\n",
       "      <td>RKO Radio Pictures</td>\n",
       "      <td>RKO Radio Pictures</td>\n",
       "    </tr>\n",
       "    <tr>\n",
       "      <th>actors</th>\n",
       "      <td>Fred Astaire, Ginger Rogers, Alice Brady, Edwa...</td>\n",
       "      <td>Irene Dunne, Fred Astaire, Ginger Rogers, Rand...</td>\n",
       "      <td>Fred Astaire, Ginger Rogers, Victor Moore, Hel...</td>\n",
       "      <td>Fred Astaire, George Burns, Gracie Allen, Joan...</td>\n",
       "      <td>Fred Astaire, Ginger Rogers, Edward Everett Ho...</td>\n",
       "    </tr>\n",
       "    <tr>\n",
       "      <th>description</th>\n",
       "      <td>An American woman travels to England to seek a...</td>\n",
       "      <td>In Paris, a man clueless about fashion suddenl...</td>\n",
       "      <td>A performer and gambler travels to New York Ci...</td>\n",
       "      <td>Lady Alyce Marshmorton must marry soon, and th...</td>\n",
       "      <td>A budding romance between a ballet master and ...</td>\n",
       "    </tr>\n",
       "    <tr>\n",
       "      <th>avg_vote</th>\n",
       "      <td>7.5</td>\n",
       "      <td>7.1</td>\n",
       "      <td>7.6</td>\n",
       "      <td>6.8</td>\n",
       "      <td>7.5</td>\n",
       "    </tr>\n",
       "    <tr>\n",
       "      <th>votes</th>\n",
       "      <td>6797</td>\n",
       "      <td>2860</td>\n",
       "      <td>11998</td>\n",
       "      <td>1736</td>\n",
       "      <td>6414</td>\n",
       "    </tr>\n",
       "    <tr>\n",
       "      <th>budget</th>\n",
       "      <td>$ 520000</td>\n",
       "      <td>$ 610000</td>\n",
       "      <td>$ 886000</td>\n",
       "      <td>$ 1035000</td>\n",
       "      <td>$ 991000</td>\n",
       "    </tr>\n",
       "    <tr>\n",
       "      <th>usa_gross_income</th>\n",
       "      <td>NaN</td>\n",
       "      <td>NaN</td>\n",
       "      <td>NaN</td>\n",
       "      <td>NaN</td>\n",
       "      <td>NaN</td>\n",
       "    </tr>\n",
       "    <tr>\n",
       "      <th>worlwide_gross_income</th>\n",
       "      <td>$ 6750</td>\n",
       "      <td>$ 2493</td>\n",
       "      <td>$ 4961</td>\n",
       "      <td>NaN</td>\n",
       "      <td>$ 6662</td>\n",
       "    </tr>\n",
       "    <tr>\n",
       "      <th>metascore</th>\n",
       "      <td>80.0</td>\n",
       "      <td>66.0</td>\n",
       "      <td>91.0</td>\n",
       "      <td>NaN</td>\n",
       "      <td>NaN</td>\n",
       "    </tr>\n",
       "    <tr>\n",
       "      <th>reviews_from_users</th>\n",
       "      <td>61.0</td>\n",
       "      <td>67.0</td>\n",
       "      <td>98.0</td>\n",
       "      <td>39.0</td>\n",
       "      <td>60.0</td>\n",
       "    </tr>\n",
       "    <tr>\n",
       "      <th>reviews_from_critics</th>\n",
       "      <td>42.0</td>\n",
       "      <td>20.0</td>\n",
       "      <td>74.0</td>\n",
       "      <td>17.0</td>\n",
       "      <td>23.0</td>\n",
       "    </tr>\n",
       "    <tr>\n",
       "      <th>ordering</th>\n",
       "      <td>1</td>\n",
       "      <td>2</td>\n",
       "      <td>1</td>\n",
       "      <td>1</td>\n",
       "      <td>1</td>\n",
       "    </tr>\n",
       "    <tr>\n",
       "      <th>category</th>\n",
       "      <td>actor</td>\n",
       "      <td>actor</td>\n",
       "      <td>actor</td>\n",
       "      <td>actor</td>\n",
       "      <td>actor</td>\n",
       "    </tr>\n",
       "    <tr>\n",
       "      <th>job</th>\n",
       "      <td>NaN</td>\n",
       "      <td>NaN</td>\n",
       "      <td>NaN</td>\n",
       "      <td>NaN</td>\n",
       "      <td>NaN</td>\n",
       "    </tr>\n",
       "    <tr>\n",
       "      <th>characters</th>\n",
       "      <td>[\"Guy Holden\"]</td>\n",
       "      <td>[\"Huck Haines\"]</td>\n",
       "      <td>[\"Lucky Garnett\"]</td>\n",
       "      <td>[\"Jerry Halliday\"]</td>\n",
       "      <td>[\"Peter P. Peters aka Petrov\"]</td>\n",
       "    </tr>\n",
       "    <tr>\n",
       "      <th>original_title_y</th>\n",
       "      <td>The Gay Divorcee</td>\n",
       "      <td>Roberta</td>\n",
       "      <td>Swing Time</td>\n",
       "      <td>A Damsel in Distress</td>\n",
       "      <td>Shall We Dance</td>\n",
       "    </tr>\n",
       "    <tr>\n",
       "      <th>name_y</th>\n",
       "      <td>Fred Astaire</td>\n",
       "      <td>Fred Astaire</td>\n",
       "      <td>Fred Astaire</td>\n",
       "      <td>Fred Astaire</td>\n",
       "      <td>Fred Astaire</td>\n",
       "    </tr>\n",
       "    <tr>\n",
       "      <th>character</th>\n",
       "      <td>Guy Holde</td>\n",
       "      <td>Huc</td>\n",
       "      <td>John \"Lucky\" Garnet</td>\n",
       "      <td>Jerr</td>\n",
       "      <td>Peter P. \"Petrov\" Peter</td>\n",
       "    </tr>\n",
       "    <tr>\n",
       "      <th>role</th>\n",
       "      <td>Guy Holden</td>\n",
       "      <td>Huck</td>\n",
       "      <td>John \"Lucky\" Garnett</td>\n",
       "      <td>Jerry</td>\n",
       "      <td>Peter P. \"Petrov\" Peters</td>\n",
       "    </tr>\n",
       "  </tbody>\n",
       "</table>\n",
       "</div>"
      ],
      "text/plain": [
       "                                                                       0  \\\n",
       "imdb_name_id                                                   nm0000001   \n",
       "name_x                                                      Fred Astaire   \n",
       "birth_name                                       Frederic Austerlitz Jr.   \n",
       "height                                                             177.0   \n",
       "bio                    Fred Astaire was born in Omaha, Nebraska, to J...   \n",
       "birth_details                       May 10, 1899 in Omaha, Nebraska, USA   \n",
       "date_of_birth                                                 1899-05-10   \n",
       "place_of_birth                                      Omaha, Nebraska, USA   \n",
       "death_details          June 22, 1987 in Los Angeles, California, USA ...   \n",
       "date_of_death                                                 1987-06-22   \n",
       "place_of_death                            Los Angeles, California, USA     \n",
       "reason_of_death                                                pneumonia   \n",
       "spouses_string         Robyn Smith  (27 June 1980 - 22 June 1987) (hi...   \n",
       "spouses                                                                2   \n",
       "divorces                                                               0   \n",
       "spouses_with_children                                                  1   \n",
       "children                                                               2   \n",
       "imdb_title_id                                                  tt0025164   \n",
       "title                                                 Cerco il mio amore   \n",
       "original_title_x                                        The Gay Divorcee   \n",
       "year                                                                1934   \n",
       "date_published                                                1934-10-12   \n",
       "genre                                           Comedy, Musical, Romance   \n",
       "duration                                                             107   \n",
       "country                                                              USA   \n",
       "language                                        English, French, Italian   \n",
       "director                                                   Mark Sandrich   \n",
       "writer                                    Dwight Taylor, Kenneth S. Webb   \n",
       "production_company                                    RKO Radio Pictures   \n",
       "actors                 Fred Astaire, Ginger Rogers, Alice Brady, Edwa...   \n",
       "description            An American woman travels to England to seek a...   \n",
       "avg_vote                                                             7.5   \n",
       "votes                                                               6797   \n",
       "budget                                                          $ 520000   \n",
       "usa_gross_income                                                     NaN   \n",
       "worlwide_gross_income                                             $ 6750   \n",
       "metascore                                                           80.0   \n",
       "reviews_from_users                                                  61.0   \n",
       "reviews_from_critics                                                42.0   \n",
       "ordering                                                               1   \n",
       "category                                                           actor   \n",
       "job                                                                  NaN   \n",
       "characters                                                [\"Guy Holden\"]   \n",
       "original_title_y                                        The Gay Divorcee   \n",
       "name_y                                                      Fred Astaire   \n",
       "character                                                      Guy Holde   \n",
       "role                                                          Guy Holden   \n",
       "\n",
       "                                                                       1  \\\n",
       "imdb_name_id                                                   nm0000001   \n",
       "name_x                                                      Fred Astaire   \n",
       "birth_name                                       Frederic Austerlitz Jr.   \n",
       "height                                                             177.0   \n",
       "bio                    Fred Astaire was born in Omaha, Nebraska, to J...   \n",
       "birth_details                       May 10, 1899 in Omaha, Nebraska, USA   \n",
       "date_of_birth                                                 1899-05-10   \n",
       "place_of_birth                                      Omaha, Nebraska, USA   \n",
       "death_details          June 22, 1987 in Los Angeles, California, USA ...   \n",
       "date_of_death                                                 1987-06-22   \n",
       "place_of_death                            Los Angeles, California, USA     \n",
       "reason_of_death                                                pneumonia   \n",
       "spouses_string         Robyn Smith  (27 June 1980 - 22 June 1987) (hi...   \n",
       "spouses                                                                2   \n",
       "divorces                                                               0   \n",
       "spouses_with_children                                                  1   \n",
       "children                                                               2   \n",
       "imdb_title_id                                                  tt0026942   \n",
       "title                                                            Roberta   \n",
       "original_title_x                                                 Roberta   \n",
       "year                                                                1935   \n",
       "date_published                                                1935-03-08   \n",
       "genre                                           Comedy, Musical, Romance   \n",
       "duration                                                             106   \n",
       "country                                                              USA   \n",
       "language                                        English, French, Russian   \n",
       "director                                               William A. Seiter   \n",
       "writer                                      Jerome Kern, Otto A. Harbach   \n",
       "production_company                                    RKO Radio Pictures   \n",
       "actors                 Irene Dunne, Fred Astaire, Ginger Rogers, Rand...   \n",
       "description            In Paris, a man clueless about fashion suddenl...   \n",
       "avg_vote                                                             7.1   \n",
       "votes                                                               2860   \n",
       "budget                                                          $ 610000   \n",
       "usa_gross_income                                                     NaN   \n",
       "worlwide_gross_income                                             $ 2493   \n",
       "metascore                                                           66.0   \n",
       "reviews_from_users                                                  67.0   \n",
       "reviews_from_critics                                                20.0   \n",
       "ordering                                                               2   \n",
       "category                                                           actor   \n",
       "job                                                                  NaN   \n",
       "characters                                               [\"Huck Haines\"]   \n",
       "original_title_y                                                 Roberta   \n",
       "name_y                                                      Fred Astaire   \n",
       "character                                                            Huc   \n",
       "role                                                                Huck   \n",
       "\n",
       "                                                                       2  \\\n",
       "imdb_name_id                                                   nm0000001   \n",
       "name_x                                                      Fred Astaire   \n",
       "birth_name                                       Frederic Austerlitz Jr.   \n",
       "height                                                             177.0   \n",
       "bio                    Fred Astaire was born in Omaha, Nebraska, to J...   \n",
       "birth_details                       May 10, 1899 in Omaha, Nebraska, USA   \n",
       "date_of_birth                                                 1899-05-10   \n",
       "place_of_birth                                      Omaha, Nebraska, USA   \n",
       "death_details          June 22, 1987 in Los Angeles, California, USA ...   \n",
       "date_of_death                                                 1987-06-22   \n",
       "place_of_death                            Los Angeles, California, USA     \n",
       "reason_of_death                                                pneumonia   \n",
       "spouses_string         Robyn Smith  (27 June 1980 - 22 June 1987) (hi...   \n",
       "spouses                                                                2   \n",
       "divorces                                                               0   \n",
       "spouses_with_children                                                  1   \n",
       "children                                                               2   \n",
       "imdb_title_id                                                  tt0028333   \n",
       "title                                                   Follie d'inverno   \n",
       "original_title_x                                              Swing Time   \n",
       "year                                                                1936   \n",
       "date_published                                                1938-02-24   \n",
       "genre                                           Comedy, Musical, Romance   \n",
       "duration                                                             103   \n",
       "country                                                              USA   \n",
       "language                                                 English, French   \n",
       "director                                                  George Stevens   \n",
       "writer                                       Howard Lindsay, Allan Scott   \n",
       "production_company                                    RKO Radio Pictures   \n",
       "actors                 Fred Astaire, Ginger Rogers, Victor Moore, Hel...   \n",
       "description            A performer and gambler travels to New York Ci...   \n",
       "avg_vote                                                             7.6   \n",
       "votes                                                              11998   \n",
       "budget                                                          $ 886000   \n",
       "usa_gross_income                                                     NaN   \n",
       "worlwide_gross_income                                             $ 4961   \n",
       "metascore                                                           91.0   \n",
       "reviews_from_users                                                  98.0   \n",
       "reviews_from_critics                                                74.0   \n",
       "ordering                                                               1   \n",
       "category                                                           actor   \n",
       "job                                                                  NaN   \n",
       "characters                                             [\"Lucky Garnett\"]   \n",
       "original_title_y                                              Swing Time   \n",
       "name_y                                                      Fred Astaire   \n",
       "character                                            John \"Lucky\" Garnet   \n",
       "role                                                John \"Lucky\" Garnett   \n",
       "\n",
       "                                                                       3  \\\n",
       "imdb_name_id                                                   nm0000001   \n",
       "name_x                                                      Fred Astaire   \n",
       "birth_name                                       Frederic Austerlitz Jr.   \n",
       "height                                                             177.0   \n",
       "bio                    Fred Astaire was born in Omaha, Nebraska, to J...   \n",
       "birth_details                       May 10, 1899 in Omaha, Nebraska, USA   \n",
       "date_of_birth                                                 1899-05-10   \n",
       "place_of_birth                                      Omaha, Nebraska, USA   \n",
       "death_details          June 22, 1987 in Los Angeles, California, USA ...   \n",
       "date_of_death                                                 1987-06-22   \n",
       "place_of_death                            Los Angeles, California, USA     \n",
       "reason_of_death                                                pneumonia   \n",
       "spouses_string         Robyn Smith  (27 June 1980 - 22 June 1987) (hi...   \n",
       "spouses                                                                2   \n",
       "divorces                                                               0   \n",
       "spouses_with_children                                                  1   \n",
       "children                                                               2   \n",
       "imdb_title_id                                                  tt0028757   \n",
       "title                                            Una magnifica avventura   \n",
       "original_title_x                                    A Damsel in Distress   \n",
       "year                                                                1937   \n",
       "date_published                                                1937-11-19   \n",
       "genre                                             Comedy, Music, Romance   \n",
       "duration                                                             101   \n",
       "country                                                              USA   \n",
       "language                                                         English   \n",
       "director                                                  George Stevens   \n",
       "writer                                           P.G. Wodehouse, Ian Hay   \n",
       "production_company                                    RKO Radio Pictures   \n",
       "actors                 Fred Astaire, George Burns, Gracie Allen, Joan...   \n",
       "description            Lady Alyce Marshmorton must marry soon, and th...   \n",
       "avg_vote                                                             6.8   \n",
       "votes                                                               1736   \n",
       "budget                                                         $ 1035000   \n",
       "usa_gross_income                                                     NaN   \n",
       "worlwide_gross_income                                                NaN   \n",
       "metascore                                                            NaN   \n",
       "reviews_from_users                                                  39.0   \n",
       "reviews_from_critics                                                17.0   \n",
       "ordering                                                               1   \n",
       "category                                                           actor   \n",
       "job                                                                  NaN   \n",
       "characters                                            [\"Jerry Halliday\"]   \n",
       "original_title_y                                    A Damsel in Distress   \n",
       "name_y                                                      Fred Astaire   \n",
       "character                                                           Jerr   \n",
       "role                                                               Jerry   \n",
       "\n",
       "                                                                       4  \n",
       "imdb_name_id                                                   nm0000001  \n",
       "name_x                                                      Fred Astaire  \n",
       "birth_name                                       Frederic Austerlitz Jr.  \n",
       "height                                                             177.0  \n",
       "bio                    Fred Astaire was born in Omaha, Nebraska, to J...  \n",
       "birth_details                       May 10, 1899 in Omaha, Nebraska, USA  \n",
       "date_of_birth                                                 1899-05-10  \n",
       "place_of_birth                                      Omaha, Nebraska, USA  \n",
       "death_details          June 22, 1987 in Los Angeles, California, USA ...  \n",
       "date_of_death                                                 1987-06-22  \n",
       "place_of_death                            Los Angeles, California, USA    \n",
       "reason_of_death                                                pneumonia  \n",
       "spouses_string         Robyn Smith  (27 June 1980 - 22 June 1987) (hi...  \n",
       "spouses                                                                2  \n",
       "divorces                                                               0  \n",
       "spouses_with_children                                                  1  \n",
       "children                                                               2  \n",
       "imdb_title_id                                                  tt0029546  \n",
       "title                                              Voglio danzare con te  \n",
       "original_title_x                                          Shall We Dance  \n",
       "year                                                                1937  \n",
       "date_published                                                1937-10-27  \n",
       "genre                                           Comedy, Musical, Romance  \n",
       "duration                                                             109  \n",
       "country                                                              USA  \n",
       "language                                                 English, French  \n",
       "director                                                   Mark Sandrich  \n",
       "writer                                        Allan Scott, Ernest Pagano  \n",
       "production_company                                    RKO Radio Pictures  \n",
       "actors                 Fred Astaire, Ginger Rogers, Edward Everett Ho...  \n",
       "description            A budding romance between a ballet master and ...  \n",
       "avg_vote                                                             7.5  \n",
       "votes                                                               6414  \n",
       "budget                                                          $ 991000  \n",
       "usa_gross_income                                                     NaN  \n",
       "worlwide_gross_income                                             $ 6662  \n",
       "metascore                                                            NaN  \n",
       "reviews_from_users                                                  60.0  \n",
       "reviews_from_critics                                                23.0  \n",
       "ordering                                                               1  \n",
       "category                                                           actor  \n",
       "job                                                                  NaN  \n",
       "characters                                [\"Peter P. Peters aka Petrov\"]  \n",
       "original_title_y                                          Shall We Dance  \n",
       "name_y                                                      Fred Astaire  \n",
       "character                                        Peter P. \"Petrov\" Peter  \n",
       "role                                            Peter P. \"Petrov\" Peters  "
      ]
     },
     "execution_count": 103,
     "metadata": {},
     "output_type": "execute_result"
    }
   ],
   "source": [
    "df_final.head().T # Transpose Head of Final DataFrame for inspection"
   ]
  },
  {
   "cell_type": "markdown",
   "metadata": {},
   "source": [
    "#### Further Cleaning and Processing of Final DataFrame"
   ]
  },
  {
   "cell_type": "code",
   "execution_count": 104,
   "metadata": {},
   "outputs": [],
   "source": [
    "# Delete Date of Birth that are Null\n",
    "df_final.dropna(subset=['date_of_birth'],inplace=True)"
   ]
  },
  {
   "cell_type": "code",
   "execution_count": 105,
   "metadata": {},
   "outputs": [],
   "source": [
    "# Select first 4 digits of date_of_birth\n",
    "df_final['date_of_birth'] = [x[:4] for x in df_final['date_of_birth']]"
   ]
  },
  {
   "cell_type": "code",
   "execution_count": 106,
   "metadata": {},
   "outputs": [],
   "source": [
    "# convert date of birth and year to numerics, and coerce strings to Nan\n",
    "df_final['year'] = pd.to_numeric(df_final['year'], errors='coerce')\n",
    "df_final['date_of_birth'] = pd.to_numeric(df_final['date_of_birth'],errors='coerce')"
   ]
  },
  {
   "cell_type": "code",
   "execution_count": 107,
   "metadata": {},
   "outputs": [],
   "source": [
    "# remove $ and other non-numeric from data set\n",
    "df_final['budget'] = df_final['budget'].str.replace('[^\\w\\s]','')\n",
    "df_final['usa_gross_income'] =  df_final['usa_gross_income'].str.replace('[^\\w\\s]','')\n",
    "df_final['worlwide_gross_income'] = df_final['worlwide_gross_income'].str.replace('[^\\w\\s]','')"
   ]
  },
  {
   "cell_type": "code",
   "execution_count": 108,
   "metadata": {},
   "outputs": [],
   "source": [
    "# convert USD to numerics, and coerce strings to Nan\n",
    "df_final['budget'] = pd.to_numeric(df_final['budget'], errors='coerce')\n",
    "df_final['usa_gross_income'] = pd.to_numeric(df_final['usa_gross_income'], errors='coerce')\n",
    "df_final['worlwide_gross_income'] = pd.to_numeric(df_final['worlwide_gross_income'], errors='coerce')"
   ]
  },
  {
   "cell_type": "code",
   "execution_count": 110,
   "metadata": {},
   "outputs": [],
   "source": [
    "df_final['age_at_release'] = df_final['year'] - df_final['date_of_birth'] # Check age of actor at movie release"
   ]
  },
  {
   "cell_type": "code",
   "execution_count": 111,
   "metadata": {},
   "outputs": [
    {
     "data": {
      "text/html": [
       "<div>\n",
       "<style scoped>\n",
       "    .dataframe tbody tr th:only-of-type {\n",
       "        vertical-align: middle;\n",
       "    }\n",
       "\n",
       "    .dataframe tbody tr th {\n",
       "        vertical-align: top;\n",
       "    }\n",
       "\n",
       "    .dataframe thead th {\n",
       "        text-align: right;\n",
       "    }\n",
       "</style>\n",
       "<table border=\"1\" class=\"dataframe\">\n",
       "  <thead>\n",
       "    <tr style=\"text-align: right;\">\n",
       "      <th></th>\n",
       "      <th>imdb_name_id</th>\n",
       "      <th>name_x</th>\n",
       "      <th>birth_name</th>\n",
       "      <th>height</th>\n",
       "      <th>bio</th>\n",
       "      <th>birth_details</th>\n",
       "      <th>date_of_birth</th>\n",
       "      <th>place_of_birth</th>\n",
       "      <th>death_details</th>\n",
       "      <th>date_of_death</th>\n",
       "      <th>...</th>\n",
       "      <th>reviews_from_critics</th>\n",
       "      <th>ordering</th>\n",
       "      <th>category</th>\n",
       "      <th>job</th>\n",
       "      <th>characters</th>\n",
       "      <th>original_title_y</th>\n",
       "      <th>name_y</th>\n",
       "      <th>character</th>\n",
       "      <th>role</th>\n",
       "      <th>age_at_release</th>\n",
       "    </tr>\n",
       "  </thead>\n",
       "  <tbody>\n",
       "    <tr>\n",
       "      <th>0</th>\n",
       "      <td>nm0000001</td>\n",
       "      <td>Fred Astaire</td>\n",
       "      <td>Frederic Austerlitz Jr.</td>\n",
       "      <td>177.0</td>\n",
       "      <td>Fred Astaire was born in Omaha, Nebraska, to J...</td>\n",
       "      <td>May 10, 1899 in Omaha, Nebraska, USA</td>\n",
       "      <td>1899.0</td>\n",
       "      <td>Omaha, Nebraska, USA</td>\n",
       "      <td>June 22, 1987 in Los Angeles, California, USA ...</td>\n",
       "      <td>1987-06-22</td>\n",
       "      <td>...</td>\n",
       "      <td>42.0</td>\n",
       "      <td>1</td>\n",
       "      <td>actor</td>\n",
       "      <td>NaN</td>\n",
       "      <td>[\"Guy Holden\"]</td>\n",
       "      <td>The Gay Divorcee</td>\n",
       "      <td>Fred Astaire</td>\n",
       "      <td>Guy Holde</td>\n",
       "      <td>Guy Holden</td>\n",
       "      <td>35.0</td>\n",
       "    </tr>\n",
       "    <tr>\n",
       "      <th>1</th>\n",
       "      <td>nm0000001</td>\n",
       "      <td>Fred Astaire</td>\n",
       "      <td>Frederic Austerlitz Jr.</td>\n",
       "      <td>177.0</td>\n",
       "      <td>Fred Astaire was born in Omaha, Nebraska, to J...</td>\n",
       "      <td>May 10, 1899 in Omaha, Nebraska, USA</td>\n",
       "      <td>1899.0</td>\n",
       "      <td>Omaha, Nebraska, USA</td>\n",
       "      <td>June 22, 1987 in Los Angeles, California, USA ...</td>\n",
       "      <td>1987-06-22</td>\n",
       "      <td>...</td>\n",
       "      <td>20.0</td>\n",
       "      <td>2</td>\n",
       "      <td>actor</td>\n",
       "      <td>NaN</td>\n",
       "      <td>[\"Huck Haines\"]</td>\n",
       "      <td>Roberta</td>\n",
       "      <td>Fred Astaire</td>\n",
       "      <td>Huc</td>\n",
       "      <td>Huck</td>\n",
       "      <td>36.0</td>\n",
       "    </tr>\n",
       "    <tr>\n",
       "      <th>2</th>\n",
       "      <td>nm0000001</td>\n",
       "      <td>Fred Astaire</td>\n",
       "      <td>Frederic Austerlitz Jr.</td>\n",
       "      <td>177.0</td>\n",
       "      <td>Fred Astaire was born in Omaha, Nebraska, to J...</td>\n",
       "      <td>May 10, 1899 in Omaha, Nebraska, USA</td>\n",
       "      <td>1899.0</td>\n",
       "      <td>Omaha, Nebraska, USA</td>\n",
       "      <td>June 22, 1987 in Los Angeles, California, USA ...</td>\n",
       "      <td>1987-06-22</td>\n",
       "      <td>...</td>\n",
       "      <td>74.0</td>\n",
       "      <td>1</td>\n",
       "      <td>actor</td>\n",
       "      <td>NaN</td>\n",
       "      <td>[\"Lucky Garnett\"]</td>\n",
       "      <td>Swing Time</td>\n",
       "      <td>Fred Astaire</td>\n",
       "      <td>John \"Lucky\" Garnet</td>\n",
       "      <td>John \"Lucky\" Garnett</td>\n",
       "      <td>37.0</td>\n",
       "    </tr>\n",
       "    <tr>\n",
       "      <th>3</th>\n",
       "      <td>nm0000001</td>\n",
       "      <td>Fred Astaire</td>\n",
       "      <td>Frederic Austerlitz Jr.</td>\n",
       "      <td>177.0</td>\n",
       "      <td>Fred Astaire was born in Omaha, Nebraska, to J...</td>\n",
       "      <td>May 10, 1899 in Omaha, Nebraska, USA</td>\n",
       "      <td>1899.0</td>\n",
       "      <td>Omaha, Nebraska, USA</td>\n",
       "      <td>June 22, 1987 in Los Angeles, California, USA ...</td>\n",
       "      <td>1987-06-22</td>\n",
       "      <td>...</td>\n",
       "      <td>17.0</td>\n",
       "      <td>1</td>\n",
       "      <td>actor</td>\n",
       "      <td>NaN</td>\n",
       "      <td>[\"Jerry Halliday\"]</td>\n",
       "      <td>A Damsel in Distress</td>\n",
       "      <td>Fred Astaire</td>\n",
       "      <td>Jerr</td>\n",
       "      <td>Jerry</td>\n",
       "      <td>38.0</td>\n",
       "    </tr>\n",
       "    <tr>\n",
       "      <th>4</th>\n",
       "      <td>nm0000001</td>\n",
       "      <td>Fred Astaire</td>\n",
       "      <td>Frederic Austerlitz Jr.</td>\n",
       "      <td>177.0</td>\n",
       "      <td>Fred Astaire was born in Omaha, Nebraska, to J...</td>\n",
       "      <td>May 10, 1899 in Omaha, Nebraska, USA</td>\n",
       "      <td>1899.0</td>\n",
       "      <td>Omaha, Nebraska, USA</td>\n",
       "      <td>June 22, 1987 in Los Angeles, California, USA ...</td>\n",
       "      <td>1987-06-22</td>\n",
       "      <td>...</td>\n",
       "      <td>23.0</td>\n",
       "      <td>1</td>\n",
       "      <td>actor</td>\n",
       "      <td>NaN</td>\n",
       "      <td>[\"Peter P. Peters aka Petrov\"]</td>\n",
       "      <td>Shall We Dance</td>\n",
       "      <td>Fred Astaire</td>\n",
       "      <td>Peter P. \"Petrov\" Peter</td>\n",
       "      <td>Peter P. \"Petrov\" Peters</td>\n",
       "      <td>38.0</td>\n",
       "    </tr>\n",
       "  </tbody>\n",
       "</table>\n",
       "<p>5 rows × 48 columns</p>\n",
       "</div>"
      ],
      "text/plain": [
       "  imdb_name_id        name_x               birth_name  height  \\\n",
       "0    nm0000001  Fred Astaire  Frederic Austerlitz Jr.   177.0   \n",
       "1    nm0000001  Fred Astaire  Frederic Austerlitz Jr.   177.0   \n",
       "2    nm0000001  Fred Astaire  Frederic Austerlitz Jr.   177.0   \n",
       "3    nm0000001  Fred Astaire  Frederic Austerlitz Jr.   177.0   \n",
       "4    nm0000001  Fred Astaire  Frederic Austerlitz Jr.   177.0   \n",
       "\n",
       "                                                 bio  \\\n",
       "0  Fred Astaire was born in Omaha, Nebraska, to J...   \n",
       "1  Fred Astaire was born in Omaha, Nebraska, to J...   \n",
       "2  Fred Astaire was born in Omaha, Nebraska, to J...   \n",
       "3  Fred Astaire was born in Omaha, Nebraska, to J...   \n",
       "4  Fred Astaire was born in Omaha, Nebraska, to J...   \n",
       "\n",
       "                          birth_details  date_of_birth        place_of_birth  \\\n",
       "0  May 10, 1899 in Omaha, Nebraska, USA         1899.0  Omaha, Nebraska, USA   \n",
       "1  May 10, 1899 in Omaha, Nebraska, USA         1899.0  Omaha, Nebraska, USA   \n",
       "2  May 10, 1899 in Omaha, Nebraska, USA         1899.0  Omaha, Nebraska, USA   \n",
       "3  May 10, 1899 in Omaha, Nebraska, USA         1899.0  Omaha, Nebraska, USA   \n",
       "4  May 10, 1899 in Omaha, Nebraska, USA         1899.0  Omaha, Nebraska, USA   \n",
       "\n",
       "                                       death_details date_of_death  ...  \\\n",
       "0  June 22, 1987 in Los Angeles, California, USA ...    1987-06-22  ...   \n",
       "1  June 22, 1987 in Los Angeles, California, USA ...    1987-06-22  ...   \n",
       "2  June 22, 1987 in Los Angeles, California, USA ...    1987-06-22  ...   \n",
       "3  June 22, 1987 in Los Angeles, California, USA ...    1987-06-22  ...   \n",
       "4  June 22, 1987 in Los Angeles, California, USA ...    1987-06-22  ...   \n",
       "\n",
       "  reviews_from_critics ordering category  job                      characters  \\\n",
       "0                 42.0        1    actor  NaN                  [\"Guy Holden\"]   \n",
       "1                 20.0        2    actor  NaN                 [\"Huck Haines\"]   \n",
       "2                 74.0        1    actor  NaN               [\"Lucky Garnett\"]   \n",
       "3                 17.0        1    actor  NaN              [\"Jerry Halliday\"]   \n",
       "4                 23.0        1    actor  NaN  [\"Peter P. Peters aka Petrov\"]   \n",
       "\n",
       "       original_title_y        name_y                character  \\\n",
       "0      The Gay Divorcee  Fred Astaire                Guy Holde   \n",
       "1               Roberta  Fred Astaire                      Huc   \n",
       "2            Swing Time  Fred Astaire      John \"Lucky\" Garnet   \n",
       "3  A Damsel in Distress  Fred Astaire                     Jerr   \n",
       "4        Shall We Dance  Fred Astaire  Peter P. \"Petrov\" Peter   \n",
       "\n",
       "                       role age_at_release  \n",
       "0                Guy Holden           35.0  \n",
       "1                      Huck           36.0  \n",
       "2      John \"Lucky\" Garnett           37.0  \n",
       "3                     Jerry           38.0  \n",
       "4  Peter P. \"Petrov\" Peters           38.0  \n",
       "\n",
       "[5 rows x 48 columns]"
      ]
     },
     "execution_count": 111,
     "metadata": {},
     "output_type": "execute_result"
    }
   ],
   "source": [
    "df_final.head() #Inspect DataFrame"
   ]
  },
  {
   "cell_type": "markdown",
   "metadata": {},
   "source": [
    "#### Delete Duplicates"
   ]
  },
  {
   "cell_type": "code",
   "execution_count": 112,
   "metadata": {},
   "outputs": [],
   "source": [
    "# remove duplicates\n",
    "df_final = df_final.drop_duplicates(subset = ['imdb_name_id','imdb_title_id'], keep = 'first')"
   ]
  },
  {
   "cell_type": "markdown",
   "metadata": {},
   "source": [
    "#### Select The Key Features"
   ]
  },
  {
   "cell_type": "code",
   "execution_count": 116,
   "metadata": {},
   "outputs": [
    {
     "data": {
      "text/plain": [
       "Index(['imdb_name_id', 'name_x', 'birth_name', 'height', 'bio',\n",
       "       'birth_details', 'date_of_birth', 'place_of_birth', 'death_details',\n",
       "       'date_of_death', 'place_of_death', 'reason_of_death', 'spouses_string',\n",
       "       'spouses', 'divorces', 'spouses_with_children', 'children',\n",
       "       'imdb_title_id', 'title', 'original_title_x', 'year', 'date_published',\n",
       "       'genre', 'duration', 'country', 'language', 'director', 'writer',\n",
       "       'production_company', 'actors', 'description', 'avg_vote', 'votes',\n",
       "       'budget', 'usa_gross_income', 'worlwide_gross_income', 'metascore',\n",
       "       'reviews_from_users', 'reviews_from_critics', 'ordering', 'category',\n",
       "       'job', 'characters', 'original_title_y', 'name_y', 'character', 'role',\n",
       "       'age_at_release'],\n",
       "      dtype='object')"
      ]
     },
     "execution_count": 116,
     "metadata": {},
     "output_type": "execute_result"
    }
   ],
   "source": [
    "df_final.columns"
   ]
  },
  {
   "cell_type": "code",
   "execution_count": 119,
   "metadata": {},
   "outputs": [
    {
     "data": {
      "text/html": [
       "<div>\n",
       "<style scoped>\n",
       "    .dataframe tbody tr th:only-of-type {\n",
       "        vertical-align: middle;\n",
       "    }\n",
       "\n",
       "    .dataframe tbody tr th {\n",
       "        vertical-align: top;\n",
       "    }\n",
       "\n",
       "    .dataframe thead th {\n",
       "        text-align: right;\n",
       "    }\n",
       "</style>\n",
       "<table border=\"1\" class=\"dataframe\">\n",
       "  <thead>\n",
       "    <tr style=\"text-align: right;\">\n",
       "      <th></th>\n",
       "      <th>0</th>\n",
       "    </tr>\n",
       "  </thead>\n",
       "  <tbody>\n",
       "    <tr>\n",
       "      <th>imdb_name_id</th>\n",
       "      <td>nm0000001</td>\n",
       "    </tr>\n",
       "    <tr>\n",
       "      <th>name_x</th>\n",
       "      <td>Fred Astaire</td>\n",
       "    </tr>\n",
       "    <tr>\n",
       "      <th>birth_name</th>\n",
       "      <td>Frederic Austerlitz Jr.</td>\n",
       "    </tr>\n",
       "    <tr>\n",
       "      <th>height</th>\n",
       "      <td>177.0</td>\n",
       "    </tr>\n",
       "    <tr>\n",
       "      <th>bio</th>\n",
       "      <td>Fred Astaire was born in Omaha, Nebraska, to J...</td>\n",
       "    </tr>\n",
       "    <tr>\n",
       "      <th>birth_details</th>\n",
       "      <td>May 10, 1899 in Omaha, Nebraska, USA</td>\n",
       "    </tr>\n",
       "    <tr>\n",
       "      <th>date_of_birth</th>\n",
       "      <td>1899.0</td>\n",
       "    </tr>\n",
       "    <tr>\n",
       "      <th>place_of_birth</th>\n",
       "      <td>Omaha, Nebraska, USA</td>\n",
       "    </tr>\n",
       "    <tr>\n",
       "      <th>death_details</th>\n",
       "      <td>June 22, 1987 in Los Angeles, California, USA ...</td>\n",
       "    </tr>\n",
       "    <tr>\n",
       "      <th>date_of_death</th>\n",
       "      <td>1987-06-22</td>\n",
       "    </tr>\n",
       "    <tr>\n",
       "      <th>place_of_death</th>\n",
       "      <td>Los Angeles, California, USA</td>\n",
       "    </tr>\n",
       "    <tr>\n",
       "      <th>reason_of_death</th>\n",
       "      <td>pneumonia</td>\n",
       "    </tr>\n",
       "    <tr>\n",
       "      <th>spouses_string</th>\n",
       "      <td>Robyn Smith  (27 June 1980 - 22 June 1987) (hi...</td>\n",
       "    </tr>\n",
       "    <tr>\n",
       "      <th>spouses</th>\n",
       "      <td>2</td>\n",
       "    </tr>\n",
       "    <tr>\n",
       "      <th>divorces</th>\n",
       "      <td>0</td>\n",
       "    </tr>\n",
       "    <tr>\n",
       "      <th>spouses_with_children</th>\n",
       "      <td>1</td>\n",
       "    </tr>\n",
       "    <tr>\n",
       "      <th>children</th>\n",
       "      <td>2</td>\n",
       "    </tr>\n",
       "    <tr>\n",
       "      <th>imdb_title_id</th>\n",
       "      <td>tt0025164</td>\n",
       "    </tr>\n",
       "    <tr>\n",
       "      <th>title</th>\n",
       "      <td>Cerco il mio amore</td>\n",
       "    </tr>\n",
       "    <tr>\n",
       "      <th>original_title_x</th>\n",
       "      <td>The Gay Divorcee</td>\n",
       "    </tr>\n",
       "    <tr>\n",
       "      <th>year</th>\n",
       "      <td>1934</td>\n",
       "    </tr>\n",
       "    <tr>\n",
       "      <th>date_published</th>\n",
       "      <td>1934-10-12</td>\n",
       "    </tr>\n",
       "    <tr>\n",
       "      <th>genre</th>\n",
       "      <td>Comedy, Musical, Romance</td>\n",
       "    </tr>\n",
       "    <tr>\n",
       "      <th>duration</th>\n",
       "      <td>107</td>\n",
       "    </tr>\n",
       "    <tr>\n",
       "      <th>country</th>\n",
       "      <td>USA</td>\n",
       "    </tr>\n",
       "    <tr>\n",
       "      <th>language</th>\n",
       "      <td>English, French, Italian</td>\n",
       "    </tr>\n",
       "    <tr>\n",
       "      <th>director</th>\n",
       "      <td>Mark Sandrich</td>\n",
       "    </tr>\n",
       "    <tr>\n",
       "      <th>writer</th>\n",
       "      <td>Dwight Taylor, Kenneth S. Webb</td>\n",
       "    </tr>\n",
       "    <tr>\n",
       "      <th>production_company</th>\n",
       "      <td>RKO Radio Pictures</td>\n",
       "    </tr>\n",
       "    <tr>\n",
       "      <th>actors</th>\n",
       "      <td>Fred Astaire, Ginger Rogers, Alice Brady, Edwa...</td>\n",
       "    </tr>\n",
       "    <tr>\n",
       "      <th>description</th>\n",
       "      <td>An American woman travels to England to seek a...</td>\n",
       "    </tr>\n",
       "    <tr>\n",
       "      <th>avg_vote</th>\n",
       "      <td>7.5</td>\n",
       "    </tr>\n",
       "    <tr>\n",
       "      <th>votes</th>\n",
       "      <td>6797</td>\n",
       "    </tr>\n",
       "    <tr>\n",
       "      <th>budget</th>\n",
       "      <td>520000.0</td>\n",
       "    </tr>\n",
       "    <tr>\n",
       "      <th>usa_gross_income</th>\n",
       "      <td>NaN</td>\n",
       "    </tr>\n",
       "    <tr>\n",
       "      <th>worlwide_gross_income</th>\n",
       "      <td>6750.0</td>\n",
       "    </tr>\n",
       "    <tr>\n",
       "      <th>metascore</th>\n",
       "      <td>80.0</td>\n",
       "    </tr>\n",
       "    <tr>\n",
       "      <th>reviews_from_users</th>\n",
       "      <td>61.0</td>\n",
       "    </tr>\n",
       "    <tr>\n",
       "      <th>reviews_from_critics</th>\n",
       "      <td>42.0</td>\n",
       "    </tr>\n",
       "    <tr>\n",
       "      <th>ordering</th>\n",
       "      <td>1</td>\n",
       "    </tr>\n",
       "    <tr>\n",
       "      <th>category</th>\n",
       "      <td>actor</td>\n",
       "    </tr>\n",
       "    <tr>\n",
       "      <th>job</th>\n",
       "      <td>NaN</td>\n",
       "    </tr>\n",
       "    <tr>\n",
       "      <th>characters</th>\n",
       "      <td>[\"Guy Holden\"]</td>\n",
       "    </tr>\n",
       "    <tr>\n",
       "      <th>original_title_y</th>\n",
       "      <td>The Gay Divorcee</td>\n",
       "    </tr>\n",
       "    <tr>\n",
       "      <th>name_y</th>\n",
       "      <td>Fred Astaire</td>\n",
       "    </tr>\n",
       "    <tr>\n",
       "      <th>character</th>\n",
       "      <td>Guy Holde</td>\n",
       "    </tr>\n",
       "    <tr>\n",
       "      <th>role</th>\n",
       "      <td>Guy Holden</td>\n",
       "    </tr>\n",
       "    <tr>\n",
       "      <th>age_at_release</th>\n",
       "      <td>35.0</td>\n",
       "    </tr>\n",
       "  </tbody>\n",
       "</table>\n",
       "</div>"
      ],
      "text/plain": [
       "                                                                       0\n",
       "imdb_name_id                                                   nm0000001\n",
       "name_x                                                      Fred Astaire\n",
       "birth_name                                       Frederic Austerlitz Jr.\n",
       "height                                                             177.0\n",
       "bio                    Fred Astaire was born in Omaha, Nebraska, to J...\n",
       "birth_details                       May 10, 1899 in Omaha, Nebraska, USA\n",
       "date_of_birth                                                     1899.0\n",
       "place_of_birth                                      Omaha, Nebraska, USA\n",
       "death_details          June 22, 1987 in Los Angeles, California, USA ...\n",
       "date_of_death                                                 1987-06-22\n",
       "place_of_death                            Los Angeles, California, USA  \n",
       "reason_of_death                                                pneumonia\n",
       "spouses_string         Robyn Smith  (27 June 1980 - 22 June 1987) (hi...\n",
       "spouses                                                                2\n",
       "divorces                                                               0\n",
       "spouses_with_children                                                  1\n",
       "children                                                               2\n",
       "imdb_title_id                                                  tt0025164\n",
       "title                                                 Cerco il mio amore\n",
       "original_title_x                                        The Gay Divorcee\n",
       "year                                                                1934\n",
       "date_published                                                1934-10-12\n",
       "genre                                           Comedy, Musical, Romance\n",
       "duration                                                             107\n",
       "country                                                              USA\n",
       "language                                        English, French, Italian\n",
       "director                                                   Mark Sandrich\n",
       "writer                                    Dwight Taylor, Kenneth S. Webb\n",
       "production_company                                    RKO Radio Pictures\n",
       "actors                 Fred Astaire, Ginger Rogers, Alice Brady, Edwa...\n",
       "description            An American woman travels to England to seek a...\n",
       "avg_vote                                                             7.5\n",
       "votes                                                               6797\n",
       "budget                                                          520000.0\n",
       "usa_gross_income                                                     NaN\n",
       "worlwide_gross_income                                             6750.0\n",
       "metascore                                                           80.0\n",
       "reviews_from_users                                                  61.0\n",
       "reviews_from_critics                                                42.0\n",
       "ordering                                                               1\n",
       "category                                                           actor\n",
       "job                                                                  NaN\n",
       "characters                                                [\"Guy Holden\"]\n",
       "original_title_y                                        The Gay Divorcee\n",
       "name_y                                                      Fred Astaire\n",
       "character                                                      Guy Holde\n",
       "role                                                          Guy Holden\n",
       "age_at_release                                                      35.0"
      ]
     },
     "execution_count": 119,
     "metadata": {},
     "output_type": "execute_result"
    }
   ],
   "source": [
    "df_final.head(1).T"
   ]
  },
  {
   "cell_type": "code",
   "execution_count": 121,
   "metadata": {},
   "outputs": [],
   "source": [
    "df_final = df_final[['imdb_title_id', 'original_title_x','imdb_name_id', \n",
    "       'name_x', 'height', 'date_of_birth', 'place_of_birth',\n",
    "       'spouses', 'divorces', 'children', 'year','genre', 'duration', 'country',\n",
    "       'production_company', 'avg_vote',\n",
    "       'budget', 'usa_gross_income', 'worlwide_gross_income', 'metascore',\n",
    "       'reviews_from_users', 'reviews_from_critics', 'ordering', 'category',\n",
    "       'role', 'age_at_release']]"
   ]
  },
  {
   "cell_type": "markdown",
   "metadata": {},
   "source": [
    "#### Export"
   ]
  },
  {
   "cell_type": "code",
   "execution_count": 123,
   "metadata": {},
   "outputs": [
    {
     "name": "stdout",
     "output_type": "stream",
     "text": [
      "CSV is exported!\n"
     ]
    }
   ],
   "source": [
    "# Write the DataFrame you created to a csv\n",
    "df_final.to_csv('/Users/macbook/Google Drive/0. Ofilispeaks Business (Mac and Cloud)/9. Data Science/0. Python/General Assembly Training/Project 6/data/for_EDA.csv', index=False)\n",
    "print('CSV is exported!')"
   ]
  }
 ],
 "metadata": {
  "kernelspec": {
   "display_name": "Python 3",
   "language": "python",
   "name": "python3"
  },
  "language_info": {
   "codemirror_mode": {
    "name": "ipython",
    "version": 3
   },
   "file_extension": ".py",
   "mimetype": "text/x-python",
   "name": "python",
   "nbconvert_exporter": "python",
   "pygments_lexer": "ipython3",
   "version": "3.8.3"
  }
 },
 "nbformat": 4,
 "nbformat_minor": 4
}

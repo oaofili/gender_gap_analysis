{
 "cells": [
  {
   "cell_type": "markdown",
   "metadata": {},
   "source": [
    "# Analyzing the Gender Gap in Hollywood Movies"
   ]
  },
  {
   "cell_type": "markdown",
   "metadata": {},
   "source": [
    "# 0.0 Problem Statement\n",
    "\n",
    "A persons sex and facial features can unfairly determine what type of roles they play in Hollywood Movies, which has a big impact on influencing societal stereotypes. Thus, a classification model will be built to predict a persons role in Hollywood based on their sex, while simultanesouly examining portrayals of sex in popular Hollywood movies and its impact on real-life sexist stereotypes. "
   ]
  },
  {
   "cell_type": "markdown",
   "metadata": {},
   "source": [
    "# 1.0 Data Source\n",
    "\n",
    "1. **Kaggle** IMDb movies extensive dataset, The movies dataset includes 85,855 movies with attributes such as movie description, average rating, number of votes, genre, etc. The ratings dataset includes 85,855 rating details from demographic perspective. The names dataset includes 297,705 cast members with personal attributes such as birth details, death details, height, spouses, children, etc. The title principals dataset includes 835,513 cast members roles in movies with attributes such as IMDb title id, IMDb name id, order of importance in the movie, role, and characters played. https://www.kaggle.com/stefanoleone992/imdb-extensive-dataset\n",
    "\n",
    "\n",
    "2. **Wikipedia CAST Scraping** Wikipedia API will be used to scrape the CAST roles of Major actors. This is already available in source #1 above, but Wikiepedia gives more casting information for major actors, which I hope to use to supplement my data. https://pypi.org/project/wikipedia/\n",
    "\n",
    "\n",
    "3. **(Strtetch Goal) Wikipedia Picture Scraping** Wikipedia API will be used to scrape images of popular authors in my DataSet. https://pypi.org/project/wikipedia/\n",
    "\n",
    "> NOTE: Data has been scraped from the publicly available website https://www.imdb.com. All the movies with more than 100 votes have been scraped as of 01/01/2020."
   ]
  },
  {
   "cell_type": "markdown",
   "metadata": {},
   "source": [
    "# 2.0 Data Risks & Assumptions\n",
    "\n",
    "Scraping Wikipedia CAST section and making sense of the scraped data might prove to be challenging, however, if this happens, the kaggle data set already has a truncated cast information, we might fall back on. "
   ]
  },
  {
   "cell_type": "markdown",
   "metadata": {},
   "source": [
    "# 3.0 Goals & success Criteria\n",
    "\n",
    "- Functioning Classification Model that hits an accuracy of 70% in predicting gender based on Role description"
   ]
  },
  {
   "cell_type": "markdown",
   "metadata": {},
   "source": [
    "# 4.0 System Requirements\n",
    "\n",
    "- Python==3.7.3\n",
    "- gensim==3.8.1\n",
    "- nltk==3.4.5\n",
    "- pandas==0.25.2\n",
    "- matplotlib==3.1.1\n",
    "- numpy==1.17.2\n",
    "- spacy==2.2.1\n",
    "- beautifulsoup4==4.8.0"
   ]
  },
  {
   "cell_type": "markdown",
   "metadata": {},
   "source": [
    "# 5.0 Data Dictionary"
   ]
  },
  {
   "cell_type": "markdown",
   "metadata": {},
   "source": [
    "| Feature                 | Explanation                             | Data Type      |\n",
    "| ----------------------- | --------------------------------------- | -------------- |\n",
    "| original\\_title         | original movie title                    | String         |\n",
    "| birth\\_name             | cast member birth name                  | String         |\n",
    "| category                | category of job done by the cast member | String         |\n",
    "| characters              | name/role of the character played       | Complex String |\n",
    "| children                | number of children                      | Float          |\n",
    "| country                 | movie country                           | String         |\n",
    "| date of birth           | date of birth                           | Date/Time      |\n",
    "| divorce                 | number of divorces                      | Float          |\n",
    "| duration                | duration in minutes                     | Float          |\n",
    "| genre                   | movie genre                             | String         |\n",
    "| height                  | height (in cm)                          | Float          |\n",
    "| imdb\\_name\\_id          | name id on imdb                         | String         |\n",
    "| imdb\\_title\\_id         | title ID on IMDb                        | String         |\n",
    "| metascore               | metascore on a scale of 1 to 100        | float          |\n",
    "| name                    | cast member name                        | String         |\n",
    "| ordering                | order of importance in the movie        | Ordinal        |\n",
    "| original\\_title         | original movie title                    | String         |\n",
    "| production_company      | company that produced movie             | String         |\n",
    "| sex                     | sex of cast member                      | Binary         |\n",
    "| title                   | movie title name                        | String         |\n",
    "| year                    | year of release                         | Integer        |"
   ]
  },
  {
   "cell_type": "markdown",
   "metadata": {},
   "source": [
    "# 6.0 Preliminary Data Cleaning"
   ]
  },
  {
   "cell_type": "markdown",
   "metadata": {},
   "source": [
    "### 6.1 Data Cleaning\n",
    "- Import Kaggle Dataset\n",
    "- Generate Cast/Roles from each IMDB movie in Wikipedia.\n",
    "\n",
    "### 6.2  Dataset Merging\n",
    "- Merge all the created datasets above into one, and filter it down. Final data frame should contain\n",
    "    - movie character [IMDB and Wikipedia]\n",
    "    - actor who played character [IMDB and Wikipedia]\n",
    "    - age of actor at time of movie release [IMDB]\n",
    "    - role description [IMDB and Wikipedia]\n",
    "    - name of movie [IMDB and Wikipedia]\n",
    "    - budget of movie [IMDB and Wikipedia]\n",
    "    - box office revenue [IMDB and Wikipedia]\n",
    "    - sex [IMDB]\n",
    "    - height [IMDB]\n",
    "    - where movie was produced [IMDB]"
   ]
  },
  {
   "cell_type": "markdown",
   "metadata": {},
   "source": [
    "# 7.0 Exploratory Data Analysis and Hypothesis\n",
    "\n",
    "1. Question 1: Are there movie genres that do not exhibit a gender gap?\n",
    "\n",
    "2. Question 2: Are women receiving more lead movie roles today than in the past?\n",
    "\n",
    "3. Question 3: How has the fairness of female representation in movies changed over the years?"
   ]
  },
  {
   "cell_type": "markdown",
   "metadata": {},
   "source": [
    "# 8.0 Predictive Modelling\n",
    "\n",
    "1. Create Clusters based on roles, to potentially use that to group clusters of roles.\n",
    "2. Take all the roles and filter based on a set of manual filtering. e.g Receptionist and Secretary, get grouped into one role.\n",
    "3. Use role description to predict sex."
   ]
  },
  {
   "cell_type": "markdown",
   "metadata": {},
   "source": [
    "# 9.0 Observations and Conclusions"
   ]
  },
  {
   "cell_type": "code",
   "execution_count": null,
   "metadata": {},
   "outputs": [],
   "source": []
  }
 ],
 "metadata": {
  "kernelspec": {
   "display_name": "Python 3",
   "language": "python",
   "name": "python3"
  },
  "language_info": {
   "codemirror_mode": {
    "name": "ipython",
    "version": 3
   },
   "file_extension": ".py",
   "mimetype": "text/x-python",
   "name": "python",
   "nbconvert_exporter": "python",
   "pygments_lexer": "ipython3",
   "version": "3.8.3"
  }
 },
 "nbformat": 4,
 "nbformat_minor": 4
}

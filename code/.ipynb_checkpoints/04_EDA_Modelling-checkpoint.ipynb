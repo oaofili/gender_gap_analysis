{
 "cells": [
  {
   "cell_type": "markdown",
   "metadata": {},
   "source": [
    "# Racial Inequality in Popular Films"
   ]
  },
  {
   "cell_type": "markdown",
   "metadata": {},
   "source": [
    "## 3.0 Goals & success Criteria\n",
    "\n",
    "- Functioning Classification Model that hits an accuracy of 70% in predicting race based on Role description\n",
    "- Stretch Goal 1: Deployment of the above into a Streamlit App\n",
    "- Stretch Goal 2: Classification Model that utilized Neural Networks to predict generic movie roles with an accuracy of 60%"
   ]
  },
  {
   "cell_type": "markdown",
   "metadata": {},
   "source": [
    "## 4.0 Preliminary Data Cleaning"
   ]
  },
  {
   "cell_type": "code",
   "execution_count": 345,
   "metadata": {},
   "outputs": [],
   "source": [
    "# Import Dependencies\n",
    "%matplotlib inline\n",
    "\n",
    "# Start Python Imports\n",
    "import math, time, random, datetime\n",
    "\n",
    "# Data Manipulation\n",
    "import numpy as np\n",
    "import pandas as pd\n",
    "\n",
    "# Visualization \n",
    "import matplotlib.pyplot as plt\n",
    "import seaborn as sns\n",
    "plt.style.use('seaborn-whitegrid')\n",
    "from wordcloud import WordCloud, STOPWORDS,ImageColorGenerator\n",
    "\n",
    "# Machine learning\n",
    "from sklearn.model_selection import train_test_split, GridSearchCV\n",
    "from sklearn import model_selection, tree, preprocessing, metrics, linear_model, svm\n",
    "from sklearn.svm import LinearSVC\n",
    "from sklearn.ensemble import GradientBoostingClassifier, RandomForestClassifier, ExtraTreesClassifier\n",
    "from sklearn.neighbors import KNeighborsClassifier\n",
    "from sklearn.naive_bayes import GaussianNB\n",
    "from sklearn.linear_model import LogisticRegression, SGDClassifier\n",
    "from sklearn.tree import DecisionTreeClassifier\n",
    "from sklearn.metrics import accuracy_score, r2_score, confusion_matrix, classification_report, plot_confusion_matrix\n",
    "from catboost import cv\n",
    "from sklearn.feature_extraction.text import CountVectorizer, TfidfVectorizer\n",
    "from sklearn.linear_model import LogisticRegressionCV\n",
    "from sklearn.pipeline import Pipeline, make_pipeline\n",
    "from sklearn.naive_bayes import MultinomialNB\n",
    "import re\n",
    "import scipy as sp\n",
    "\n",
    "# Metrics\n",
    "from sklearn.ensemble import AdaBoostClassifier\n",
    "\n",
    "# Import CountVectorizer and TFIDFVectorizer from feature_extraction.text.\n",
    "from sklearn.feature_extraction.text import CountVectorizer, TfidfVectorizer"
   ]
  },
  {
   "cell_type": "code",
   "execution_count": 346,
   "metadata": {},
   "outputs": [],
   "source": [
    "import nltk\n",
    "from nltk.tag.stanford import StanfordNERTagger"
   ]
  },
  {
   "cell_type": "code",
   "execution_count": 347,
   "metadata": {},
   "outputs": [],
   "source": [
    "import string"
   ]
  },
  {
   "cell_type": "code",
   "execution_count": 348,
   "metadata": {},
   "outputs": [],
   "source": [
    "import nltk\n",
    "from nameparser.parser import HumanName\n",
    "from nltk.corpus import wordnet"
   ]
  },
  {
   "cell_type": "code",
   "execution_count": 349,
   "metadata": {},
   "outputs": [],
   "source": [
    "# Importing Cleaning Library\n",
    "import pandas as pd\n",
    "import numpy as np\n",
    "import warnings\n",
    "import missingno\n",
    "from tqdm import tqdm\n",
    "\n",
    "# Start Python Imports\n",
    "import math, time, random, datetime\n",
    "\n",
    "# Visualization \n",
    "import matplotlib.pyplot as plt\n",
    "import seaborn as sns\n",
    "plt.style.use('seaborn-whitegrid')\n",
    "from wordcloud import WordCloud, STOPWORDS,ImageColorGenerator"
   ]
  },
  {
   "cell_type": "code",
   "execution_count": 350,
   "metadata": {},
   "outputs": [],
   "source": [
    "import re\n",
    "import nltk\n",
    "from nltk.corpus import stopwords\n",
    "stop = stopwords.words('english')\n",
    "from nltk.corpus import wordnet"
   ]
  },
  {
   "cell_type": "code",
   "execution_count": 351,
   "metadata": {},
   "outputs": [],
   "source": [
    "import spacy\n",
    "\n",
    "# Load English tokenizer, tagger, parser and NER\n",
    "nlp = spacy.load(\"en_core_web_sm\")"
   ]
  },
  {
   "cell_type": "code",
   "execution_count": 352,
   "metadata": {},
   "outputs": [],
   "source": [
    "# Sklearn\n",
    "from sklearn.utils import resample"
   ]
  },
  {
   "cell_type": "code",
   "execution_count": 353,
   "metadata": {},
   "outputs": [],
   "source": [
    "from xgboost import XGBClassifier, plot_importance"
   ]
  },
  {
   "cell_type": "code",
   "execution_count": 354,
   "metadata": {},
   "outputs": [],
   "source": [
    "tqdm.pandas()"
   ]
  },
  {
   "cell_type": "markdown",
   "metadata": {},
   "source": [
    "### 4.1 Import IMDB Names"
   ]
  },
  {
   "cell_type": "code",
   "execution_count": 355,
   "metadata": {},
   "outputs": [
    {
     "name": "stdout",
     "output_type": "stream",
     "text": [
      "It took 0.67 seconds\n"
     ]
    }
   ],
   "source": [
    "# Import IMDb names\n",
    "start = time.time()\n",
    "warnings.filterwarnings(\"ignore\")\n",
    "df_final = pd.read_csv('/Users/macbook/Google Drive/0. Ofilispeaks Business (Mac and Cloud)/9. Data Science/0. Python/General Assembly Training/Project 6/data/for_EDA.csv')\n",
    "end = time.time()\n",
    "print(f'It took {round((end-start),2)} seconds')"
   ]
  },
  {
   "cell_type": "code",
   "execution_count": 356,
   "metadata": {},
   "outputs": [
    {
     "data": {
      "text/html": [
       "<div>\n",
       "<style scoped>\n",
       "    .dataframe tbody tr th:only-of-type {\n",
       "        vertical-align: middle;\n",
       "    }\n",
       "\n",
       "    .dataframe tbody tr th {\n",
       "        vertical-align: top;\n",
       "    }\n",
       "\n",
       "    .dataframe thead th {\n",
       "        text-align: right;\n",
       "    }\n",
       "</style>\n",
       "<table border=\"1\" class=\"dataframe\">\n",
       "  <thead>\n",
       "    <tr style=\"text-align: right;\">\n",
       "      <th></th>\n",
       "      <th>imdb_title_id</th>\n",
       "      <th>original_title_x</th>\n",
       "      <th>imdb_name_id</th>\n",
       "      <th>name_x</th>\n",
       "      <th>height</th>\n",
       "      <th>date_of_birth</th>\n",
       "      <th>place_of_birth</th>\n",
       "      <th>spouses</th>\n",
       "      <th>divorces</th>\n",
       "      <th>children</th>\n",
       "      <th>...</th>\n",
       "      <th>budget</th>\n",
       "      <th>usa_gross_income</th>\n",
       "      <th>worlwide_gross_income</th>\n",
       "      <th>metascore</th>\n",
       "      <th>reviews_from_users</th>\n",
       "      <th>reviews_from_critics</th>\n",
       "      <th>ordering</th>\n",
       "      <th>category</th>\n",
       "      <th>role</th>\n",
       "      <th>age_at_release</th>\n",
       "    </tr>\n",
       "  </thead>\n",
       "  <tbody>\n",
       "    <tr>\n",
       "      <th>0</th>\n",
       "      <td>tt0025164</td>\n",
       "      <td>The Gay Divorcee</td>\n",
       "      <td>nm0000001</td>\n",
       "      <td>Fred Astaire</td>\n",
       "      <td>177.00000</td>\n",
       "      <td>1899.00000</td>\n",
       "      <td>Omaha, Nebraska, USA</td>\n",
       "      <td>2</td>\n",
       "      <td>0</td>\n",
       "      <td>2</td>\n",
       "      <td>...</td>\n",
       "      <td>520000.00000</td>\n",
       "      <td>NaN</td>\n",
       "      <td>6750.00000</td>\n",
       "      <td>80.00000</td>\n",
       "      <td>61.00000</td>\n",
       "      <td>42.00000</td>\n",
       "      <td>1</td>\n",
       "      <td>actor</td>\n",
       "      <td>Guy Holden</td>\n",
       "      <td>35.00000</td>\n",
       "    </tr>\n",
       "  </tbody>\n",
       "</table>\n",
       "<p>1 rows × 26 columns</p>\n",
       "</div>"
      ],
      "text/plain": [
       "  imdb_title_id  original_title_x imdb_name_id        name_x    height  \\\n",
       "0     tt0025164  The Gay Divorcee    nm0000001  Fred Astaire 177.00000   \n",
       "\n",
       "   date_of_birth        place_of_birth  spouses  divorces  children  ...  \\\n",
       "0     1899.00000  Omaha, Nebraska, USA        2         0         2  ...   \n",
       "\n",
       "        budget usa_gross_income  worlwide_gross_income metascore  \\\n",
       "0 520000.00000              NaN             6750.00000  80.00000   \n",
       "\n",
       "  reviews_from_users  reviews_from_critics  ordering  category        role  \\\n",
       "0           61.00000              42.00000         1     actor  Guy Holden   \n",
       "\n",
       "   age_at_release  \n",
       "0        35.00000  \n",
       "\n",
       "[1 rows x 26 columns]"
      ]
     },
     "execution_count": 356,
     "metadata": {},
     "output_type": "execute_result"
    }
   ],
   "source": [
    "df_final.head(1)"
   ]
  },
  {
   "cell_type": "code",
   "execution_count": 357,
   "metadata": {},
   "outputs": [],
   "source": [
    "df_final['roi'] = df_final['worlwide_gross_income']/df_final['budget']"
   ]
  },
  {
   "cell_type": "code",
   "execution_count": 358,
   "metadata": {},
   "outputs": [],
   "source": [
    "df_final['year_date'] = pd.to_datetime(df_final['year'], format='%Y')"
   ]
  },
  {
   "cell_type": "code",
   "execution_count": 359,
   "metadata": {},
   "outputs": [],
   "source": [
    "pd.set_option('display.float_format', lambda x: '%.5f' % x)"
   ]
  },
  {
   "cell_type": "markdown",
   "metadata": {},
   "source": [
    "## 4.2 Preliminary EDA"
   ]
  },
  {
   "cell_type": "code",
   "execution_count": 422,
   "metadata": {},
   "outputs": [
    {
     "data": {
      "text/plain": [
       "<matplotlib.axes._subplots.AxesSubplot at 0x7fabe849fb50>"
      ]
     },
     "execution_count": 422,
     "metadata": {},
     "output_type": "execute_result"
    },
    {
     "data": {
      "image/png": "[encoded data removed]",
      "text/plain": [
       "<Figure size 1080x504 with 2 Axes>"
      ]
     },
     "metadata": {},
     "output_type": "display_data"
    }
   ],
   "source": [
    "# Showing values with more than 1% of data missing\n",
    "missingno.matrix(df_final, figsize = (15,7))#, filter='bottom',n=20, p=0.999, sort='ascending');"
   ]
  },
  {
   "cell_type": "code",
   "execution_count": 361,
   "metadata": {},
   "outputs": [
    {
     "data": {
      "text/plain": [
       "Index(['imdb_title_id', 'original_title_x', 'imdb_name_id', 'name_x', 'height',\n",
       "       'date_of_birth', 'place_of_birth', 'spouses', 'divorces', 'children',\n",
       "       'year', 'genre', 'duration', 'country', 'production_company',\n",
       "       'avg_vote', 'budget', 'usa_gross_income', 'worlwide_gross_income',\n",
       "       'metascore', 'reviews_from_users', 'reviews_from_critics', 'ordering',\n",
       "       'category', 'role', 'age_at_release', 'roi', 'year_date'],\n",
       "      dtype='object')"
      ]
     },
     "execution_count": 361,
     "metadata": {},
     "output_type": "execute_result"
    }
   ],
   "source": [
    "df_final.columns"
   ]
  },
  {
   "cell_type": "markdown",
   "metadata": {},
   "source": [
    "### Drop Rows where role is NaN"
   ]
  },
  {
   "cell_type": "code",
   "execution_count": 362,
   "metadata": {},
   "outputs": [],
   "source": [
    "df_final = df_final.dropna(subset=['role'])"
   ]
  },
  {
   "cell_type": "code",
   "execution_count": 363,
   "metadata": {},
   "outputs": [
    {
     "data": {
      "text/plain": [
       "imdb_title_id                0\n",
       "original_title_x             0\n",
       "imdb_name_id                 0\n",
       "name_x                       0\n",
       "height                   19110\n",
       "date_of_birth               46\n",
       "place_of_birth             925\n",
       "spouses                      0\n",
       "divorces                     0\n",
       "children                     0\n",
       "year                         0\n",
       "genre                        0\n",
       "duration                     0\n",
       "country                     16\n",
       "production_company        1836\n",
       "avg_vote                     0\n",
       "budget                   57144\n",
       "usa_gross_income         56118\n",
       "worlwide_gross_income    48799\n",
       "metascore                59043\n",
       "reviews_from_users        2115\n",
       "reviews_from_critics      5614\n",
       "ordering                     0\n",
       "category                     0\n",
       "role                         0\n",
       "age_at_release              46\n",
       "roi                      64591\n",
       "year_date                    0\n",
       "dtype: int64"
      ]
     },
     "execution_count": 363,
     "metadata": {},
     "output_type": "execute_result"
    }
   ],
   "source": [
    "df_final.isnull().sum()"
   ]
  },
  {
   "cell_type": "markdown",
   "metadata": {},
   "source": [
    "### Unloop The Genre Column"
   ]
  },
  {
   "cell_type": "code",
   "execution_count": 364,
   "metadata": {},
   "outputs": [],
   "source": []
  },
  {
   "cell_type": "markdown",
   "metadata": {},
   "source": [
    "### Create Primary DataSet of Movies Made After 1980 and in USA, with clearly defined race"
   ]
  },
  {
   "cell_type": "code",
   "execution_count": 365,
   "metadata": {},
   "outputs": [],
   "source": [
    "df = df_final[df_final['country'].str.contains('USA', na=False) & (df_final['year']>=1980)& (df_final['year']<2020) & ((df_final['category']=='actress')| (df_final['category']=='actor'))]"
   ]
  },
  {
   "cell_type": "code",
   "execution_count": 366,
   "metadata": {},
   "outputs": [],
   "source": [
    "df.reset_index(inplace = True, drop = True)"
   ]
  },
  {
   "cell_type": "code",
   "execution_count": 367,
   "metadata": {},
   "outputs": [
    {
     "data": {
      "text/html": [
       "<div>\n",
       "<style scoped>\n",
       "    .dataframe tbody tr th:only-of-type {\n",
       "        vertical-align: middle;\n",
       "    }\n",
       "\n",
       "    .dataframe tbody tr th {\n",
       "        vertical-align: top;\n",
       "    }\n",
       "\n",
       "    .dataframe thead th {\n",
       "        text-align: right;\n",
       "    }\n",
       "</style>\n",
       "<table border=\"1\" class=\"dataframe\">\n",
       "  <thead>\n",
       "    <tr style=\"text-align: right;\">\n",
       "      <th></th>\n",
       "      <th>imdb_title_id</th>\n",
       "      <th>original_title_x</th>\n",
       "      <th>imdb_name_id</th>\n",
       "      <th>name_x</th>\n",
       "      <th>height</th>\n",
       "      <th>date_of_birth</th>\n",
       "      <th>place_of_birth</th>\n",
       "      <th>spouses</th>\n",
       "      <th>divorces</th>\n",
       "      <th>children</th>\n",
       "      <th>...</th>\n",
       "      <th>worlwide_gross_income</th>\n",
       "      <th>metascore</th>\n",
       "      <th>reviews_from_users</th>\n",
       "      <th>reviews_from_critics</th>\n",
       "      <th>ordering</th>\n",
       "      <th>category</th>\n",
       "      <th>role</th>\n",
       "      <th>age_at_release</th>\n",
       "      <th>roi</th>\n",
       "      <th>year_date</th>\n",
       "    </tr>\n",
       "  </thead>\n",
       "  <tbody>\n",
       "    <tr>\n",
       "      <th>0</th>\n",
       "      <td>tt0095665</td>\n",
       "      <td>Mr. North</td>\n",
       "      <td>nm0000002</td>\n",
       "      <td>Lauren Bacall</td>\n",
       "      <td>174.00000</td>\n",
       "      <td>1924.00000</td>\n",
       "      <td>The Bronx, New York City, New York, USA</td>\n",
       "      <td>2</td>\n",
       "      <td>1</td>\n",
       "      <td>3</td>\n",
       "      <td>...</td>\n",
       "      <td>1221366.00000</td>\n",
       "      <td>NaN</td>\n",
       "      <td>18.00000</td>\n",
       "      <td>8.00000</td>\n",
       "      <td>3</td>\n",
       "      <td>actress</td>\n",
       "      <td>Amelia Cranston</td>\n",
       "      <td>64.00000</td>\n",
       "      <td>NaN</td>\n",
       "      <td>1988-01-01</td>\n",
       "    </tr>\n",
       "    <tr>\n",
       "      <th>1</th>\n",
       "      <td>tt0167423</td>\n",
       "      <td>Diamonds</td>\n",
       "      <td>nm0000002</td>\n",
       "      <td>Lauren Bacall</td>\n",
       "      <td>174.00000</td>\n",
       "      <td>1924.00000</td>\n",
       "      <td>The Bronx, New York City, New York, USA</td>\n",
       "      <td>2</td>\n",
       "      <td>1</td>\n",
       "      <td>3</td>\n",
       "      <td>...</td>\n",
       "      <td>88428.00000</td>\n",
       "      <td>33.00000</td>\n",
       "      <td>22.00000</td>\n",
       "      <td>30.00000</td>\n",
       "      <td>2</td>\n",
       "      <td>actress</td>\n",
       "      <td>Sin-Dee</td>\n",
       "      <td>75.00000</td>\n",
       "      <td>NaN</td>\n",
       "      <td>1999-01-01</td>\n",
       "    </tr>\n",
       "    <tr>\n",
       "      <th>2</th>\n",
       "      <td>tt0783608</td>\n",
       "      <td>The Walker</td>\n",
       "      <td>nm0000002</td>\n",
       "      <td>Lauren Bacall</td>\n",
       "      <td>174.00000</td>\n",
       "      <td>1924.00000</td>\n",
       "      <td>The Bronx, New York City, New York, USA</td>\n",
       "      <td>2</td>\n",
       "      <td>1</td>\n",
       "      <td>3</td>\n",
       "      <td>...</td>\n",
       "      <td>590416.00000</td>\n",
       "      <td>51.00000</td>\n",
       "      <td>58.00000</td>\n",
       "      <td>72.00000</td>\n",
       "      <td>3</td>\n",
       "      <td>actress</td>\n",
       "      <td>Natalie Van Miter</td>\n",
       "      <td>83.00000</td>\n",
       "      <td>0.05904</td>\n",
       "      <td>2007-01-01</td>\n",
       "    </tr>\n",
       "    <tr>\n",
       "      <th>3</th>\n",
       "      <td>tt1368858</td>\n",
       "      <td>The Forger</td>\n",
       "      <td>nm0000002</td>\n",
       "      <td>Lauren Bacall</td>\n",
       "      <td>174.00000</td>\n",
       "      <td>1924.00000</td>\n",
       "      <td>The Bronx, New York City, New York, USA</td>\n",
       "      <td>2</td>\n",
       "      <td>1</td>\n",
       "      <td>3</td>\n",
       "      <td>...</td>\n",
       "      <td>NaN</td>\n",
       "      <td>NaN</td>\n",
       "      <td>22.00000</td>\n",
       "      <td>8.00000</td>\n",
       "      <td>1</td>\n",
       "      <td>actress</td>\n",
       "      <td>Anne-Marie Cole</td>\n",
       "      <td>88.00000</td>\n",
       "      <td>NaN</td>\n",
       "      <td>2012-01-01</td>\n",
       "    </tr>\n",
       "    <tr>\n",
       "      <th>4</th>\n",
       "      <td>tt0080754</td>\n",
       "      <td>The Formula</td>\n",
       "      <td>nm0000008</td>\n",
       "      <td>Marlon Brando</td>\n",
       "      <td>175.00000</td>\n",
       "      <td>1924.00000</td>\n",
       "      <td>Omaha, Nebraska, USA</td>\n",
       "      <td>3</td>\n",
       "      <td>3</td>\n",
       "      <td>5</td>\n",
       "      <td>...</td>\n",
       "      <td>8894289.00000</td>\n",
       "      <td>NaN</td>\n",
       "      <td>33.00000</td>\n",
       "      <td>17.00000</td>\n",
       "      <td>2</td>\n",
       "      <td>actor</td>\n",
       "      <td>Adam Steiffel</td>\n",
       "      <td>56.00000</td>\n",
       "      <td>0.67381</td>\n",
       "      <td>1980-01-01</td>\n",
       "    </tr>\n",
       "  </tbody>\n",
       "</table>\n",
       "<p>5 rows × 28 columns</p>\n",
       "</div>"
      ],
      "text/plain": [
       "  imdb_title_id original_title_x imdb_name_id         name_x    height  \\\n",
       "0     tt0095665        Mr. North    nm0000002  Lauren Bacall 174.00000   \n",
       "1     tt0167423         Diamonds    nm0000002  Lauren Bacall 174.00000   \n",
       "2     tt0783608       The Walker    nm0000002  Lauren Bacall 174.00000   \n",
       "3     tt1368858       The Forger    nm0000002  Lauren Bacall 174.00000   \n",
       "4     tt0080754      The Formula    nm0000008  Marlon Brando 175.00000   \n",
       "\n",
       "   date_of_birth                           place_of_birth  spouses  divorces  \\\n",
       "0     1924.00000  The Bronx, New York City, New York, USA        2         1   \n",
       "1     1924.00000  The Bronx, New York City, New York, USA        2         1   \n",
       "2     1924.00000  The Bronx, New York City, New York, USA        2         1   \n",
       "3     1924.00000  The Bronx, New York City, New York, USA        2         1   \n",
       "4     1924.00000                     Omaha, Nebraska, USA        3         3   \n",
       "\n",
       "   children  ...  worlwide_gross_income metascore  reviews_from_users  \\\n",
       "0         3  ...          1221366.00000       NaN            18.00000   \n",
       "1         3  ...            88428.00000  33.00000            22.00000   \n",
       "2         3  ...           590416.00000  51.00000            58.00000   \n",
       "3         3  ...                    NaN       NaN            22.00000   \n",
       "4         5  ...          8894289.00000       NaN            33.00000   \n",
       "\n",
       "  reviews_from_critics ordering  category               role  age_at_release  \\\n",
       "0              8.00000        3   actress    Amelia Cranston        64.00000   \n",
       "1             30.00000        2   actress            Sin-Dee        75.00000   \n",
       "2             72.00000        3   actress  Natalie Van Miter        83.00000   \n",
       "3              8.00000        1   actress    Anne-Marie Cole        88.00000   \n",
       "4             17.00000        2     actor      Adam Steiffel        56.00000   \n",
       "\n",
       "      roi  year_date  \n",
       "0     NaN 1988-01-01  \n",
       "1     NaN 1999-01-01  \n",
       "2 0.05904 2007-01-01  \n",
       "3     NaN 2012-01-01  \n",
       "4 0.67381 1980-01-01  \n",
       "\n",
       "[5 rows x 28 columns]"
      ]
     },
     "execution_count": 367,
     "metadata": {},
     "output_type": "execute_result"
    }
   ],
   "source": [
    "df.head()"
   ]
  },
  {
   "cell_type": "code",
   "execution_count": 368,
   "metadata": {},
   "outputs": [
    {
     "data": {
      "text/plain": [
       "<matplotlib.axes._subplots.AxesSubplot at 0x7fabcb225e50>"
      ]
     },
     "execution_count": 368,
     "metadata": {},
     "output_type": "execute_result"
    },
    {
     "data": {
      "image/png": "[encoded data removed]",
      "text/plain": [
       "<Figure size 360x360 with 1 Axes>"
      ]
     },
     "metadata": {},
     "output_type": "display_data"
    }
   ],
   "source": [
    "# Race distribution for American Movies after 1980\n",
    "plt.figure(figsize=(5,5))\n",
    "df['category'].value_counts().plot(kind='pie')"
   ]
  },
  {
   "cell_type": "code",
   "execution_count": 369,
   "metadata": {},
   "outputs": [
    {
     "data": {
      "text/html": [
       "<div>\n",
       "<style scoped>\n",
       "    .dataframe tbody tr th:only-of-type {\n",
       "        vertical-align: middle;\n",
       "    }\n",
       "\n",
       "    .dataframe tbody tr th {\n",
       "        vertical-align: top;\n",
       "    }\n",
       "\n",
       "    .dataframe thead th {\n",
       "        text-align: right;\n",
       "    }\n",
       "</style>\n",
       "<table border=\"1\" class=\"dataframe\">\n",
       "  <thead>\n",
       "    <tr style=\"text-align: right;\">\n",
       "      <th></th>\n",
       "      <th>category</th>\n",
       "      <th>year</th>\n",
       "      <th>age_at_release</th>\n",
       "      <th>worlwide_gross_income</th>\n",
       "    </tr>\n",
       "  </thead>\n",
       "  <tbody>\n",
       "    <tr>\n",
       "      <th>0</th>\n",
       "      <td>actor</td>\n",
       "      <td>1980</td>\n",
       "      <td>45.40132</td>\n",
       "      <td>42389183.93056</td>\n",
       "    </tr>\n",
       "    <tr>\n",
       "      <th>1</th>\n",
       "      <td>actor</td>\n",
       "      <td>1981</td>\n",
       "      <td>41.95918</td>\n",
       "      <td>39056980.55072</td>\n",
       "    </tr>\n",
       "    <tr>\n",
       "      <th>2</th>\n",
       "      <td>actor</td>\n",
       "      <td>1982</td>\n",
       "      <td>43.22148</td>\n",
       "      <td>35843802.68478</td>\n",
       "    </tr>\n",
       "    <tr>\n",
       "      <th>3</th>\n",
       "      <td>actor</td>\n",
       "      <td>1983</td>\n",
       "      <td>40.30201</td>\n",
       "      <td>36756488.15000</td>\n",
       "    </tr>\n",
       "    <tr>\n",
       "      <th>4</th>\n",
       "      <td>actor</td>\n",
       "      <td>1984</td>\n",
       "      <td>39.70690</td>\n",
       "      <td>26568261.91057</td>\n",
       "    </tr>\n",
       "    <tr>\n",
       "      <th>...</th>\n",
       "      <td>...</td>\n",
       "      <td>...</td>\n",
       "      <td>...</td>\n",
       "      <td>...</td>\n",
       "    </tr>\n",
       "    <tr>\n",
       "      <th>75</th>\n",
       "      <td>actress</td>\n",
       "      <td>2015</td>\n",
       "      <td>37.47917</td>\n",
       "      <td>70166084.94382</td>\n",
       "    </tr>\n",
       "    <tr>\n",
       "      <th>76</th>\n",
       "      <td>actress</td>\n",
       "      <td>2016</td>\n",
       "      <td>38.16992</td>\n",
       "      <td>94091681.87179</td>\n",
       "    </tr>\n",
       "    <tr>\n",
       "      <th>77</th>\n",
       "      <td>actress</td>\n",
       "      <td>2017</td>\n",
       "      <td>39.90736</td>\n",
       "      <td>78447666.27477</td>\n",
       "    </tr>\n",
       "    <tr>\n",
       "      <th>78</th>\n",
       "      <td>actress</td>\n",
       "      <td>2018</td>\n",
       "      <td>40.26633</td>\n",
       "      <td>73721746.55187</td>\n",
       "    </tr>\n",
       "    <tr>\n",
       "      <th>79</th>\n",
       "      <td>actress</td>\n",
       "      <td>2019</td>\n",
       "      <td>39.37209</td>\n",
       "      <td>120120976.39041</td>\n",
       "    </tr>\n",
       "  </tbody>\n",
       "</table>\n",
       "<p>80 rows × 4 columns</p>\n",
       "</div>"
      ],
      "text/plain": [
       "   category  year  age_at_release  worlwide_gross_income\n",
       "0     actor  1980        45.40132         42389183.93056\n",
       "1     actor  1981        41.95918         39056980.55072\n",
       "2     actor  1982        43.22148         35843802.68478\n",
       "3     actor  1983        40.30201         36756488.15000\n",
       "4     actor  1984        39.70690         26568261.91057\n",
       "..      ...   ...             ...                    ...\n",
       "75  actress  2015        37.47917         70166084.94382\n",
       "76  actress  2016        38.16992         94091681.87179\n",
       "77  actress  2017        39.90736         78447666.27477\n",
       "78  actress  2018        40.26633         73721746.55187\n",
       "79  actress  2019        39.37209        120120976.39041\n",
       "\n",
       "[80 rows x 4 columns]"
      ]
     },
     "execution_count": 369,
     "metadata": {},
     "output_type": "execute_result"
    }
   ],
   "source": [
    "# Create Groupby to see how Race and Sentrnge relates to sentence lenght\n",
    "df.groupby(['category','year'])['age_at_release','worlwide_gross_income'].mean().reset_index()"
   ]
  },
  {
   "cell_type": "code",
   "execution_count": 370,
   "metadata": {},
   "outputs": [
    {
     "data": {
      "text/plain": [
       "category\n",
       "actor       58\n",
       "actress      8\n",
       "dtype: int64"
      ]
     },
     "execution_count": 370,
     "metadata": {},
     "output_type": "execute_result"
    }
   ],
   "source": [
    "df[df['role'].str.contains('police',na=False,case=False)][['category']].value_counts()"
   ]
  },
  {
   "cell_type": "code",
   "execution_count": 371,
   "metadata": {},
   "outputs": [
    {
     "data": {
      "text/plain": [
       "category\n",
       "actor       13231\n",
       "actress      8019\n",
       "dtype: int64"
      ]
     },
     "execution_count": 371,
     "metadata": {},
     "output_type": "execute_result"
    }
   ],
   "source": [
    "df[['category']].value_counts()"
   ]
  },
  {
   "cell_type": "markdown",
   "metadata": {},
   "source": [
    "### Remove Names in Roles"
   ]
  },
  {
   "cell_type": "markdown",
   "metadata": {},
   "source": [
    ">#### First Layer Strip with NLTK and then with Spacy"
   ]
  },
  {
   "cell_type": "code",
   "execution_count": 372,
   "metadata": {},
   "outputs": [],
   "source": [
    "def strip_names(strings):\n",
    "    \n",
    "    # Remove all punctuations\n",
    "    strings = strings.translate(str.maketrans('', '', string.punctuation))\n",
    "\n",
    "    # NLTK cleanse\n",
    "    Sentences = nltk.sent_tokenize(strings)\n",
    "    Tokens = []\n",
    "\n",
    "    for Sent in Sentences:\n",
    "        Tokens.append(nltk.word_tokenize(Sent)) \n",
    "        Words_List = [nltk.pos_tag(Token) for Token in Tokens]\n",
    "\n",
    "    Nouns_List = []\n",
    "\n",
    "    for List in Words_List:\n",
    "        for Word in List:\n",
    "            if re.match('[NN.*]', Word[1]):\n",
    "                 Nouns_List.append(Word[0])\n",
    "\n",
    "    Names = []\n",
    "    for Nouns in Nouns_List:\n",
    "        if not wordnet.synsets(Nouns):\n",
    "            Names.append(Nouns)\n",
    "\n",
    "    # Spacy.IO Cleanse\n",
    "    empty = []\n",
    "    doc = nlp(strings)\n",
    "    for entity in doc.ents:\n",
    "        if entity.label_ == 'PERSON':\n",
    "            empty.append(entity.text)\n",
    "    #return set(' '.join(empty+Names+manual_stopwords).split())\n",
    "\n",
    "    return list(set(' '.join(empty+Names).split()))"
   ]
  },
  {
   "cell_type": "code",
   "execution_count": 373,
   "metadata": {},
   "outputs": [
    {
     "name": "stderr",
     "output_type": "stream",
     "text": [
      "100%|██████████| 21250/21250 [02:53<00:00, 122.20it/s]\n"
     ]
    }
   ],
   "source": [
    "df['stopwords'] = df['role'].progress_apply(strip_names)"
   ]
  },
  {
   "cell_type": "code",
   "execution_count": 374,
   "metadata": {},
   "outputs": [
    {
     "data": {
      "text/plain": [
       "0                                  [Cranston]\n",
       "1                                    [SinDee]\n",
       "2                       [Miter, Natalie, Van]\n",
       "3                                 [AnneMarie]\n",
       "4                            [Adam, Steiffel]\n",
       "5         [Vito, Corleone, Sabatini, Carmine]\n",
       "6                     [de, Tomás, Torquemada]\n",
       "7     [Octavio, Dr, Flores, Jack, MicklerDon]\n",
       "8                                [Dr, Moreau]\n",
       "9                                       [Max]\n",
       "10                            [Marzack, Carl]\n",
       "11                  [Archibald, Archie, Long]\n",
       "12                           [Harry, Agensky]\n",
       "13                           [Baines, Donald]\n",
       "14                           [Thayer, Norman]\n",
       "Name: stopwords, dtype: object"
      ]
     },
     "execution_count": 374,
     "metadata": {},
     "output_type": "execute_result"
    }
   ],
   "source": [
    "df['stopwords'].head(15)"
   ]
  },
  {
   "cell_type": "code",
   "execution_count": 375,
   "metadata": {},
   "outputs": [],
   "source": [
    "string = []\n",
    "for i,j in df.iterrows():\n",
    "    string.extend(j['stopwords'])"
   ]
  },
  {
   "cell_type": "code",
   "execution_count": 376,
   "metadata": {},
   "outputs": [],
   "source": [
    "stopwords = nltk.corpus.stopwords.words('english')\n",
    "newStopWords = ['Father','Mr','Man', 'Brother', 'Film','Son','Role','Husband',\n",
    "                        'Character','Role','Mary','Aunt','Grace','Actress','Emily','Film',\n",
    "                        'Woman','Girl','Sister','Daughter','Wife','Mother','Mrs','John']\n",
    "stopwords.extend(newStopWords)\n",
    "stopwords.extend(string)\n",
    "stopwords.extend([x.lower() for x in newStopWords])\n",
    "stopwords.extend([x.lower() for x in string])"
   ]
  },
  {
   "cell_type": "code",
   "execution_count": 377,
   "metadata": {},
   "outputs": [
    {
     "data": {
      "text/plain": [
       "71951"
      ]
     },
     "execution_count": 377,
     "metadata": {},
     "output_type": "execute_result"
    }
   ],
   "source": [
    "len(stopwords)"
   ]
  },
  {
   "cell_type": "markdown",
   "metadata": {},
   "source": [
    "#### Number of Unique Movies"
   ]
  },
  {
   "cell_type": "code",
   "execution_count": 378,
   "metadata": {},
   "outputs": [
    {
     "data": {
      "text/plain": [
       "6606"
      ]
     },
     "execution_count": 378,
     "metadata": {},
     "output_type": "execute_result"
    }
   ],
   "source": [
    "df.imdb_title_id.nunique()"
   ]
  },
  {
   "cell_type": "code",
   "execution_count": 379,
   "metadata": {},
   "outputs": [
    {
     "data": {
      "text/plain": [
       "Index(['imdb_title_id', 'original_title_x', 'imdb_name_id', 'name_x', 'height',\n",
       "       'date_of_birth', 'place_of_birth', 'spouses', 'divorces', 'children',\n",
       "       'year', 'genre', 'duration', 'country', 'production_company',\n",
       "       'avg_vote', 'budget', 'usa_gross_income', 'worlwide_gross_income',\n",
       "       'metascore', 'reviews_from_users', 'reviews_from_critics', 'ordering',\n",
       "       'category', 'role', 'age_at_release', 'roi', 'year_date', 'stopwords'],\n",
       "      dtype='object')"
      ]
     },
     "execution_count": 379,
     "metadata": {},
     "output_type": "execute_result"
    }
   ],
   "source": [
    "df.columns"
   ]
  },
  {
   "cell_type": "code",
   "execution_count": 380,
   "metadata": {},
   "outputs": [
    {
     "data": {
      "text/plain": [
       "actor      4052\n",
       "actress    1756\n",
       "Name: category, dtype: int64"
      ]
     },
     "execution_count": 380,
     "metadata": {},
     "output_type": "execute_result"
    }
   ],
   "source": [
    "df[df['ordering']==1]['category'].value_counts()"
   ]
  },
  {
   "cell_type": "code",
   "execution_count": 412,
   "metadata": {},
   "outputs": [
    {
     "data": {
      "text/html": [
       "<div>\n",
       "<style scoped>\n",
       "    .dataframe tbody tr th:only-of-type {\n",
       "        vertical-align: middle;\n",
       "    }\n",
       "\n",
       "    .dataframe tbody tr th {\n",
       "        vertical-align: top;\n",
       "    }\n",
       "\n",
       "    .dataframe thead th {\n",
       "        text-align: right;\n",
       "    }\n",
       "</style>\n",
       "<table border=\"1\" class=\"dataframe\">\n",
       "  <thead>\n",
       "    <tr style=\"text-align: right;\">\n",
       "      <th></th>\n",
       "      <th>index</th>\n",
       "      <th>category</th>\n",
       "    </tr>\n",
       "  </thead>\n",
       "  <tbody>\n",
       "    <tr>\n",
       "      <th>0</th>\n",
       "      <td>actor</td>\n",
       "      <td>1711</td>\n",
       "    </tr>\n",
       "    <tr>\n",
       "      <th>1</th>\n",
       "      <td>actress</td>\n",
       "      <td>679</td>\n",
       "    </tr>\n",
       "  </tbody>\n",
       "</table>\n",
       "</div>"
      ],
      "text/plain": [
       "     index  category\n",
       "0    actor      1711\n",
       "1  actress       679"
      ]
     },
     "execution_count": 412,
     "metadata": {},
     "output_type": "execute_result"
    }
   ],
   "source": [
    "df[(df['ordering']==1) & (df['divorces']>=1)]['category'].value_counts().reset_index()"
   ]
  },
  {
   "cell_type": "code",
   "execution_count": 429,
   "metadata": {},
   "outputs": [
    {
     "data": {
      "text/plain": [
       "<matplotlib.axes._subplots.AxesSubplot at 0x7fac34d50ac0>"
      ]
     },
     "execution_count": 429,
     "metadata": {},
     "output_type": "execute_result"
    },
    {
     "data": {
      "image/png": "[encoded data removed]",
      "text/plain": [
       "<Figure size 1440x144 with 1 Axes>"
      ]
     },
     "metadata": {},
     "output_type": "display_data"
    }
   ],
   "source": [
    "fig = plt.figure(figsize=(20,2))\n",
    "sns.barplot(data=df[(df['ordering']==1) & (df['divorces']>=1)]['category'].value_counts().reset_index(),y='index',x='category',hue='index')"
   ]
  },
  {
   "cell_type": "code",
   "execution_count": 426,
   "metadata": {},
   "outputs": [
    {
     "data": {
      "text/plain": [
       "<matplotlib.axes._subplots.AxesSubplot at 0x7fabed534d60>"
      ]
     },
     "execution_count": 426,
     "metadata": {},
     "output_type": "execute_result"
    },
    {
     "data": {
      "image/png": "[encoded data removed]",
      "text/plain": [
       "<Figure size 1440x144 with 1 Axes>"
      ]
     },
     "metadata": {},
     "output_type": "display_data"
    }
   ],
   "source": [
    "fig = plt.figure(figsize=(20,2))\n",
    "sns.barplot(data=df[df['ordering']==1].groupby('category')['budget'].mean().reset_index(),y='category', x='budget',hue='category')"
   ]
  },
  {
   "cell_type": "code",
   "execution_count": 383,
   "metadata": {},
   "outputs": [
    {
     "data": {
      "text/plain": [
       "category\n",
       "actor     71308803.50018\n",
       "actress   39803303.71442\n",
       "Name: worlwide_gross_income, dtype: float64"
      ]
     },
     "execution_count": 383,
     "metadata": {},
     "output_type": "execute_result"
    }
   ],
   "source": [
    "df[df['ordering']==1].groupby('category')['worlwide_gross_income'].mean()"
   ]
  },
  {
   "cell_type": "code",
   "execution_count": 432,
   "metadata": {},
   "outputs": [
    {
     "data": {
      "text/plain": [
       "<matplotlib.axes._subplots.AxesSubplot at 0x7fabd33cd0d0>"
      ]
     },
     "execution_count": 432,
     "metadata": {},
     "output_type": "execute_result"
    },
    {
     "data": {
      "image/png": "[encoded data removed]",
      "text/plain": [
       "<Figure size 1440x720 with 1 Axes>"
      ]
     },
     "metadata": {},
     "output_type": "display_data"
    }
   ],
   "source": [
    "fig = plt.figure(figsize=(20,10))\n",
    "sns.countplot(y ='year', hue = \"category\", data = df)"
   ]
  },
  {
   "cell_type": "code",
   "execution_count": 402,
   "metadata": {},
   "outputs": [
    {
     "data": {
      "text/html": [
       "<div>\n",
       "<style scoped>\n",
       "    .dataframe tbody tr th:only-of-type {\n",
       "        vertical-align: middle;\n",
       "    }\n",
       "\n",
       "    .dataframe tbody tr th {\n",
       "        vertical-align: top;\n",
       "    }\n",
       "\n",
       "    .dataframe thead th {\n",
       "        text-align: right;\n",
       "    }\n",
       "</style>\n",
       "<table border=\"1\" class=\"dataframe\">\n",
       "  <thead>\n",
       "    <tr style=\"text-align: right;\">\n",
       "      <th></th>\n",
       "      <th>category</th>\n",
       "      <th>usa_gross_income</th>\n",
       "    </tr>\n",
       "  </thead>\n",
       "  <tbody>\n",
       "    <tr>\n",
       "      <th>0</th>\n",
       "      <td>actor</td>\n",
       "      <td>35208602.88264</td>\n",
       "    </tr>\n",
       "    <tr>\n",
       "      <th>1</th>\n",
       "      <td>actress</td>\n",
       "      <td>21592412.64693</td>\n",
       "    </tr>\n",
       "  </tbody>\n",
       "</table>\n",
       "</div>"
      ],
      "text/plain": [
       "  category  usa_gross_income\n",
       "0    actor    35208602.88264\n",
       "1  actress    21592412.64693"
      ]
     },
     "execution_count": 402,
     "metadata": {},
     "output_type": "execute_result"
    }
   ],
   "source": [
    "df[df['ordering']==1].groupby('category')['usa_gross_income'].mean().reset_index()"
   ]
  },
  {
   "cell_type": "code",
   "execution_count": 401,
   "metadata": {},
   "outputs": [
    {
     "data": {
      "text/html": [
       "<div>\n",
       "<style scoped>\n",
       "    .dataframe tbody tr th:only-of-type {\n",
       "        vertical-align: middle;\n",
       "    }\n",
       "\n",
       "    .dataframe tbody tr th {\n",
       "        vertical-align: top;\n",
       "    }\n",
       "\n",
       "    .dataframe thead th {\n",
       "        text-align: right;\n",
       "    }\n",
       "</style>\n",
       "<table border=\"1\" class=\"dataframe\">\n",
       "  <thead>\n",
       "    <tr style=\"text-align: right;\">\n",
       "      <th></th>\n",
       "      <th>category</th>\n",
       "      <th>age_at_release</th>\n",
       "    </tr>\n",
       "  </thead>\n",
       "  <tbody>\n",
       "    <tr>\n",
       "      <th>0</th>\n",
       "      <td>actor</td>\n",
       "      <td>41.10524</td>\n",
       "    </tr>\n",
       "    <tr>\n",
       "      <th>1</th>\n",
       "      <td>actress</td>\n",
       "      <td>34.63497</td>\n",
       "    </tr>\n",
       "  </tbody>\n",
       "</table>\n",
       "</div>"
      ],
      "text/plain": [
       "  category  age_at_release\n",
       "0    actor        41.10524\n",
       "1  actress        34.63497"
      ]
     },
     "execution_count": 401,
     "metadata": {},
     "output_type": "execute_result"
    }
   ],
   "source": [
    "df[df['ordering']==1].groupby('category')['age_at_release'].mean().reset_index()"
   ]
  },
  {
   "cell_type": "code",
   "execution_count": 398,
   "metadata": {},
   "outputs": [
    {
     "data": {
      "text/html": [
       "<div>\n",
       "<style scoped>\n",
       "    .dataframe tbody tr th:only-of-type {\n",
       "        vertical-align: middle;\n",
       "    }\n",
       "\n",
       "    .dataframe tbody tr th {\n",
       "        vertical-align: top;\n",
       "    }\n",
       "\n",
       "    .dataframe thead th {\n",
       "        text-align: right;\n",
       "    }\n",
       "</style>\n",
       "<table border=\"1\" class=\"dataframe\">\n",
       "  <thead>\n",
       "    <tr style=\"text-align: right;\">\n",
       "      <th></th>\n",
       "      <th>category</th>\n",
       "      <th>metascore</th>\n",
       "    </tr>\n",
       "  </thead>\n",
       "  <tbody>\n",
       "    <tr>\n",
       "      <th>0</th>\n",
       "      <td>actor</td>\n",
       "      <td>49.95130</td>\n",
       "    </tr>\n",
       "    <tr>\n",
       "      <th>1</th>\n",
       "      <td>actress</td>\n",
       "      <td>50.19227</td>\n",
       "    </tr>\n",
       "  </tbody>\n",
       "</table>\n",
       "</div>"
      ],
      "text/plain": [
       "  category  metascore\n",
       "0    actor   49.95130\n",
       "1  actress   50.19227"
      ]
     },
     "execution_count": 398,
     "metadata": {},
     "output_type": "execute_result"
    }
   ],
   "source": [
    "df[df['ordering']==1].groupby('category')['metascore'].mean().reset_index()"
   ]
  },
  {
   "cell_type": "code",
   "execution_count": 399,
   "metadata": {},
   "outputs": [
    {
     "data": {
      "text/html": [
       "<div>\n",
       "<style scoped>\n",
       "    .dataframe tbody tr th:only-of-type {\n",
       "        vertical-align: middle;\n",
       "    }\n",
       "\n",
       "    .dataframe tbody tr th {\n",
       "        vertical-align: top;\n",
       "    }\n",
       "\n",
       "    .dataframe thead th {\n",
       "        text-align: right;\n",
       "    }\n",
       "</style>\n",
       "<table border=\"1\" class=\"dataframe\">\n",
       "  <thead>\n",
       "    <tr style=\"text-align: right;\">\n",
       "      <th></th>\n",
       "      <th>category</th>\n",
       "      <th>avg_vote</th>\n",
       "    </tr>\n",
       "  </thead>\n",
       "  <tbody>\n",
       "    <tr>\n",
       "      <th>0</th>\n",
       "      <td>actor</td>\n",
       "      <td>5.71320</td>\n",
       "    </tr>\n",
       "    <tr>\n",
       "      <th>1</th>\n",
       "      <td>actress</td>\n",
       "      <td>5.55843</td>\n",
       "    </tr>\n",
       "  </tbody>\n",
       "</table>\n",
       "</div>"
      ],
      "text/plain": [
       "  category  avg_vote\n",
       "0    actor   5.71320\n",
       "1  actress   5.55843"
      ]
     },
     "execution_count": 399,
     "metadata": {},
     "output_type": "execute_result"
    }
   ],
   "source": [
    "df[df['ordering']==1].groupby('category')['avg_vote'].mean().reset_index()"
   ]
  },
  {
   "cell_type": "code",
   "execution_count": 400,
   "metadata": {},
   "outputs": [
    {
     "data": {
      "text/html": [
       "<div>\n",
       "<style scoped>\n",
       "    .dataframe tbody tr th:only-of-type {\n",
       "        vertical-align: middle;\n",
       "    }\n",
       "\n",
       "    .dataframe tbody tr th {\n",
       "        vertical-align: top;\n",
       "    }\n",
       "\n",
       "    .dataframe thead th {\n",
       "        text-align: right;\n",
       "    }\n",
       "</style>\n",
       "<table border=\"1\" class=\"dataframe\">\n",
       "  <thead>\n",
       "    <tr style=\"text-align: right;\">\n",
       "      <th></th>\n",
       "      <th>category</th>\n",
       "      <th>reviews_from_critics</th>\n",
       "    </tr>\n",
       "  </thead>\n",
       "  <tbody>\n",
       "    <tr>\n",
       "      <th>0</th>\n",
       "      <td>actor</td>\n",
       "      <td>76.69072</td>\n",
       "    </tr>\n",
       "    <tr>\n",
       "      <th>1</th>\n",
       "      <td>actress</td>\n",
       "      <td>58.68801</td>\n",
       "    </tr>\n",
       "  </tbody>\n",
       "</table>\n",
       "</div>"
      ],
      "text/plain": [
       "  category  reviews_from_critics\n",
       "0    actor              76.69072\n",
       "1  actress              58.68801"
      ]
     },
     "execution_count": 400,
     "metadata": {},
     "output_type": "execute_result"
    }
   ],
   "source": [
    "df[df['ordering']==1].groupby('category')['reviews_from_critics'].mean().reset_index()"
   ]
  },
  {
   "cell_type": "code",
   "execution_count": 393,
   "metadata": {},
   "outputs": [],
   "source": [
    "test = df[(df['ordering']==1)].groupby(['category','year'])['year_date'].agg('count')"
   ]
  },
  {
   "cell_type": "code",
   "execution_count": 394,
   "metadata": {},
   "outputs": [],
   "source": [
    "test = test.reset_index()"
   ]
  },
  {
   "cell_type": "code",
   "execution_count": 395,
   "metadata": {},
   "outputs": [
    {
     "data": {
      "text/html": [
       "<div>\n",
       "<style scoped>\n",
       "    .dataframe tbody tr th:only-of-type {\n",
       "        vertical-align: middle;\n",
       "    }\n",
       "\n",
       "    .dataframe tbody tr th {\n",
       "        vertical-align: top;\n",
       "    }\n",
       "\n",
       "    .dataframe thead th {\n",
       "        text-align: right;\n",
       "    }\n",
       "</style>\n",
       "<table border=\"1\" class=\"dataframe\">\n",
       "  <thead>\n",
       "    <tr style=\"text-align: right;\">\n",
       "      <th></th>\n",
       "      <th>index</th>\n",
       "      <th>category</th>\n",
       "      <th>year</th>\n",
       "      <th>year_date</th>\n",
       "    </tr>\n",
       "  </thead>\n",
       "  <tbody>\n",
       "    <tr>\n",
       "      <th>0</th>\n",
       "      <td>0</td>\n",
       "      <td>actor</td>\n",
       "      <td>1980</td>\n",
       "      <td>48</td>\n",
       "    </tr>\n",
       "    <tr>\n",
       "      <th>1</th>\n",
       "      <td>1</td>\n",
       "      <td>actor</td>\n",
       "      <td>1981</td>\n",
       "      <td>46</td>\n",
       "    </tr>\n",
       "    <tr>\n",
       "      <th>2</th>\n",
       "      <td>2</td>\n",
       "      <td>actor</td>\n",
       "      <td>1982</td>\n",
       "      <td>42</td>\n",
       "    </tr>\n",
       "    <tr>\n",
       "      <th>3</th>\n",
       "      <td>3</td>\n",
       "      <td>actor</td>\n",
       "      <td>1983</td>\n",
       "      <td>47</td>\n",
       "    </tr>\n",
       "    <tr>\n",
       "      <th>4</th>\n",
       "      <td>4</td>\n",
       "      <td>actor</td>\n",
       "      <td>1984</td>\n",
       "      <td>55</td>\n",
       "    </tr>\n",
       "  </tbody>\n",
       "</table>\n",
       "</div>"
      ],
      "text/plain": [
       "   index category  year  year_date\n",
       "0      0    actor  1980         48\n",
       "1      1    actor  1981         46\n",
       "2      2    actor  1982         42\n",
       "3      3    actor  1983         47\n",
       "4      4    actor  1984         55"
      ]
     },
     "execution_count": 395,
     "metadata": {},
     "output_type": "execute_result"
    }
   ],
   "source": [
    "test.head()"
   ]
  },
  {
   "cell_type": "code",
   "execution_count": null,
   "metadata": {},
   "outputs": [],
   "source": [
    "test['pct'] = (test['year_date']/test.groupby('year')['year_date'].sum())"
   ]
  },
  {
   "cell_type": "code",
   "execution_count": 396,
   "metadata": {},
   "outputs": [
    {
     "data": {
      "image/png": "[encoded data removed]",
      "text/plain": [
       "<Figure size 540x360 with 1 Axes>"
      ]
     },
     "metadata": {},
     "output_type": "display_data"
    }
   ],
   "source": [
    "# Code\n",
    "plt.figure(figsize=(7.5,5))\n",
    "# plt.gca().set(ylim =(0,500))\n",
    "plt.gca().set(xlim =(1980,2019))\n",
    "ax = sns.lineplot(data = test, x = 'year', y='year_date', hue ='category')\n",
    "ax.set(xlabel='Release Year of Movie', ylabel='Number of Movies Released starring Lead Actor or Actress', title='Line Plot of [No Of Movies Starring Lead Actor/Actress] against [Year of Release] with [Actor/Actress] as Hue');"
   ]
  },
  {
   "cell_type": "code",
   "execution_count": 397,
   "metadata": {},
   "outputs": [
    {
     "data": {
      "text/plain": [
       "<matplotlib.axes._subplots.AxesSubplot at 0x7fabe7397c10>"
      ]
     },
     "execution_count": 397,
     "metadata": {},
     "output_type": "execute_result"
    },
    {
     "data": {
      "image/png": "[encoded data removed]",
      "text/plain": [
       "<Figure size 540x360 with 1 Axes>"
      ]
     },
     "metadata": {},
     "output_type": "display_data"
    }
   ],
   "source": [
    "plt.figure(figsize=(7.5,5))\n",
    "sns.histplot(test, x='year', hue='category', weights='year_date', stat = 'count',\n",
    "             multiple='stack', palette='tab20c', shrink=0.8, bins = 40)"
   ]
  },
  {
   "cell_type": "code",
   "execution_count": null,
   "metadata": {},
   "outputs": [],
   "source": [
    "# Code\n",
    "plt.figure(figsize=(7.5,5))\n",
    "# plt.gca().set(ylim =(0,500))\n",
    "plt.gca().set(xlim =(1980,2019))\n",
    "ax = sns.lineplot(data = df[(df['ordering']==1) & (df['genre'].str.contains('romance',case=False, na=False))].groupby(['category','year'])['year_date'].agg('count').reset_index(), x = 'year', y='year_date', hue ='category')\n",
    "ax.set(xlabel='Release Year of Movie', ylabel='Number of Movies Released starring Lead Actor or Actress', title='Line Plot of [No Of Movies Starring Lead Actor/Actress] against [Year of Release] with [Actor/Actress] as Hue');"
   ]
  },
  {
   "cell_type": "code",
   "execution_count": null,
   "metadata": {},
   "outputs": [],
   "source": [
    "# Code\n",
    "plt.figure(figsize=(7.5,5))\n",
    "# plt.gca().set(ylim =(0,500))\n",
    "plt.gca().set(xlim =(1980,2019))\n",
    "ax = sns.lineplot(data = df[(df['ordering']==1) & (df['genre'].str.contains('action',case=False, na=False))].groupby(['category','year'])['year_date'].agg('count').reset_index(), x = 'year', y='year_date', hue ='category')\n",
    "ax.set(xlabel='Release Year of Movie', ylabel='Number of Movies Released starring Lead Actor or Actress', title='Line Plot of [No Of Movies Starring Lead Actor/Actress] against [Year of Release] with [Actor/Actress] as Hue');"
   ]
  },
  {
   "cell_type": "code",
   "execution_count": null,
   "metadata": {},
   "outputs": [],
   "source": []
  },
  {
   "cell_type": "code",
   "execution_count": null,
   "metadata": {},
   "outputs": [],
   "source": [
    "# Code\n",
    "plt.figure(figsize=(7.5,5))\n",
    "# plt.gca().set(ylim =(0,500))\n",
    "plt.gca().set(xlim =(1980,2019))\n",
    "ax = sns.lineplot(data = df.groupby(['category','year'])['ordering'].agg('mean').reset_index(), x = 'year', y='ordering', hue ='category')\n",
    "ax.set(xlabel='Release Year of Movie', ylabel='Number of Movies Released starring Lead Actor or Actress', title='Line Plot of [No Of Movies Starring Lead Actor/Actress] against [Year of Release] with [Actor/Actress] as Hue');"
   ]
  },
  {
   "cell_type": "code",
   "execution_count": null,
   "metadata": {},
   "outputs": [],
   "source": [
    "# Code\n",
    "plt.figure(figsize=(7.5,5))\n",
    "# plt.gca().set(ylim =(0,500))\n",
    "plt.gca().set(xlim =(1980,2019))\n",
    "ax = sns.lineplot(data = df.groupby(['category','year'])['age_at_release'].agg('mean').reset_index(), x = 'year', y='age_at_release', hue ='category')\n",
    "ax.set(xlabel='Release Year of Movie', ylabel='Number of Movies Released starring Lead Actor or Actress', title='Line Plot of [No Of Movies Starring Lead Actor/Actress] against [Year of Release] with [Actor/Actress] as Hue');"
   ]
  },
  {
   "cell_type": "code",
   "execution_count": null,
   "metadata": {},
   "outputs": [],
   "source": [
    "df.groupby(['category','year'])['reviews_from_critics'].mean()"
   ]
  },
  {
   "cell_type": "code",
   "execution_count": null,
   "metadata": {},
   "outputs": [],
   "source": [
    "test = df[df['ordering']==1].groupby('category')['usa_gross_income'].mean()"
   ]
  },
  {
   "cell_type": "code",
   "execution_count": null,
   "metadata": {},
   "outputs": [],
   "source": [
    "df"
   ]
  },
  {
   "cell_type": "markdown",
   "metadata": {},
   "source": [
    "#### Number of movies released per year"
   ]
  },
  {
   "cell_type": "code",
   "execution_count": 81,
   "metadata": {},
   "outputs": [
    {
     "data": {
      "text/plain": [
       "<matplotlib.axes._subplots.AxesSubplot at 0x7fac18e3e0d0>"
      ]
     },
     "execution_count": 81,
     "metadata": {},
     "output_type": "execute_result"
    },
    {
     "data": {
      "image/png": "[encoded data removed]",
      "text/plain": [
       "<Figure size 1080x720 with 1 Axes>"
      ]
     },
     "metadata": {},
     "output_type": "display_data"
    }
   ],
   "source": [
    "# Race distribution for American Movies after 1980\n",
    "plt.figure(figsize=(15,10))\n",
    "sns.countplot(data = df, x='year')"
   ]
  },
  {
   "cell_type": "code",
   "execution_count": 433,
   "metadata": {},
   "outputs": [
    {
     "data": {
      "image/png": "[encoded data removed]",
      "text/plain": [
       "<Figure size 1260x2880 with 40 Axes>"
      ]
     },
     "metadata": {},
     "output_type": "display_data"
    }
   ],
   "source": [
    "lm =sns.catplot(x=\"category\", col=\"year\", col_wrap=5, \n",
    "                 data=df,# Focuses on Drug Cases Only\n",
    "                 kind=\"count\", height=5, aspect=.7).fig.suptitle(\"Drug Trafficking Cases: Race Distribution Per Sentence Range\",y=1.019,fontsize = 16)"
   ]
  },
  {
   "cell_type": "code",
   "execution_count": 138,
   "metadata": {},
   "outputs": [],
   "source": [
    "# lm =sns.catplot(x=\"main_race\", col=\"year\", col_wrap=3, \n",
    "#                 data=df_final[df_final['country'].str.contains('USA', na=False) & (df_final['main_race']!='unsure') & (df_final['year']>=1980)],# Focuses on Drug Cases Only\n",
    "#                 kind=\"count\", height=5, aspect=.7).fig.suptitle(\"Drug Trafficking Cases: Race Distribution Per Sentence Range\",y=1.019,fontsize = 16)"
   ]
  },
  {
   "cell_type": "markdown",
   "metadata": {},
   "source": [
    "## 2.4 Identify Top Occuring Words in both Subreddits"
   ]
  },
  {
   "cell_type": "markdown",
   "metadata": {},
   "source": [
    "### 2.4.1 Identify Top Occuring Words in Roles played by White Characters"
   ]
  },
  {
   "cell_type": "code",
   "execution_count": 177,
   "metadata": {},
   "outputs": [
    {
     "data": {
      "image/png": "[encoded data removed]",
      "text/plain": [
       "<Figure size 1080x720 with 1 Axes>"
      ]
     },
     "metadata": {},
     "output_type": "display_data"
    }
   ],
   "source": [
    "c_vectorizer = CountVectorizer(min_df=5,stop_words=stopwords)\n",
    "# Instantiate Countvectorizer ensuring that a word must occur in at least two documents\n",
    "# And that standard stop words are omitted\n",
    "X_temp_pr = df[df['category'] == 'actor']['role'].copy()\n",
    "X_temp_pr.reset_index(drop=True, inplace = True)\n",
    "c_vectorizer.fit(X_temp_pr) # Fit\n",
    "X_binary_temp_pr = c_vectorizer.transform(X_temp_pr) # Transform X to binary\n",
    "# remember to use .todense() to de-sparsify the count vectorized text\n",
    "X_binary_temp_dense_pr = pd.DataFrame(X_binary_temp_pr.todense(), columns=c_vectorizer.get_feature_names())\n",
    "\n",
    "# plot top occuring words\n",
    "plt.figure(figsize=(15,10))\n",
    "plt.xlabel(\"Frequnecy of Occurence\",fontsize=15)\n",
    "plt.ylabel(\"Words\",fontsize=15)\n",
    "plt.title (\"Bar Chart of Top 25 Occuring Words in Procreate and their Frequency\",fontsize=15, y=1, fontweight='bold', x=0.5)\n",
    "X_binary_temp_dense_pr.sum().sort_values(ascending=False).head(25).plot(kind='barh', color = 'skyblue'); # Show top 10 words as a bar chart"
   ]
  },
  {
   "cell_type": "markdown",
   "metadata": {},
   "source": [
    "### 2.4.2 Identify Top Occuring Words in Roles played by Black Characters"
   ]
  },
  {
   "cell_type": "code",
   "execution_count": 178,
   "metadata": {},
   "outputs": [
    {
     "data": {
      "image/png": "[encoded data removed]",
      "text/plain": [
       "<Figure size 1080x720 with 1 Axes>"
      ]
     },
     "metadata": {},
     "output_type": "display_data"
    }
   ],
   "source": [
    "c_vectorizer = CountVectorizer(min_df=5,stop_words=stopwords)\n",
    "# Instantiate Countvectorizer ensuring that a word must occur in at least two documents\n",
    "# And that standard stop words are omitted\n",
    "X_temp_pr = df[df['category'] == 'actress']['role'].copy()\n",
    "X_temp_pr.reset_index(drop=True, inplace = True)\n",
    "c_vectorizer.fit(X_temp_pr) # Fit\n",
    "X_binary_temp_pr = c_vectorizer.transform(X_temp_pr) # Transform X to binary\n",
    "# remember to use .todense() to de-sparsify the count vectorized text\n",
    "X_binary_temp_dense_pr = pd.DataFrame(X_binary_temp_pr.todense(), columns=c_vectorizer.get_feature_names())\n",
    "\n",
    "# plot top occuring words\n",
    "plt.figure(figsize=(15,10))\n",
    "plt.xlabel(\"Frequnecy of Occurence\",fontsize=15)\n",
    "plt.ylabel(\"Words\",fontsize=15)\n",
    "plt.title (\"Bar Chart of Top 25 Occuring Words in Procreate and their Frequency\",fontsize=15, y=1, fontweight='bold', x=0.5)\n",
    "X_binary_temp_dense_pr.sum().sort_values(ascending=False).head(25).plot(kind='barh', color = 'black'); # Show top 10 words as a bar chart"
   ]
  },
  {
   "cell_type": "code",
   "execution_count": 186,
   "metadata": {},
   "outputs": [
    {
     "data": {
      "image/png": "[encoded data removed]",
      "text/plain": [
       "<Figure size 1080x720 with 1 Axes>"
      ]
     },
     "metadata": {},
     "output_type": "display_data"
    }
   ],
   "source": [
    "c_vectorizer = CountVectorizer(ngram_range=(3,3),min_df=5)\n",
    "# Instantiate Countvectorizer ensuring that a word must occur in at least two documents\n",
    "# And that standard stop words are omitted\n",
    "X_temp_pr = df[df['category'] == 'actor']['role'].copy()\n",
    "X_temp_pr.reset_index(drop=True, inplace = True)\n",
    "c_vectorizer.fit(X_temp_pr) # Fit\n",
    "X_binary_temp_pr = c_vectorizer.transform(X_temp_pr) # Transform X to binary\n",
    "# remember to use .todense() to de-sparsify the count vectorized text\n",
    "X_binary_temp_dense_pr = pd.DataFrame(X_binary_temp_pr.todense(), columns=c_vectorizer.get_feature_names())\n",
    "\n",
    "# plot top occuring words\n",
    "plt.figure(figsize=(15,10))\n",
    "plt.xlabel(\"Frequnecy of Occurence\",fontsize=15)\n",
    "plt.ylabel(\"Words\",fontsize=15)\n",
    "plt.title (\"Bar Chart of Top 25 Occuring Words in Procreate and their Frequency\",fontsize=15, y=1, fontweight='bold', x=0.5)\n",
    "X_binary_temp_dense_pr.sum().sort_values(ascending=False).head(25).plot(kind='barh', color = 'lightblue'); # Show top 10 words as a bar chart"
   ]
  },
  {
   "cell_type": "code",
   "execution_count": 184,
   "metadata": {},
   "outputs": [
    {
     "data": {
      "image/png": "[encoded data removed]",
      "text/plain": [
       "<Figure size 1080x720 with 1 Axes>"
      ]
     },
     "metadata": {},
     "output_type": "display_data"
    }
   ],
   "source": [
    "c_vectorizer = CountVectorizer(ngram_range=(3,3),min_df=5)\n",
    "# Instantiate Countvectorizer ensuring that a word must occur in at least two documents\n",
    "# And that standard stop words are omitted\n",
    "X_temp_pr = df[df['category'] == 'actress']['role'].copy()\n",
    "X_temp_pr.reset_index(drop=True, inplace = True)\n",
    "c_vectorizer.fit(X_temp_pr) # Fit\n",
    "X_binary_temp_pr = c_vectorizer.transform(X_temp_pr) # Transform X to binary\n",
    "# remember to use .todense() to de-sparsify the count vectorized text\n",
    "X_binary_temp_dense_pr = pd.DataFrame(X_binary_temp_pr.todense(), columns=c_vectorizer.get_feature_names())\n",
    "\n",
    "# plot top occuring words\n",
    "plt.figure(figsize=(15,10))\n",
    "plt.xlabel(\"Frequnecy of Occurence\",fontsize=15)\n",
    "plt.ylabel(\"Words\",fontsize=15)\n",
    "plt.title (\"Bar Chart of Top 25 Occuring Words in Procreate and their Frequency\",fontsize=15, y=1, fontweight='bold', x=0.5)\n",
    "X_binary_temp_dense_pr.sum().sort_values(ascending=False).head(25).plot(kind='barh', color = 'black'); # Show top 10 words as a bar chart"
   ]
  },
  {
   "cell_type": "markdown",
   "metadata": {},
   "source": [
    "### Modelling"
   ]
  },
  {
   "cell_type": "code",
   "execution_count": 187,
   "metadata": {},
   "outputs": [],
   "source": [
    "X = df['role'].copy()\n",
    "y = df['category'].copy()\n",
    "\n",
    "X_train, X_test, y_train, y_test = train_test_split(X, y, random_state=42, stratify=y)"
   ]
  },
  {
   "cell_type": "code",
   "execution_count": 442,
   "metadata": {},
   "outputs": [],
   "source": [
    "df_temp = df['genre'].str.split(',').str.join('|').str.get_dummies()"
   ]
  },
  {
   "cell_type": "code",
   "execution_count": 510,
   "metadata": {},
   "outputs": [
    {
     "data": {
      "text/plain": [
       "0                Comedy Drama\n",
       "1              Comedy Mystery\n",
       "2         Crime Drama Mystery\n",
       "3                       Drama\n",
       "4              Crime Thriller\n",
       "                 ...         \n",
       "21245    Drama Family Romance\n",
       "21246    Drama Horror Romance\n",
       "21247             Drama SciFi\n",
       "21248    Comedy Drama Romance\n",
       "21249      Action Crime Drama\n",
       "Name: genre, Length: 21250, dtype: object"
      ]
     },
     "execution_count": 510,
     "metadata": {},
     "output_type": "execute_result"
    }
   ],
   "source": [
    "df['genre'].str.replace(r'[^\\w\\s]+','')"
   ]
  },
  {
   "cell_type": "code",
   "execution_count": 514,
   "metadata": {},
   "outputs": [
    {
     "data": {
      "text/plain": [
       "0                  [Comedy,  Drama]\n",
       "1                [Comedy,  Mystery]\n",
       "2         [Crime,  Drama,  Mystery]\n",
       "3                           [Drama]\n",
       "4                [Crime,  Thriller]\n",
       "                    ...            \n",
       "21245    [Drama,  Family,  Romance]\n",
       "21246    [Drama,  Horror,  Romance]\n",
       "21247              [Drama,  Sci-Fi]\n",
       "21248    [Comedy,  Drama,  Romance]\n",
       "21249      [Action,  Crime,  Drama]\n",
       "Name: genre, Length: 21250, dtype: object"
      ]
     },
     "execution_count": 514,
     "metadata": {},
     "output_type": "execute_result"
    }
   ],
   "source": [
    "df['genre'].str.split(',')"
   ]
  },
  {
   "cell_type": "code",
   "execution_count": 455,
   "metadata": {},
   "outputs": [
    {
     "data": {
      "text/plain": [
       "Index([' Action', ' Adventure', ' Animation', ' Biography', ' Comedy',\n",
       "       ' Crime', ' Drama', ' Family', ' Fantasy', ' History', ' Horror',\n",
       "       ' Music', ' Musical', ' Mystery', ' Romance', ' Sci-Fi', ' Sport',\n",
       "       ' Thriller', ' War', ' Western', 'Action', 'Adventure', 'Animation',\n",
       "       'Biography', 'Comedy', 'Crime', 'Drama', 'Family', 'Fantasy', 'Horror',\n",
       "       'Music', 'Musical', 'Mystery', 'Romance', 'Sci-Fi', 'Sport', 'Thriller',\n",
       "       'Western', 'imdb_title_id', 'original_title_x', 'imdb_name_id',\n",
       "       'name_x', 'height', 'date_of_birth', 'place_of_birth', 'spouses',\n",
       "       'divorces', 'children', 'year', 'genre', 'duration', 'country',\n",
       "       'production_company', 'avg_vote', 'budget', 'usa_gross_income',\n",
       "       'worlwide_gross_income', 'metascore', 'reviews_from_users',\n",
       "       'reviews_from_critics', 'ordering', 'category', 'age_at_release'],\n",
       "      dtype='object')"
      ]
     },
     "execution_count": 455,
     "metadata": {},
     "output_type": "execute_result"
    }
   ],
   "source": [
    "df_full.columns"
   ]
  },
  {
   "cell_type": "code",
   "execution_count": 477,
   "metadata": {},
   "outputs": [],
   "source": [
    "df_full = pd.concat ([df_temp,df], axis =1).reset_index()\n",
    "del df_full ['stopwords']\n",
    "del df_full ['role']\n",
    "del df_full ['year_date']\n",
    "del df_full ['roi']\n",
    "del df_full ['imdb_title_id']\n",
    "del df_full ['original_title_x']\n",
    "del df_full ['imdb_name_id']\n",
    "del df_full ['name_x']\n",
    "del df_full ['height']\n",
    "del df_full ['date_of_birth']\n",
    "del df_full ['place_of_birth']\n",
    "del df_full ['country']\n",
    "del df_full ['genre']\n",
    "del df_full ['production_company']\n",
    "del df_full ['budget']\n",
    "del df_full ['usa_gross_income']\n",
    "del df_full ['worlwide_gross_income']\n",
    "del df_full ['metascore']\n",
    "del df_full ['reviews_from_users']\n",
    "del df_full ['reviews_from_critics']\n",
    "del df_full ['age_at_release']"
   ]
  },
  {
   "cell_type": "code",
   "execution_count": 463,
   "metadata": {},
   "outputs": [
    {
     "data": {
      "text/plain": [
       "(21250,)"
      ]
     },
     "execution_count": 463,
     "metadata": {},
     "output_type": "execute_result"
    }
   ],
   "source": [
    "y_full.shape"
   ]
  },
  {
   "cell_type": "code",
   "execution_count": 478,
   "metadata": {},
   "outputs": [],
   "source": [
    "X_full = df_full.drop(columns = 'category')\n",
    "y_full = df_full['category'].copy()\n",
    "\n",
    "X_trains, X_tests, y_trains, y_tests = train_test_split(X_full, y_full, random_state=42, stratify=y_full)"
   ]
  },
  {
   "cell_type": "markdown",
   "metadata": {},
   "source": [
    "## 3.2 Comparing models\n",
    "### 3.2.1 SVM Model with Count Vectorizer"
   ]
  },
  {
   "cell_type": "code",
   "execution_count": 208,
   "metadata": {},
   "outputs": [
    {
     "name": "stdout",
     "output_type": "stream",
     "text": [
      "This took 22.6528000831604 second to run\n",
      "With train accuracy score of [98]%\n",
      "and testing accuracy score of [89]%\n"
     ]
    }
   ],
   "source": [
    "start_time = time.time()\n",
    "pipe = Pipeline([\n",
    "    ('cv', CountVectorizer(stop_words='english')),\n",
    "    ('svm', svm.SVC(kernel='linear'))\n",
    "])\n",
    "\n",
    "pipe.fit(X_train, y_train)\n",
    "pipe.score(X_train, y_train), pipe.score(X_test, y_test)\n",
    "log_time = (time.time() - start_time)\n",
    "print (f'''This took {log_time} second to run\n",
    "With train accuracy score of [{round(100*pipe.score(X_train, y_train))}]%\n",
    "and testing accuracy score of [{round(100*pipe.score(X_test, y_test))}]%''')"
   ]
  },
  {
   "cell_type": "code",
   "execution_count": 209,
   "metadata": {},
   "outputs": [
    {
     "data": {
      "text/plain": [
       "array([[3213,  130],\n",
       "       [ 435, 1594]])"
      ]
     },
     "execution_count": 209,
     "metadata": {},
     "output_type": "execute_result"
    }
   ],
   "source": [
    "confusion_matrix(y_test, pipe.predict(X_test))"
   ]
  },
  {
   "cell_type": "code",
   "execution_count": 210,
   "metadata": {},
   "outputs": [
    {
     "name": "stdout",
     "output_type": "stream",
     "text": [
      "              precision    recall  f1-score   support\n",
      "\n",
      "       actor       0.88      0.96      0.92      3343\n",
      "     actress       0.92      0.79      0.85      2029\n",
      "\n",
      "    accuracy                           0.89      5372\n",
      "   macro avg       0.90      0.87      0.88      5372\n",
      "weighted avg       0.90      0.89      0.89      5372\n",
      "\n"
     ]
    }
   ],
   "source": [
    "print (classification_report(y_test, pipe.predict(X_test)))"
   ]
  },
  {
   "cell_type": "markdown",
   "metadata": {},
   "source": [
    "### 3.2.2 SVM Model with TFIDF Vectorizer"
   ]
  },
  {
   "cell_type": "code",
   "execution_count": 190,
   "metadata": {},
   "outputs": [
    {
     "name": "stdout",
     "output_type": "stream",
     "text": [
      "This took 5.250270843505859 second to run\n",
      "With train accuracy score of [65]%\n",
      "and testing accuracy score of [64]%\n"
     ]
    }
   ],
   "source": [
    "start_time = time.time()\n",
    "pipe = Pipeline([\n",
    "    ('cv', TfidfVectorizer(stop_words=stopwords, min_df=3)),\n",
    "    ('svm', svm.SVC(kernel='linear'))\n",
    "])\n",
    "\n",
    "pipe.fit(X_train, y_train)\n",
    "pipe.score(X_train, y_train), pipe.score(X_test, y_test)\n",
    "log_time = (time.time() - start_time)\n",
    "print (f'''This took {log_time} second to run\n",
    "With train accuracy score of [{round(100*pipe.score(X_train, y_train))}]%\n",
    "and testing accuracy score of [{round(100*pipe.score(X_test, y_test))}]%''')"
   ]
  },
  {
   "cell_type": "markdown",
   "metadata": {},
   "source": [
    "### 3.2.3 Logistic Regression Model with Count Vectorizer"
   ]
  },
  {
   "cell_type": "code",
   "execution_count": 228,
   "metadata": {},
   "outputs": [
    {
     "name": "stdout",
     "output_type": "stream",
     "text": [
      "This took 3.032136917114258 second to run\n",
      "With train accuracy score of [66]%\n",
      "and testing accuracy score of [64]%\n"
     ]
    }
   ],
   "source": [
    "start_time = time.time()\n",
    "pipe = Pipeline([\n",
    "    ('cv', CountVectorizer(stop_words=stopwords)),\n",
    "    ('lr', LogisticRegressionCV(solver='liblinear', max_iter=1000))\n",
    "])\n",
    "\n",
    "pipe.fit(X_train, y_train)\n",
    "pipe.score(X_train, y_train), pipe.score(X_test, y_test)\n",
    "log_time = (time.time() - start_time)\n",
    "print (f'''This took {log_time} second to run\n",
    "With train accuracy score of [{round(100*pipe.score(X_train, y_train))}]%\n",
    "and testing accuracy score of [{round(100*pipe.score(X_test, y_test))}]%''')"
   ]
  },
  {
   "cell_type": "code",
   "execution_count": 231,
   "metadata": {
    "scrolled": true
   },
   "outputs": [
    {
     "data": {
      "text/html": [
       "<div>\n",
       "<style scoped>\n",
       "    .dataframe tbody tr th:only-of-type {\n",
       "        vertical-align: middle;\n",
       "    }\n",
       "\n",
       "    .dataframe tbody tr th {\n",
       "        vertical-align: top;\n",
       "    }\n",
       "\n",
       "    .dataframe thead th {\n",
       "        text-align: right;\n",
       "    }\n",
       "</style>\n",
       "<table border=\"1\" class=\"dataframe\">\n",
       "  <thead>\n",
       "    <tr style=\"text-align: right;\">\n",
       "      <th></th>\n",
       "      <th>Coefficient</th>\n",
       "    </tr>\n",
       "  </thead>\n",
       "  <tbody>\n",
       "    <tr>\n",
       "      <th>girlfriend</th>\n",
       "      <td>2.39021</td>\n",
       "    </tr>\n",
       "    <tr>\n",
       "      <th>interest</th>\n",
       "      <td>1.14594</td>\n",
       "    </tr>\n",
       "    <tr>\n",
       "      <th>widow</th>\n",
       "      <td>1.03404</td>\n",
       "    </tr>\n",
       "    <tr>\n",
       "      <th>heather</th>\n",
       "      <td>1.02269</td>\n",
       "    </tr>\n",
       "    <tr>\n",
       "      <th>mom</th>\n",
       "      <td>0.95067</td>\n",
       "    </tr>\n",
       "    <tr>\n",
       "      <th>mama</th>\n",
       "      <td>0.92283</td>\n",
       "    </tr>\n",
       "    <tr>\n",
       "      <th>pregnant</th>\n",
       "      <td>0.90359</td>\n",
       "    </tr>\n",
       "    <tr>\n",
       "      <th>niece</th>\n",
       "      <td>0.89210</td>\n",
       "    </tr>\n",
       "    <tr>\n",
       "      <th>amelia</th>\n",
       "      <td>0.81957</td>\n",
       "    </tr>\n",
       "    <tr>\n",
       "      <th>nan</th>\n",
       "      <td>0.76245</td>\n",
       "    </tr>\n",
       "  </tbody>\n",
       "</table>\n",
       "</div>"
      ],
      "text/plain": [
       "            Coefficient\n",
       "girlfriend      2.39021\n",
       "interest        1.14594\n",
       "widow           1.03404\n",
       "heather         1.02269\n",
       "mom             0.95067\n",
       "mama            0.92283\n",
       "pregnant        0.90359\n",
       "niece           0.89210\n",
       "amelia          0.81957\n",
       "nan             0.76245"
      ]
     },
     "execution_count": 231,
     "metadata": {},
     "output_type": "execute_result"
    }
   ],
   "source": [
    "coeffs = pipe.named_steps['lr'].coef_\n",
    "words = pipe.named_steps['cv'].get_feature_names()\n",
    "pd.DataFrame(coeffs.T, index=[words], columns=['Coefficient']).sort_values(by='Coefficient', ascending=False).head(10)"
   ]
  },
  {
   "cell_type": "code",
   "execution_count": 479,
   "metadata": {},
   "outputs": [
    {
     "name": "stdout",
     "output_type": "stream",
     "text": [
      "This took 3.8242838382720947 second to run\n",
      "With train accuracy score of [62]%\n",
      "and testing accuracy score of [62]%\n"
     ]
    }
   ],
   "source": [
    "start_time = time.time()\n",
    "pipe = Pipeline([\n",
    "    ('lr', LogisticRegressionCV(solver='liblinear', max_iter=1000))\n",
    "])\n",
    "\n",
    "pipe.fit(X_trains, y_trains)\n",
    "pipe.score(X_trains, y_trains), pipe.score(X_tests, y_tests)\n",
    "log_time = (time.time() - start_time)\n",
    "print (f'''This took {log_time} second to run\n",
    "With train accuracy score of [{round(100*pipe.score(X_trains, y_trains))}]%\n",
    "and testing accuracy score of [{round(100*pipe.score(X_tests, y_tests))}]%''')"
   ]
  },
  {
   "cell_type": "code",
   "execution_count": 485,
   "metadata": {
    "scrolled": true
   },
   "outputs": [
    {
     "data": {
      "text/html": [
       "<div>\n",
       "<style scoped>\n",
       "    .dataframe tbody tr th:only-of-type {\n",
       "        vertical-align: middle;\n",
       "    }\n",
       "\n",
       "    .dataframe tbody tr th {\n",
       "        vertical-align: top;\n",
       "    }\n",
       "\n",
       "    .dataframe thead th {\n",
       "        text-align: right;\n",
       "    }\n",
       "</style>\n",
       "<table border=\"1\" class=\"dataframe\">\n",
       "  <thead>\n",
       "    <tr style=\"text-align: right;\">\n",
       "      <th></th>\n",
       "      <th>Coefficient</th>\n",
       "    </tr>\n",
       "  </thead>\n",
       "  <tbody>\n",
       "    <tr>\n",
       "      <th>children</th>\n",
       "      <td>-0.28913</td>\n",
       "    </tr>\n",
       "    <tr>\n",
       "      <th>Action</th>\n",
       "      <td>-0.06866</td>\n",
       "    </tr>\n",
       "    <tr>\n",
       "      <th>Crime</th>\n",
       "      <td>-0.03017</td>\n",
       "    </tr>\n",
       "    <tr>\n",
       "      <th>Adventure</th>\n",
       "      <td>-0.02548</td>\n",
       "    </tr>\n",
       "    <tr>\n",
       "      <th>spouses</th>\n",
       "      <td>-0.02250</td>\n",
       "    </tr>\n",
       "    <tr>\n",
       "      <th>Comedy</th>\n",
       "      <td>-0.01751</td>\n",
       "    </tr>\n",
       "    <tr>\n",
       "      <th>Sci-Fi</th>\n",
       "      <td>-0.01672</td>\n",
       "    </tr>\n",
       "    <tr>\n",
       "      <th>Adventure</th>\n",
       "      <td>-0.01028</td>\n",
       "    </tr>\n",
       "    <tr>\n",
       "      <th>Thriller</th>\n",
       "      <td>-0.00975</td>\n",
       "    </tr>\n",
       "    <tr>\n",
       "      <th>Sport</th>\n",
       "      <td>-0.00687</td>\n",
       "    </tr>\n",
       "  </tbody>\n",
       "</table>\n",
       "</div>"
      ],
      "text/plain": [
       "            Coefficient\n",
       "children       -0.28913\n",
       "Action         -0.06866\n",
       " Crime         -0.03017\n",
       " Adventure     -0.02548\n",
       "spouses        -0.02250\n",
       " Comedy        -0.01751\n",
       " Sci-Fi        -0.01672\n",
       "Adventure      -0.01028\n",
       " Thriller      -0.00975\n",
       " Sport         -0.00687"
      ]
     },
     "execution_count": 485,
     "metadata": {},
     "output_type": "execute_result"
    }
   ],
   "source": [
    "coeffs = pipe.named_steps['lr'].coef_\n",
    "words = X_full.columns\n",
    "pd.DataFrame(coeffs.T, index=[words], columns=['Coefficient']).sort_values(by='Coefficient', ascending=True).head(10)"
   ]
  },
  {
   "cell_type": "code",
   "execution_count": 486,
   "metadata": {},
   "outputs": [
    {
     "data": {
      "text/plain": [
       "Index(['index', ' Action', ' Adventure', ' Animation', ' Biography', ' Comedy',\n",
       "       ' Crime', ' Drama', ' Family', ' Fantasy', ' History', ' Horror',\n",
       "       ' Music', ' Musical', ' Mystery', ' Romance', ' Sci-Fi', ' Sport',\n",
       "       ' Thriller', ' War', ' Western', 'Action', 'Adventure', 'Animation',\n",
       "       'Biography', 'Comedy', 'Crime', 'Drama', 'Family', 'Fantasy', 'Horror',\n",
       "       'Music', 'Musical', 'Mystery', 'Romance', 'Sci-Fi', 'Sport', 'Thriller',\n",
       "       'Western', 'spouses', 'divorces', 'children', 'year', 'duration',\n",
       "       'avg_vote', 'ordering'],\n",
       "      dtype='object')"
      ]
     },
     "execution_count": 486,
     "metadata": {},
     "output_type": "execute_result"
    }
   ],
   "source": [
    "X_full.columns"
   ]
  },
  {
   "cell_type": "markdown",
   "metadata": {},
   "source": [
    "### 3.2.4 Logistic Regression Model with TFIDF Vectorizer"
   ]
  },
  {
   "cell_type": "code",
   "execution_count": 192,
   "metadata": {},
   "outputs": [
    {
     "name": "stdout",
     "output_type": "stream",
     "text": [
      "This took 2.908247947692871 second to run\n",
      "With train accuracy score of [64]%\n",
      "and testing accuracy score of [63]%\n"
     ]
    }
   ],
   "source": [
    "start_time = time.time()\n",
    "\n",
    "pipe = Pipeline([\n",
    "    ('cv', TfidfVectorizer(stop_words=stopwords, min_df=3)),\n",
    "    ('lr', LogisticRegressionCV(solver='liblinear', max_iter=1000))\n",
    "])\n",
    "\n",
    "pipe.fit(X_train, y_train)\n",
    "pipe.score(X_train, y_train), pipe.score(X_test, y_test)\n",
    "log_time = (time.time() - start_time)\n",
    "\n",
    "print (f'''This took {log_time} second to run\n",
    "With train accuracy score of [{round(100*pipe.score(X_train, y_train))}]%\n",
    "and testing accuracy score of [{round(100*pipe.score(X_test, y_test))}]%''')"
   ]
  },
  {
   "cell_type": "code",
   "execution_count": 192,
   "metadata": {},
   "outputs": [
    {
     "name": "stdout",
     "output_type": "stream",
     "text": [
      "This took 2.908247947692871 second to run\n",
      "With train accuracy score of [64]%\n",
      "and testing accuracy score of [63]%\n"
     ]
    }
   ],
   "source": [
    "start_time = time.time()\n",
    "\n",
    "pipe = Pipeline([\n",
    "    ('cv', TfidfVectorizer(stop_words=stopwords, min_df=3)),\n",
    "    ('lr', LogisticRegressionCV(solver='liblinear', max_iter=1000))\n",
    "])\n",
    "\n",
    "pipe.fit(X_train, y_train)\n",
    "pipe.score(X_train, y_train), pipe.score(X_test, y_test)\n",
    "log_time = (time.time() - start_time)\n",
    "\n",
    "print (f'''This took {log_time} second to run\n",
    "With train accuracy score of [{round(100*pipe.score(X_train, y_train))}]%\n",
    "and testing accuracy score of [{round(100*pipe.score(X_test, y_test))}]%''')"
   ]
  },
  {
   "cell_type": "code",
   "execution_count": 87,
   "metadata": {},
   "outputs": [],
   "source": [
    "### Best Performing Model"
   ]
  },
  {
   "cell_type": "code",
   "execution_count": 88,
   "metadata": {},
   "outputs": [],
   "source": [
    "pipe = Pipeline ([\n",
    "('tf', TfidfVectorizer()),\n",
    "('logreg',LogisticRegressionCV())\n",
    "])"
   ]
  },
  {
   "cell_type": "code",
   "execution_count": 89,
   "metadata": {},
   "outputs": [],
   "source": [
    "pipe_params = {\n",
    "    'tf__stop_words': [['english']],\n",
    "    'tf__max_features': [2000,3000,4000,5000,None],\n",
    "    'tf__min_df': [2,3],\n",
    "    'tf__max_df': [0.9, 0.95],\n",
    "    'tf__ngram_range': [(1,1), (1,2),(2,2)],\n",
    "    'logreg__solver': ['liblinear'],\n",
    "    'logreg__Cs': [10],\n",
    "    'logreg__penalty': ['l1','l2']}"
   ]
  },
  {
   "cell_type": "code",
   "execution_count": 90,
   "metadata": {},
   "outputs": [],
   "source": [
    "gs = GridSearchCV(pipe,\n",
    "                  pipe_params,\n",
    "                  n_jobs = 4,\n",
    "                  cv =7)"
   ]
  },
  {
   "cell_type": "code",
   "execution_count": 92,
   "metadata": {},
   "outputs": [],
   "source": [
    "#gs.fit(X_train,y_train)"
   ]
  },
  {
   "cell_type": "code",
   "execution_count": null,
   "metadata": {},
   "outputs": [],
   "source": [
    "gs.best_params_"
   ]
  },
  {
   "cell_type": "code",
   "execution_count": null,
   "metadata": {},
   "outputs": [],
   "source": [
    "print (f'''With train accuracy score of [{round(100*gs.score(X_train, y_train))}]%\n",
    "           and testing accuracy score of [{round(100*gs.score(X_test, y_test))}]%''')"
   ]
  },
  {
   "cell_type": "code",
   "execution_count": null,
   "metadata": {},
   "outputs": [],
   "source": [
    "coeffs = gs.best_estimator_.named_steps.logreg.coef_\n",
    "words = gs.best_estimator_.named_steps.tf.get_feature_names()\n",
    "pd.DataFrame(coeffs.T, index=[words], columns=['Coefficient']).sort_values(by='Coefficient', ascending=False).head(10)"
   ]
  },
  {
   "cell_type": "code",
   "execution_count": null,
   "metadata": {},
   "outputs": [],
   "source": [
    "confusion_matrix(y_test, gs.predict(X_test));"
   ]
  },
  {
   "cell_type": "code",
   "execution_count": null,
   "metadata": {},
   "outputs": [],
   "source": []
  },
  {
   "cell_type": "code",
   "execution_count": null,
   "metadata": {},
   "outputs": [],
   "source": []
  },
  {
   "cell_type": "code",
   "execution_count": null,
   "metadata": {},
   "outputs": [],
   "source": []
  },
  {
   "cell_type": "markdown",
   "metadata": {},
   "source": [
    "### 3.2.5 XGBoosting"
   ]
  },
  {
   "cell_type": "code",
   "execution_count": 201,
   "metadata": {},
   "outputs": [],
   "source": [
    "# Function that runs the requested algorithm and returns the rmse metrics\n",
    "def multi_algos_class (algo, test_size, X, y, cv):\n",
    "    \n",
    "    # Split\n",
    "    X_train,X_test,y_train,y_test = train_test_split(X, y, random_state=42, test_size = test_size)\n",
    "    \n",
    "    #Fit\n",
    "    model = algo.fit(X_train, y_train)\n",
    "    \n",
    "    # 1. Train Scores\n",
    "    \n",
    "    split_accuracy_score_train = round(model.score(X_train, y_train) * 100, 2)\n",
    "    \n",
    "    # 2. Test Scores\n",
    "    \n",
    "    split_accuracy_score_test = round(model.score(X_test, y_test) * 100, 2)\n",
    "    \n",
    "    print (classification_report(y_test, model.predict(X_test)))\n",
    "    \n",
    "    \n",
    "     \n",
    "    return split_accuracy_score_train, split_accuracy_score_test, model.predict(X_test)"
   ]
  },
  {
   "cell_type": "code",
   "execution_count": 203,
   "metadata": {},
   "outputs": [
    {
     "name": "stdout",
     "output_type": "stream",
     "text": [
      "[11:02:03] WARNING: /Users/travis/build/dmlc/xgboost/src/learner.cc:1061: Starting in XGBoost 1.3.0, the default evaluation metric used with the objective 'binary:logistic' was changed from 'error' to 'logloss'. Explicitly set eval_metric if you'd like to restore the old behavior.\n",
      "              precision    recall  f1-score   support\n",
      "\n",
      "       actor       0.63      0.99      0.77      3332\n",
      "     actress       0.71      0.04      0.08      2040\n",
      "\n",
      "    accuracy                           0.63      5372\n",
      "   macro avg       0.67      0.52      0.43      5372\n",
      "weighted avg       0.66      0.63      0.51      5372\n",
      "\n",
      "Process took 2.87 seconds to run\n",
      " \n",
      "Accuracy on Train data is [64.27%]\n",
      "Accuracy on Test data is [62.99%]\n"
     ]
    }
   ],
   "source": [
    "start_time = time.time()\n",
    "\n",
    "pipe = Pipeline([\n",
    "    ('cv', CountVectorizer(stop_words=stopwords)),\n",
    "    ('xgb', XGBClassifier())\n",
    "])\n",
    "\n",
    "acc_train, acc_test, y_pred, c_matrix = multi_algos_class(pipe,0.25,X,y,5)\n",
    "\n",
    "lr_log_time = (time.time() - start_time)\n",
    "\n",
    "print (f'Process took {round(lr_log_time,2)} seconds to run')\n",
    "print(' ')\n",
    "print(f'Accuracy on Train data is [{acc_train}%]')\n",
    "print(f'Accuracy on Test data is [{acc_test}%]')"
   ]
  },
  {
   "cell_type": "code",
   "execution_count": 204,
   "metadata": {},
   "outputs": [
    {
     "data": {
      "text/plain": [
       "array([[3295,   37],\n",
       "       [1951,   89]])"
      ]
     },
     "execution_count": 204,
     "metadata": {},
     "output_type": "execute_result"
    }
   ],
   "source": [
    "c_matrix"
   ]
  },
  {
   "cell_type": "code",
   "execution_count": 314,
   "metadata": {},
   "outputs": [],
   "source": [
    "countries2012 = [\n",
    "    'Bolivia',\n",
    "    'Brazil',\n",
    "    'Sri Lanka',\n",
    "    'Dominican Republic',\n",
    "    'Indonesia',\n",
    "    'Kenya',\n",
    "    'Honduras',\n",
    "    'Mozambique',\n",
    "    'Peru',\n",
    "    'Philipines',\n",
    "    'India',\n",
    "    'Vietnam',\n",
    "    'Thailand',\n",
    "    'USA',\n",
    "    'World'\n",
    "]\n",
    "\n",
    "percentage2012 = [ \n",
    "    0.042780099,\n",
    "    0.16599952,\n",
    "    0.012373058,\n",
    "    0.019171717,\n",
    "    0.011868674,\n",
    "    0.019239173,\n",
    "    0.00000332,\n",
    "    0.014455196,\n",
    "    0.016006654,\n",
    "    0.132970981,\n",
    "    0.077940824,\n",
    "    0.411752517,\n",
    "    0.017986798,\n",
    "    0.017361808,\n",
    "    0.058076027\n",
    "]\n",
    "\n",
    "countries2013 = [\n",
    "    'Bolivia',\n",
    "    'Brazil',\n",
    "    'Sri Lanka',\n",
    "    'Dominican Republic', \n",
    "    'Indonesia', \n",
    "    'Honduras',\n",
    "    'Mozambique', \n",
    "    'Peru', \n",
    "    'Philippines', \n",
    "    'India', \n",
    "    'Vietnam', \n",
    "    'Thailand', \n",
    "    'USA',\n",
    "    'World'  \n",
    "]\n",
    "\n",
    "percentage2013 = [\n",
    "    0.02736294,\n",
    "    0.117160272, \n",
    "    0.015815952 ,\n",
    "    0.018831589,\n",
    "    0.020409103 ,\n",
    "    0.00000000285,\n",
    "    0.018876854,\n",
    "    0.018998639,\n",
    "    0.117221146,\n",
    "    0.067991687,\n",
    "    0.496110972,\n",
    "    0.019309486,\n",
    "    0.026880553,\n",
    "    0.03503080414999993\n",
    "]"
   ]
  },
  {
   "cell_type": "code",
   "execution_count": 318,
   "metadata": {},
   "outputs": [
    {
     "data": {
      "text/html": [
       "<div>\n",
       "<style scoped>\n",
       "    .dataframe tbody tr th:only-of-type {\n",
       "        vertical-align: middle;\n",
       "    }\n",
       "\n",
       "    .dataframe tbody tr th {\n",
       "        vertical-align: top;\n",
       "    }\n",
       "\n",
       "    .dataframe thead th {\n",
       "        text-align: right;\n",
       "    }\n",
       "</style>\n",
       "<table border=\"1\" class=\"dataframe\">\n",
       "  <thead>\n",
       "    <tr style=\"text-align: right;\">\n",
       "      <th></th>\n",
       "      <th>country</th>\n",
       "      <th>year</th>\n",
       "      <th>percentage</th>\n",
       "    </tr>\n",
       "  </thead>\n",
       "  <tbody>\n",
       "    <tr>\n",
       "      <th>0</th>\n",
       "      <td>Bolivia</td>\n",
       "      <td>2012</td>\n",
       "      <td>0.04278</td>\n",
       "    </tr>\n",
       "    <tr>\n",
       "      <th>1</th>\n",
       "      <td>Brazil</td>\n",
       "      <td>2012</td>\n",
       "      <td>0.16600</td>\n",
       "    </tr>\n",
       "    <tr>\n",
       "      <th>2</th>\n",
       "      <td>Sri Lanka</td>\n",
       "      <td>2012</td>\n",
       "      <td>0.01237</td>\n",
       "    </tr>\n",
       "    <tr>\n",
       "      <th>3</th>\n",
       "      <td>Dominican Republic</td>\n",
       "      <td>2012</td>\n",
       "      <td>0.01917</td>\n",
       "    </tr>\n",
       "    <tr>\n",
       "      <th>4</th>\n",
       "      <td>Indonesia</td>\n",
       "      <td>2012</td>\n",
       "      <td>0.01187</td>\n",
       "    </tr>\n",
       "  </tbody>\n",
       "</table>\n",
       "</div>"
      ],
      "text/plain": [
       "              country  year  percentage\n",
       "0             Bolivia  2012     0.04278\n",
       "1              Brazil  2012     0.16600\n",
       "2           Sri Lanka  2012     0.01237\n",
       "3  Dominican Republic  2012     0.01917\n",
       "4           Indonesia  2012     0.01187"
      ]
     },
     "execution_count": 318,
     "metadata": {},
     "output_type": "execute_result"
    }
   ],
   "source": [
    "import pandas as pd\n",
    "import seaborn as sns\n",
    "\n",
    "# Put data in long format in a dataframe.\n",
    "df = pd.DataFrame({\n",
    "    'country': countries2012 + countries2013,\n",
    "    'year': ['2012'] * len(countries2012) + ['2013'] * len(countries2013),\n",
    "    'percentage': percentage2012 + percentage2013\n",
    "})\n",
    "\n",
    "df.head()"
   ]
  },
  {
   "cell_type": "code",
   "execution_count": 316,
   "metadata": {},
   "outputs": [
    {
     "data": {
      "image/png": "[encoded data removed]",
      "text/plain": [
       "<Figure size 432x288 with 1 Axes>"
      ]
     },
     "metadata": {},
     "output_type": "display_data"
    }
   ],
   "source": [
    "# One liner to create a stacked bar chart.\n",
    "ax = sns.histplot(df, x='year', hue='category', weights='percentage',\n",
    "             multiple='stack', palette='tab20c', shrink=0.8)\n",
    "ax.set_ylabel('percentage')\n",
    "# Fix the legend so it's not on top of the bars.\n",
    "legend = ax.get_legend()\n",
    "legend.set_bbox_to_anchor((1, 1))"
   ]
  },
  {
   "cell_type": "code",
   "execution_count": 319,
   "metadata": {},
   "outputs": [
    {
     "data": {
      "text/plain": [
       "<matplotlib.axes._subplots.AxesSubplot at 0x7fabc92422e0>"
      ]
     },
     "execution_count": 319,
     "metadata": {},
     "output_type": "execute_result"
    },
    {
     "data": {
      "image/png": "[encoded data removed]",
      "text/plain": [
       "<Figure size 864x432 with 1 Axes>"
      ]
     },
     "metadata": {},
     "output_type": "display_data"
    }
   ],
   "source": [
    "df = pd.concat([pd.DataFrame({2012:percentage2012}, index=countries2012),\n",
    "                pd.DataFrame({2013:percentage2013}, index=countries2013)],\n",
    "               axis=1, sort=False)\n",
    "\n",
    "df.T.plot.bar(stacked=True, figsize=(12,6))"
   ]
  },
  {
   "cell_type": "code",
   "execution_count": 321,
   "metadata": {},
   "outputs": [
    {
     "data": {
      "text/html": [
       "<div>\n",
       "<style scoped>\n",
       "    .dataframe tbody tr th:only-of-type {\n",
       "        vertical-align: middle;\n",
       "    }\n",
       "\n",
       "    .dataframe tbody tr th {\n",
       "        vertical-align: top;\n",
       "    }\n",
       "\n",
       "    .dataframe thead th {\n",
       "        text-align: right;\n",
       "    }\n",
       "</style>\n",
       "<table border=\"1\" class=\"dataframe\">\n",
       "  <thead>\n",
       "    <tr style=\"text-align: right;\">\n",
       "      <th></th>\n",
       "      <th>Bolivia</th>\n",
       "      <th>Brazil</th>\n",
       "      <th>Sri Lanka</th>\n",
       "      <th>Dominican Republic</th>\n",
       "      <th>Indonesia</th>\n",
       "      <th>Kenya</th>\n",
       "      <th>Honduras</th>\n",
       "      <th>Mozambique</th>\n",
       "      <th>Peru</th>\n",
       "      <th>Philipines</th>\n",
       "      <th>India</th>\n",
       "      <th>Vietnam</th>\n",
       "      <th>Thailand</th>\n",
       "      <th>USA</th>\n",
       "      <th>World</th>\n",
       "      <th>Philippines</th>\n",
       "    </tr>\n",
       "  </thead>\n",
       "  <tbody>\n",
       "    <tr>\n",
       "      <th>2012</th>\n",
       "      <td>0.04278</td>\n",
       "      <td>0.16600</td>\n",
       "      <td>0.01237</td>\n",
       "      <td>0.01917</td>\n",
       "      <td>0.01187</td>\n",
       "      <td>0.01924</td>\n",
       "      <td>0.00000</td>\n",
       "      <td>0.01446</td>\n",
       "      <td>0.01601</td>\n",
       "      <td>0.13297</td>\n",
       "      <td>0.07794</td>\n",
       "      <td>0.41175</td>\n",
       "      <td>0.01799</td>\n",
       "      <td>0.01736</td>\n",
       "      <td>0.05808</td>\n",
       "      <td>NaN</td>\n",
       "    </tr>\n",
       "    <tr>\n",
       "      <th>2013</th>\n",
       "      <td>0.02736</td>\n",
       "      <td>0.11716</td>\n",
       "      <td>0.01582</td>\n",
       "      <td>0.01883</td>\n",
       "      <td>0.02041</td>\n",
       "      <td>NaN</td>\n",
       "      <td>0.00000</td>\n",
       "      <td>0.01888</td>\n",
       "      <td>0.01900</td>\n",
       "      <td>NaN</td>\n",
       "      <td>0.06799</td>\n",
       "      <td>0.49611</td>\n",
       "      <td>0.01931</td>\n",
       "      <td>0.02688</td>\n",
       "      <td>0.03503</td>\n",
       "      <td>0.11722</td>\n",
       "    </tr>\n",
       "  </tbody>\n",
       "</table>\n",
       "</div>"
      ],
      "text/plain": [
       "      Bolivia  Brazil  Sri Lanka  Dominican Republic  Indonesia   Kenya  \\\n",
       "2012  0.04278 0.16600    0.01237             0.01917    0.01187 0.01924   \n",
       "2013  0.02736 0.11716    0.01582             0.01883    0.02041     NaN   \n",
       "\n",
       "      Honduras  Mozambique    Peru  Philipines   India  Vietnam  Thailand  \\\n",
       "2012   0.00000     0.01446 0.01601     0.13297 0.07794  0.41175   0.01799   \n",
       "2013   0.00000     0.01888 0.01900         NaN 0.06799  0.49611   0.01931   \n",
       "\n",
       "         USA   World  Philippines  \n",
       "2012 0.01736 0.05808          NaN  \n",
       "2013 0.02688 0.03503      0.11722  "
      ]
     },
     "execution_count": 321,
     "metadata": {},
     "output_type": "execute_result"
    }
   ],
   "source": [
    "df.T"
   ]
  },
  {
   "cell_type": "code",
   "execution_count": 322,
   "metadata": {},
   "outputs": [
    {
     "data": {
      "text/html": [
       "<div>\n",
       "<style scoped>\n",
       "    .dataframe tbody tr th:only-of-type {\n",
       "        vertical-align: middle;\n",
       "    }\n",
       "\n",
       "    .dataframe tbody tr th {\n",
       "        vertical-align: top;\n",
       "    }\n",
       "\n",
       "    .dataframe thead th {\n",
       "        text-align: right;\n",
       "    }\n",
       "</style>\n",
       "<table border=\"1\" class=\"dataframe\">\n",
       "  <thead>\n",
       "    <tr style=\"text-align: right;\">\n",
       "      <th></th>\n",
       "      <th>category</th>\n",
       "      <th>year</th>\n",
       "      <th>year_date</th>\n",
       "    </tr>\n",
       "  </thead>\n",
       "  <tbody>\n",
       "    <tr>\n",
       "      <th>0</th>\n",
       "      <td>actor</td>\n",
       "      <td>1980</td>\n",
       "      <td>48</td>\n",
       "    </tr>\n",
       "    <tr>\n",
       "      <th>1</th>\n",
       "      <td>actor</td>\n",
       "      <td>1981</td>\n",
       "      <td>46</td>\n",
       "    </tr>\n",
       "    <tr>\n",
       "      <th>2</th>\n",
       "      <td>actor</td>\n",
       "      <td>1982</td>\n",
       "      <td>42</td>\n",
       "    </tr>\n",
       "    <tr>\n",
       "      <th>3</th>\n",
       "      <td>actor</td>\n",
       "      <td>1983</td>\n",
       "      <td>47</td>\n",
       "    </tr>\n",
       "    <tr>\n",
       "      <th>4</th>\n",
       "      <td>actor</td>\n",
       "      <td>1984</td>\n",
       "      <td>55</td>\n",
       "    </tr>\n",
       "  </tbody>\n",
       "</table>\n",
       "</div>"
      ],
      "text/plain": [
       "  category  year  year_date\n",
       "0    actor  1980         48\n",
       "1    actor  1981         46\n",
       "2    actor  1982         42\n",
       "3    actor  1983         47\n",
       "4    actor  1984         55"
      ]
     },
     "execution_count": 322,
     "metadata": {},
     "output_type": "execute_result"
    }
   ],
   "source": [
    "test.head()"
   ]
  },
  {
   "cell_type": "code",
   "execution_count": 1,
   "metadata": {},
   "outputs": [
    {
     "name": "stdout",
     "output_type": "stream",
     "text": [
      "Collecting deepface\n",
      "  Downloading deepface-0.0.50-py3-none-any.whl (56 kB)\n",
      "\u001b[K     |████████████████████████████████| 56 kB 1.6 MB/s eta 0:00:01\n",
      "\u001b[?25hRequirement already satisfied: Pillow>=5.2.0 in /opt/anaconda3/lib/python3.8/site-packages (from deepface) (7.2.0)\n",
      "Requirement already satisfied: tqdm>=4.30.0 in /opt/anaconda3/lib/python3.8/site-packages (from deepface) (4.47.0)\n",
      "Requirement already satisfied: opencv-python>=3.4.4 in /opt/anaconda3/lib/python3.8/site-packages (from deepface) (4.5.1.48)\n",
      "Requirement already satisfied: tensorflow>=1.9.0 in /opt/anaconda3/lib/python3.8/site-packages (from deepface) (2.4.1)\n",
      "Requirement already satisfied: keras>=2.2.0 in /opt/anaconda3/lib/python3.8/site-packages (from deepface) (2.4.3)\n",
      "Collecting gdown>=3.10.1\n",
      "  Downloading gdown-3.12.2.tar.gz (8.2 kB)\n",
      "  Installing build dependencies ... \u001b[?25ldone\n",
      "\u001b[?25h  Getting requirements to build wheel ... \u001b[?25ldone\n",
      "\u001b[?25h    Preparing wheel metadata ... \u001b[?25ldone\n",
      "\u001b[?25hCollecting mtcnn>=0.1.0\n",
      "  Downloading mtcnn-0.1.0-py3-none-any.whl (2.3 MB)\n",
      "\u001b[K     |████████████████████████████████| 2.3 MB 3.4 MB/s eta 0:00:01\n",
      "\u001b[?25hRequirement already satisfied: numpy>=1.14.0 in /opt/anaconda3/lib/python3.8/site-packages (from deepface) (1.19.5)\n",
      "Requirement already satisfied: pandas>=0.23.4 in /opt/anaconda3/lib/python3.8/site-packages (from deepface) (1.2.0)\n",
      "Requirement already satisfied: Flask>=1.1.2 in /opt/anaconda3/lib/python3.8/site-packages (from deepface) (1.1.2)\n",
      "Requirement already satisfied: astunparse~=1.6.3 in /opt/anaconda3/lib/python3.8/site-packages (from tensorflow>=1.9.0->deepface) (1.6.3)\n",
      "Requirement already satisfied: tensorflow-estimator<2.5.0,>=2.4.0 in /opt/anaconda3/lib/python3.8/site-packages (from tensorflow>=1.9.0->deepface) (2.4.0)\n",
      "Requirement already satisfied: absl-py~=0.10 in /opt/anaconda3/lib/python3.8/site-packages (from tensorflow>=1.9.0->deepface) (0.12.0)\n",
      "Requirement already satisfied: six~=1.15.0 in /opt/anaconda3/lib/python3.8/site-packages (from tensorflow>=1.9.0->deepface) (1.15.0)\n",
      "Requirement already satisfied: tensorboard~=2.4 in /opt/anaconda3/lib/python3.8/site-packages (from tensorflow>=1.9.0->deepface) (2.4.1)\n",
      "Requirement already satisfied: opt-einsum~=3.3.0 in /opt/anaconda3/lib/python3.8/site-packages (from tensorflow>=1.9.0->deepface) (3.3.0)\n",
      "Requirement already satisfied: protobuf>=3.9.2 in /opt/anaconda3/lib/python3.8/site-packages (from tensorflow>=1.9.0->deepface) (3.14.0)\n",
      "Requirement already satisfied: termcolor~=1.1.0 in /opt/anaconda3/lib/python3.8/site-packages (from tensorflow>=1.9.0->deepface) (1.1.0)\n",
      "Requirement already satisfied: typing-extensions~=3.7.4 in /opt/anaconda3/lib/python3.8/site-packages (from tensorflow>=1.9.0->deepface) (3.7.4.2)\n",
      "Requirement already satisfied: wheel~=0.35 in /opt/anaconda3/lib/python3.8/site-packages (from tensorflow>=1.9.0->deepface) (0.36.2)\n",
      "Requirement already satisfied: h5py~=2.10.0 in /opt/anaconda3/lib/python3.8/site-packages (from tensorflow>=1.9.0->deepface) (2.10.0)\n",
      "Requirement already satisfied: gast==0.3.3 in /opt/anaconda3/lib/python3.8/site-packages (from tensorflow>=1.9.0->deepface) (0.3.3)\n",
      "Requirement already satisfied: grpcio~=1.32.0 in /opt/anaconda3/lib/python3.8/site-packages (from tensorflow>=1.9.0->deepface) (1.32.0)\n",
      "Requirement already satisfied: keras-preprocessing~=1.1.2 in /opt/anaconda3/lib/python3.8/site-packages (from tensorflow>=1.9.0->deepface) (1.1.2)\n",
      "Requirement already satisfied: flatbuffers~=1.12.0 in /opt/anaconda3/lib/python3.8/site-packages (from tensorflow>=1.9.0->deepface) (1.12)\n",
      "Requirement already satisfied: google-pasta~=0.2 in /opt/anaconda3/lib/python3.8/site-packages (from tensorflow>=1.9.0->deepface) (0.2.0)\n",
      "Requirement already satisfied: wrapt~=1.12.1 in /opt/anaconda3/lib/python3.8/site-packages (from tensorflow>=1.9.0->deepface) (1.12.1)\n",
      "Requirement already satisfied: scipy>=0.14 in /opt/anaconda3/lib/python3.8/site-packages (from keras>=2.2.0->deepface) (1.5.0)\n",
      "Requirement already satisfied: pyyaml in /opt/anaconda3/lib/python3.8/site-packages (from keras>=2.2.0->deepface) (5.3.1)\n",
      "Requirement already satisfied: filelock in /opt/anaconda3/lib/python3.8/site-packages (from gdown>=3.10.1->deepface) (3.0.12)\n",
      "Requirement already satisfied: requests[socks] in /opt/anaconda3/lib/python3.8/site-packages (from gdown>=3.10.1->deepface) (2.24.0)\n",
      "Requirement already satisfied: pytz>=2017.3 in /opt/anaconda3/lib/python3.8/site-packages (from pandas>=0.23.4->deepface) (2020.1)\n",
      "Requirement already satisfied: python-dateutil>=2.7.3 in /opt/anaconda3/lib/python3.8/site-packages (from pandas>=0.23.4->deepface) (2.8.1)\n",
      "Requirement already satisfied: itsdangerous>=0.24 in /opt/anaconda3/lib/python3.8/site-packages (from Flask>=1.1.2->deepface) (1.1.0)\n",
      "Requirement already satisfied: click>=5.1 in /opt/anaconda3/lib/python3.8/site-packages (from Flask>=1.1.2->deepface) (7.1.2)\n",
      "Requirement already satisfied: Jinja2>=2.10.1 in /opt/anaconda3/lib/python3.8/site-packages (from Flask>=1.1.2->deepface) (2.11.2)\n",
      "Requirement already satisfied: Werkzeug>=0.15 in /opt/anaconda3/lib/python3.8/site-packages (from Flask>=1.1.2->deepface) (1.0.1)\n",
      "Requirement already satisfied: google-auth<2,>=1.6.3 in /opt/anaconda3/lib/python3.8/site-packages (from tensorboard~=2.4->tensorflow>=1.9.0->deepface) (1.27.1)\n",
      "Requirement already satisfied: google-auth-oauthlib<0.5,>=0.4.1 in /opt/anaconda3/lib/python3.8/site-packages (from tensorboard~=2.4->tensorflow>=1.9.0->deepface) (0.4.3)\n",
      "Requirement already satisfied: markdown>=2.6.8 in /opt/anaconda3/lib/python3.8/site-packages (from tensorboard~=2.4->tensorflow>=1.9.0->deepface) (3.3.3)\n",
      "Requirement already satisfied: setuptools>=41.0.0 in /opt/anaconda3/lib/python3.8/site-packages (from tensorboard~=2.4->tensorflow>=1.9.0->deepface) (49.2.0.post20200714)\n",
      "Requirement already satisfied: tensorboard-plugin-wit>=1.6.0 in /opt/anaconda3/lib/python3.8/site-packages (from tensorboard~=2.4->tensorflow>=1.9.0->deepface) (1.8.0)\n",
      "Requirement already satisfied: chardet<4,>=3.0.2 in /opt/anaconda3/lib/python3.8/site-packages (from requests[socks]->gdown>=3.10.1->deepface) (3.0.4)\n",
      "Requirement already satisfied: idna<3,>=2.5 in /opt/anaconda3/lib/python3.8/site-packages (from requests[socks]->gdown>=3.10.1->deepface) (2.10)\n",
      "Requirement already satisfied: certifi>=2017.4.17 in /opt/anaconda3/lib/python3.8/site-packages (from requests[socks]->gdown>=3.10.1->deepface) (2020.6.20)\n",
      "Requirement already satisfied: urllib3!=1.25.0,!=1.25.1,<1.26,>=1.21.1 in /opt/anaconda3/lib/python3.8/site-packages (from requests[socks]->gdown>=3.10.1->deepface) (1.25.9)\n",
      "Requirement already satisfied: PySocks!=1.5.7,>=1.5.6; extra == \"socks\" in /opt/anaconda3/lib/python3.8/site-packages (from requests[socks]->gdown>=3.10.1->deepface) (1.7.1)\n",
      "Requirement already satisfied: MarkupSafe>=0.23 in /opt/anaconda3/lib/python3.8/site-packages (from Jinja2>=2.10.1->Flask>=1.1.2->deepface) (1.1.1)\n",
      "Requirement already satisfied: pyasn1-modules>=0.2.1 in /opt/anaconda3/lib/python3.8/site-packages (from google-auth<2,>=1.6.3->tensorboard~=2.4->tensorflow>=1.9.0->deepface) (0.2.8)\n",
      "Requirement already satisfied: cachetools<5.0,>=2.0.0 in /opt/anaconda3/lib/python3.8/site-packages (from google-auth<2,>=1.6.3->tensorboard~=2.4->tensorflow>=1.9.0->deepface) (4.2.1)\n",
      "Requirement already satisfied: rsa<5,>=3.1.4; python_version >= \"3.6\" in /opt/anaconda3/lib/python3.8/site-packages (from google-auth<2,>=1.6.3->tensorboard~=2.4->tensorflow>=1.9.0->deepface) (4.7.2)\n",
      "Requirement already satisfied: requests-oauthlib>=0.7.0 in /opt/anaconda3/lib/python3.8/site-packages (from google-auth-oauthlib<0.5,>=0.4.1->tensorboard~=2.4->tensorflow>=1.9.0->deepface) (1.3.0)\n",
      "Requirement already satisfied: pyasn1<0.5.0,>=0.4.6 in /opt/anaconda3/lib/python3.8/site-packages (from pyasn1-modules>=0.2.1->google-auth<2,>=1.6.3->tensorboard~=2.4->tensorflow>=1.9.0->deepface) (0.4.8)\n",
      "Requirement already satisfied: oauthlib>=3.0.0 in /opt/anaconda3/lib/python3.8/site-packages (from requests-oauthlib>=0.7.0->google-auth-oauthlib<0.5,>=0.4.1->tensorboard~=2.4->tensorflow>=1.9.0->deepface) (3.1.0)\n",
      "Building wheels for collected packages: gdown\n",
      "  Building wheel for gdown (PEP 517) ... \u001b[?25ldone\n",
      "\u001b[?25h  Created wheel for gdown: filename=gdown-3.12.2-py3-none-any.whl size=9681 sha256=ac083f78125e8f0a5325573c7bd6b1d8b91f785d494a29f6a3ab09d380fd542f\n",
      "  Stored in directory: /Users/macbook/Library/Caches/pip/wheels/e2/62/1e/926d1ebe7b1e733c78d627fd288d01b83feaf67efc06e0e4c3\n",
      "Successfully built gdown\n"
     ]
    },
    {
     "name": "stdout",
     "output_type": "stream",
     "text": [
      "Installing collected packages: gdown, mtcnn, deepface\n",
      "Successfully installed deepface-0.0.50 gdown-3.12.2 mtcnn-0.1.0\n",
      "Note: you may need to restart the kernel to use updated packages.\n"
     ]
    }
   ],
   "source": [
    "pip install deepface"
   ]
  },
  {
   "cell_type": "code",
   "execution_count": null,
   "metadata": {},
   "outputs": [],
   "source": []
  }
 ],
 "metadata": {
  "kernelspec": {
   "display_name": "Python 3",
   "language": "python",
   "name": "python3"
  },
  "language_info": {
   "codemirror_mode": {
    "name": "ipython",
    "version": 3
   },
   "file_extension": ".py",
   "mimetype": "text/x-python",
   "name": "python",
   "nbconvert_exporter": "python",
   "pygments_lexer": "ipython3",
   "version": "3.8.3"
  }
 },
 "nbformat": 4,
 "nbformat_minor": 4
}

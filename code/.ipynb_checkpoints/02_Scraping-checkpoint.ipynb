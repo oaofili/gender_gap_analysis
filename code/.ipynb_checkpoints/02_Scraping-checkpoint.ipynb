{
 "cells": [
  {
   "cell_type": "markdown",
   "metadata": {},
   "source": [
    "# Analyzing the Gender Gap in Hollywood"
   ]
  },
  {
   "cell_type": "markdown",
   "metadata": {},
   "source": [
    "# 0.0 NoteBook Objective\n",
    "\n",
    "The objective of this notebook is to scrape data of the cast roles in IMDB movies from Wikipedia. The reason this is done is because, ImDB has a summarized version of cast roles. For instance instead of: \n",
    "\n",
    "> \"Robert Downey Jr. as Tony Stark / Iron Man: An industrialist, genius inventor, and consummate playboy, he is CEO of Stark Industries and chief weapons manufacturer for the U.S. military.\"\n",
    "\n",
    "The IMDB description simply says:\n",
    "\n",
    "> \"Robert Downey Jr. as Tony Stark / Iron Man\"\n",
    "\n",
    "And this clearly does not give enough information, for the purpose of our Gender gap analysis.\n",
    "\n",
    "\n",
    "NOTE: This notebook took an entire **40 plus hours** to run!"
   ]
  },
  {
   "cell_type": "markdown",
   "metadata": {},
   "source": [
    "# 1.0 Library Importing"
   ]
  },
  {
   "cell_type": "code",
   "execution_count": 8,
   "metadata": {},
   "outputs": [],
   "source": [
    "import pandas as pd # To handle DataFrames efficiently\n",
    "import numpy as np\n",
    "import warnings # To suppress warnings to make notebook look cleaner\n",
    "import missingno\n",
    "from tqdm import tqdm # This is used to show progress of function application\n",
    "import wikipedia # This is the Wikipedia API used to scrape the Cast\n",
    "import requests\n",
    "from bs4 import BeautifulSoup\n",
    "import re\n",
    "\n",
    "import math, time, random, datetime # Used to time our code execution were applicable"
   ]
  },
  {
   "cell_type": "markdown",
   "metadata": {},
   "source": [
    "# 2.0 Importing DataFrames"
   ]
  },
  {
   "cell_type": "code",
   "execution_count": 9,
   "metadata": {},
   "outputs": [
    {
     "name": "stdout",
     "output_type": "stream",
     "text": [
      "It took 1.09 seconds\n"
     ]
    }
   ],
   "source": [
    "# Import data_frame of pre-scraped IMDB movies\n",
    "start = time.time()\n",
    "warnings.filterwarnings(\"ignore\")\n",
    "df_movies = pd.read_csv('/Users/macbook/Google Drive/0. Ofilispeaks Business (Mac and Cloud)/9. Data Science/0. Python/General Assembly Training/Project 6/archive/IMDb movies.csv')\n",
    "end = time.time()\n",
    "print(f'It took {round((end-start),2)} seconds')"
   ]
  },
  {
   "cell_type": "code",
   "execution_count": 10,
   "metadata": {},
   "outputs": [
    {
     "data": {
      "text/plain": [
       "(85855, 22)"
      ]
     },
     "execution_count": 10,
     "metadata": {},
     "output_type": "execute_result"
    }
   ],
   "source": [
    "df_movies.shape # check shape of IMDB dataframe"
   ]
  },
  {
   "cell_type": "code",
   "execution_count": 11,
   "metadata": {},
   "outputs": [
    {
     "data": {
      "text/html": [
       "<div>\n",
       "<style scoped>\n",
       "    .dataframe tbody tr th:only-of-type {\n",
       "        vertical-align: middle;\n",
       "    }\n",
       "\n",
       "    .dataframe tbody tr th {\n",
       "        vertical-align: top;\n",
       "    }\n",
       "\n",
       "    .dataframe thead th {\n",
       "        text-align: right;\n",
       "    }\n",
       "</style>\n",
       "<table border=\"1\" class=\"dataframe\">\n",
       "  <thead>\n",
       "    <tr style=\"text-align: right;\">\n",
       "      <th></th>\n",
       "      <th>imdb_title_id</th>\n",
       "      <th>title</th>\n",
       "      <th>original_title</th>\n",
       "      <th>year</th>\n",
       "      <th>date_published</th>\n",
       "      <th>genre</th>\n",
       "      <th>duration</th>\n",
       "      <th>country</th>\n",
       "      <th>language</th>\n",
       "      <th>director</th>\n",
       "      <th>...</th>\n",
       "      <th>actors</th>\n",
       "      <th>description</th>\n",
       "      <th>avg_vote</th>\n",
       "      <th>votes</th>\n",
       "      <th>budget</th>\n",
       "      <th>usa_gross_income</th>\n",
       "      <th>worlwide_gross_income</th>\n",
       "      <th>metascore</th>\n",
       "      <th>reviews_from_users</th>\n",
       "      <th>reviews_from_critics</th>\n",
       "    </tr>\n",
       "  </thead>\n",
       "  <tbody>\n",
       "    <tr>\n",
       "      <th>23803</th>\n",
       "      <td>tt0094898</td>\n",
       "      <td>Il principe cerca moglie</td>\n",
       "      <td>Coming to America</td>\n",
       "      <td>1988</td>\n",
       "      <td>1988-09-30</td>\n",
       "      <td>Comedy, Romance</td>\n",
       "      <td>116</td>\n",
       "      <td>USA</td>\n",
       "      <td>English</td>\n",
       "      <td>John Landis</td>\n",
       "      <td>...</td>\n",
       "      <td>Paul Bates, Eddie Murphy, Garcelle Beauvais, F...</td>\n",
       "      <td>An extremely pampered African Prince travels t...</td>\n",
       "      <td>7.0</td>\n",
       "      <td>160374</td>\n",
       "      <td>$ 39000000</td>\n",
       "      <td>$ 128152301</td>\n",
       "      <td>$ 288752301</td>\n",
       "      <td>47.0</td>\n",
       "      <td>177.0</td>\n",
       "      <td>69.0</td>\n",
       "    </tr>\n",
       "  </tbody>\n",
       "</table>\n",
       "<p>1 rows × 22 columns</p>\n",
       "</div>"
      ],
      "text/plain": [
       "      imdb_title_id                     title     original_title  year  \\\n",
       "23803     tt0094898  Il principe cerca moglie  Coming to America  1988   \n",
       "\n",
       "      date_published            genre  duration country language     director  \\\n",
       "23803     1988-09-30  Comedy, Romance       116     USA  English  John Landis   \n",
       "\n",
       "       ...                                             actors  \\\n",
       "23803  ...  Paul Bates, Eddie Murphy, Garcelle Beauvais, F...   \n",
       "\n",
       "                                             description avg_vote   votes  \\\n",
       "23803  An extremely pampered African Prince travels t...      7.0  160374   \n",
       "\n",
       "           budget  usa_gross_income worlwide_gross_income metascore  \\\n",
       "23803  $ 39000000       $ 128152301           $ 288752301      47.0   \n",
       "\n",
       "      reviews_from_users  reviews_from_critics  \n",
       "23803              177.0                  69.0  \n",
       "\n",
       "[1 rows x 22 columns]"
      ]
     },
     "execution_count": 11,
     "metadata": {},
     "output_type": "execute_result"
    }
   ],
   "source": [
    "df_movies[df_movies['original_title']== 'Coming to America'] # Check to see if popular movie [Coming to America] is present"
   ]
  },
  {
   "cell_type": "code",
   "execution_count": 12,
   "metadata": {},
   "outputs": [],
   "source": [
    "df_sample = df_movies.copy() # Copy the df_movies dataframe to a new DataSet df_sample"
   ]
  },
  {
   "cell_type": "code",
   "execution_count": 13,
   "metadata": {},
   "outputs": [
    {
     "data": {
      "text/html": [
       "<div>\n",
       "<style scoped>\n",
       "    .dataframe tbody tr th:only-of-type {\n",
       "        vertical-align: middle;\n",
       "    }\n",
       "\n",
       "    .dataframe tbody tr th {\n",
       "        vertical-align: top;\n",
       "    }\n",
       "\n",
       "    .dataframe thead th {\n",
       "        text-align: right;\n",
       "    }\n",
       "</style>\n",
       "<table border=\"1\" class=\"dataframe\">\n",
       "  <thead>\n",
       "    <tr style=\"text-align: right;\">\n",
       "      <th></th>\n",
       "      <th>imdb_title_id</th>\n",
       "      <th>title</th>\n",
       "      <th>original_title</th>\n",
       "      <th>year</th>\n",
       "      <th>date_published</th>\n",
       "      <th>genre</th>\n",
       "      <th>duration</th>\n",
       "      <th>country</th>\n",
       "      <th>language</th>\n",
       "      <th>director</th>\n",
       "      <th>...</th>\n",
       "      <th>actors</th>\n",
       "      <th>description</th>\n",
       "      <th>avg_vote</th>\n",
       "      <th>votes</th>\n",
       "      <th>budget</th>\n",
       "      <th>usa_gross_income</th>\n",
       "      <th>worlwide_gross_income</th>\n",
       "      <th>metascore</th>\n",
       "      <th>reviews_from_users</th>\n",
       "      <th>reviews_from_critics</th>\n",
       "    </tr>\n",
       "  </thead>\n",
       "  <tbody>\n",
       "    <tr>\n",
       "      <th>0</th>\n",
       "      <td>tt0000009</td>\n",
       "      <td>Miss Jerry</td>\n",
       "      <td>Miss Jerry</td>\n",
       "      <td>1894</td>\n",
       "      <td>1894-10-09</td>\n",
       "      <td>Romance</td>\n",
       "      <td>45</td>\n",
       "      <td>USA</td>\n",
       "      <td>None</td>\n",
       "      <td>Alexander Black</td>\n",
       "      <td>...</td>\n",
       "      <td>Blanche Bayliss, William Courtenay, Chauncey D...</td>\n",
       "      <td>The adventures of a female reporter in the 1890s.</td>\n",
       "      <td>5.9</td>\n",
       "      <td>154</td>\n",
       "      <td>NaN</td>\n",
       "      <td>NaN</td>\n",
       "      <td>NaN</td>\n",
       "      <td>NaN</td>\n",
       "      <td>1.0</td>\n",
       "      <td>2.0</td>\n",
       "    </tr>\n",
       "  </tbody>\n",
       "</table>\n",
       "<p>1 rows × 22 columns</p>\n",
       "</div>"
      ],
      "text/plain": [
       "  imdb_title_id       title original_title  year date_published    genre  \\\n",
       "0     tt0000009  Miss Jerry     Miss Jerry  1894     1894-10-09  Romance   \n",
       "\n",
       "   duration country language         director  ...  \\\n",
       "0        45     USA     None  Alexander Black  ...   \n",
       "\n",
       "                                              actors  \\\n",
       "0  Blanche Bayliss, William Courtenay, Chauncey D...   \n",
       "\n",
       "                                         description avg_vote votes  budget  \\\n",
       "0  The adventures of a female reporter in the 1890s.      5.9   154     NaN   \n",
       "\n",
       "   usa_gross_income worlwide_gross_income metascore reviews_from_users  \\\n",
       "0               NaN                   NaN       NaN                1.0   \n",
       "\n",
       "   reviews_from_critics  \n",
       "0                   2.0  \n",
       "\n",
       "[1 rows x 22 columns]"
      ]
     },
     "execution_count": 13,
     "metadata": {},
     "output_type": "execute_result"
    }
   ],
   "source": [
    "df_sample.head(1) # Inspect head of new dataframe"
   ]
  },
  {
   "cell_type": "markdown",
   "metadata": {},
   "source": [
    "# 3.0 Scraping Wikipedia to get Cast Roles"
   ]
  },
  {
   "cell_type": "code",
   "execution_count": 14,
   "metadata": {},
   "outputs": [],
   "source": [
    "# Function to Find imdb movie page (if it exists)\n",
    "def find_movie_page(movie_title):\n",
    "    try:\n",
    "        return wikipedia.WikipediaPage(title = movie_title).section('Cast') #Finds the cast section of movie wikipage\n",
    "    except:\n",
    "        return 'missing' # returns missing if not found"
   ]
  },
  {
   "cell_type": "code",
   "execution_count": 15,
   "metadata": {},
   "outputs": [],
   "source": [
    "tqdm.pandas() # This inititates the TQDM lirbrary with pandas for us to track progress"
   ]
  },
  {
   "cell_type": "markdown",
   "metadata": {},
   "source": [
    "### 3.1 Split Up DataFrames to ensure we don't lose entire progress"
   ]
  },
  {
   "cell_type": "code",
   "execution_count": 7,
   "metadata": {},
   "outputs": [],
   "source": [
    "df_sample_20 = df_sample[0:20000]\n",
    "df_sample_40 = df_sample[20001:40000]\n",
    "df_sample_60 = df_sample[40001:60000]\n",
    "df_sample_80 = df_sample[60001:85855]"
   ]
  },
  {
   "cell_type": "code",
   "execution_count": 11,
   "metadata": {},
   "outputs": [
    {
     "name": "stderr",
     "output_type": "stream",
     "text": [
      "100%|██████████| 20000/20000 [7:56:19<00:00,  1.43s/it]  \n"
     ]
    }
   ],
   "source": [
    "# Find actor url pages for entries in characters dataframe\n",
    "df_sample_20['cast'] = df_sample_20['original_title'].progress_apply(find_movie_page)"
   ]
  },
  {
   "cell_type": "code",
   "execution_count": 12,
   "metadata": {},
   "outputs": [
    {
     "name": "stderr",
     "output_type": "stream",
     "text": [
      "100%|██████████| 19999/19999 [6:42:48<00:00,  1.21s/it]   \n"
     ]
    }
   ],
   "source": [
    "# Find actor url pages for entries in characters dataframe\n",
    "df_sample_40['cast'] = df_sample_40['original_title'].progress_apply(find_movie_page)"
   ]
  },
  {
   "cell_type": "code",
   "execution_count": 13,
   "metadata": {},
   "outputs": [
    {
     "name": "stderr",
     "output_type": "stream",
     "text": [
      "100%|██████████| 19999/19999 [6:18:32<00:00,  1.14s/it]  \n"
     ]
    }
   ],
   "source": [
    "# Find actor url pages for entries in characters dataframe\n",
    "df_sample_60['cast'] = df_sample_60['original_title'].progress_apply(find_movie_page)"
   ]
  },
  {
   "cell_type": "code",
   "execution_count": 14,
   "metadata": {},
   "outputs": [
    {
     "name": "stderr",
     "output_type": "stream",
     "text": [
      "100%|██████████| 25854/25854 [7:39:10<00:00,  1.07s/it]   \n"
     ]
    }
   ],
   "source": [
    "# Find actor url pages for entries in characters dataframe\n",
    "df_sample_80['cast'] = df_sample_80['original_title'].progress_apply(find_movie_page)"
   ]
  },
  {
   "cell_type": "markdown",
   "metadata": {},
   "source": [
    "### 3.2 Merge Data Frames into One"
   ]
  },
  {
   "cell_type": "code",
   "execution_count": 44,
   "metadata": {},
   "outputs": [],
   "source": [
    "frames = [df_sample_20,df_sample_40,df_sample_60,df_sample_80]\n",
    "result = pd.concat(frames)"
   ]
  },
  {
   "cell_type": "code",
   "execution_count": 46,
   "metadata": {},
   "outputs": [],
   "source": [
    "result = pd.DataFrame(data = result, columns = ['imdb_title_id','cast']) # Assign DataFrame pertinent columns"
   ]
  },
  {
   "cell_type": "code",
   "execution_count": 47,
   "metadata": {},
   "outputs": [
    {
     "data": {
      "text/html": [
       "<div>\n",
       "<style scoped>\n",
       "    .dataframe tbody tr th:only-of-type {\n",
       "        vertical-align: middle;\n",
       "    }\n",
       "\n",
       "    .dataframe tbody tr th {\n",
       "        vertical-align: top;\n",
       "    }\n",
       "\n",
       "    .dataframe thead th {\n",
       "        text-align: right;\n",
       "    }\n",
       "</style>\n",
       "<table border=\"1\" class=\"dataframe\">\n",
       "  <thead>\n",
       "    <tr style=\"text-align: right;\">\n",
       "      <th></th>\n",
       "      <th>imdb_title_id</th>\n",
       "      <th>cast</th>\n",
       "    </tr>\n",
       "  </thead>\n",
       "  <tbody>\n",
       "    <tr>\n",
       "      <th>0</th>\n",
       "      <td>tt0000009</td>\n",
       "      <td>Blanche Bayliss (under the name \"Constance Art...</td>\n",
       "    </tr>\n",
       "    <tr>\n",
       "      <th>1</th>\n",
       "      <td>tt0000574</td>\n",
       "      <td>There is considerable uncertainty over who app...</td>\n",
       "    </tr>\n",
       "    <tr>\n",
       "      <th>2</th>\n",
       "      <td>tt0001892</td>\n",
       "      <td>missing</td>\n",
       "    </tr>\n",
       "    <tr>\n",
       "      <th>3</th>\n",
       "      <td>tt0002101</td>\n",
       "      <td>None</td>\n",
       "    </tr>\n",
       "    <tr>\n",
       "      <th>4</th>\n",
       "      <td>tt0002130</td>\n",
       "      <td>Salvatore Papa as Dante Alighieri\\nArturo Piro...</td>\n",
       "    </tr>\n",
       "  </tbody>\n",
       "</table>\n",
       "</div>"
      ],
      "text/plain": [
       "  imdb_title_id                                               cast\n",
       "0     tt0000009  Blanche Bayliss (under the name \"Constance Art...\n",
       "1     tt0000574  There is considerable uncertainty over who app...\n",
       "2     tt0001892                                            missing\n",
       "3     tt0002101                                               None\n",
       "4     tt0002130  Salvatore Papa as Dante Alighieri\\nArturo Piro..."
      ]
     },
     "execution_count": 47,
     "metadata": {},
     "output_type": "execute_result"
    }
   ],
   "source": [
    "result.head() # Inspect Data  Frame head"
   ]
  },
  {
   "cell_type": "code",
   "execution_count": 48,
   "metadata": {},
   "outputs": [
    {
     "name": "stdout",
     "output_type": "stream",
     "text": [
      "Submission CSV is ready!\n"
     ]
    }
   ],
   "source": [
    "# Write the DataFrame you created to a csv called 'adobeillustrators.csv'\n",
    "result.to_csv('/Users/macbook/Google Drive/0. Ofilispeaks Business (Mac and Cloud)/9. Data Science/0. Python/General Assembly Training/Project 6/data/movies_cast.csv', index=False)\n",
    "print('Submission CSV is ready!')"
   ]
  },
  {
   "cell_type": "markdown",
   "metadata": {},
   "source": [
    "# 4.0 Further Scrapping of Wikipedia\n",
    "> We do this because Wikipedia has a set format for some movies. For example if you search for cast in [Iron Man] an error will happen and missing will be returned. However, if you add the release year of the film and the word film like [Iron Man (2008 film)] you will get the CAST section. So I had to create a further scrape to get these values."
   ]
  },
  {
   "cell_type": "markdown",
   "metadata": {},
   "source": [
    "**Re-import scrapped dataframe above for further scrapping**"
   ]
  },
  {
   "cell_type": "code",
   "execution_count": 4,
   "metadata": {},
   "outputs": [
    {
     "name": "stdout",
     "output_type": "stream",
     "text": [
      "It took 0.25 seconds\n"
     ]
    }
   ],
   "source": [
    "start = time.time()\n",
    "warnings.filterwarnings(\"ignore\")\n",
    "df_cast_wiki = pd.read_csv('/Users/macbook/Google Drive/0. Ofilispeaks Business (Mac and Cloud)/9. Data Science/0. Python/General Assembly Training/Project 6/data/movies_cast.csv')\n",
    "end = time.time()\n",
    "print(f'It took {round((end-start),2)} seconds')"
   ]
  },
  {
   "cell_type": "code",
   "execution_count": 17,
   "metadata": {},
   "outputs": [],
   "source": [
    "# Create DataFrame with only Cast missing or null values. These are the ones we want to re-scrape.\n",
    "results = df_cast_wiki[(df_cast_wiki['cast'].isnull()) | (df_cast_wiki['cast']=='missing')]"
   ]
  },
  {
   "cell_type": "code",
   "execution_count": 18,
   "metadata": {},
   "outputs": [],
   "source": [
    "# Inner merge the movies \n",
    "df_movies_update = pd.merge(df_movies, results, on='imdb_title_id', how='inner')"
   ]
  },
  {
   "cell_type": "code",
   "execution_count": 19,
   "metadata": {},
   "outputs": [
    {
     "data": {
      "text/html": [
       "<div>\n",
       "<style scoped>\n",
       "    .dataframe tbody tr th:only-of-type {\n",
       "        vertical-align: middle;\n",
       "    }\n",
       "\n",
       "    .dataframe tbody tr th {\n",
       "        vertical-align: top;\n",
       "    }\n",
       "\n",
       "    .dataframe thead th {\n",
       "        text-align: right;\n",
       "    }\n",
       "</style>\n",
       "<table border=\"1\" class=\"dataframe\">\n",
       "  <thead>\n",
       "    <tr style=\"text-align: right;\">\n",
       "      <th></th>\n",
       "      <th>imdb_title_id</th>\n",
       "      <th>title</th>\n",
       "      <th>original_title</th>\n",
       "      <th>year</th>\n",
       "      <th>date_published</th>\n",
       "      <th>genre</th>\n",
       "      <th>duration</th>\n",
       "      <th>country</th>\n",
       "      <th>language</th>\n",
       "      <th>director</th>\n",
       "      <th>...</th>\n",
       "      <th>description</th>\n",
       "      <th>avg_vote</th>\n",
       "      <th>votes</th>\n",
       "      <th>budget</th>\n",
       "      <th>usa_gross_income</th>\n",
       "      <th>worlwide_gross_income</th>\n",
       "      <th>metascore</th>\n",
       "      <th>reviews_from_users</th>\n",
       "      <th>reviews_from_critics</th>\n",
       "      <th>cast</th>\n",
       "    </tr>\n",
       "  </thead>\n",
       "  <tbody>\n",
       "    <tr>\n",
       "      <th>0</th>\n",
       "      <td>tt0001892</td>\n",
       "      <td>Den sorte drøm</td>\n",
       "      <td>Den sorte drøm</td>\n",
       "      <td>1911</td>\n",
       "      <td>1911-08-19</td>\n",
       "      <td>Drama</td>\n",
       "      <td>53</td>\n",
       "      <td>Germany, Denmark</td>\n",
       "      <td>NaN</td>\n",
       "      <td>Urban Gad</td>\n",
       "      <td>...</td>\n",
       "      <td>Two men of high rank are both wooing the beaut...</td>\n",
       "      <td>5.8</td>\n",
       "      <td>188</td>\n",
       "      <td>NaN</td>\n",
       "      <td>NaN</td>\n",
       "      <td>NaN</td>\n",
       "      <td>NaN</td>\n",
       "      <td>5.0</td>\n",
       "      <td>2.0</td>\n",
       "      <td>missing</td>\n",
       "    </tr>\n",
       "    <tr>\n",
       "      <th>1</th>\n",
       "      <td>tt0002101</td>\n",
       "      <td>Cleopatra</td>\n",
       "      <td>Cleopatra</td>\n",
       "      <td>1912</td>\n",
       "      <td>1912-11-13</td>\n",
       "      <td>Drama, History</td>\n",
       "      <td>100</td>\n",
       "      <td>USA</td>\n",
       "      <td>English</td>\n",
       "      <td>Charles L. Gaskill</td>\n",
       "      <td>...</td>\n",
       "      <td>The fabled queen of Egypt's affair with Roman ...</td>\n",
       "      <td>5.2</td>\n",
       "      <td>446</td>\n",
       "      <td>$ 45000</td>\n",
       "      <td>NaN</td>\n",
       "      <td>NaN</td>\n",
       "      <td>NaN</td>\n",
       "      <td>25.0</td>\n",
       "      <td>3.0</td>\n",
       "      <td>NaN</td>\n",
       "    </tr>\n",
       "    <tr>\n",
       "      <th>2</th>\n",
       "      <td>tt0002199</td>\n",
       "      <td>From the Manger to the Cross; or, Jesus of Naz...</td>\n",
       "      <td>From the Manger to the Cross; or, Jesus of Naz...</td>\n",
       "      <td>1912</td>\n",
       "      <td>1913</td>\n",
       "      <td>Biography, Drama</td>\n",
       "      <td>60</td>\n",
       "      <td>USA</td>\n",
       "      <td>English</td>\n",
       "      <td>Sidney Olcott</td>\n",
       "      <td>...</td>\n",
       "      <td>An account of the life of Jesus Christ, based ...</td>\n",
       "      <td>5.7</td>\n",
       "      <td>484</td>\n",
       "      <td>NaN</td>\n",
       "      <td>NaN</td>\n",
       "      <td>NaN</td>\n",
       "      <td>NaN</td>\n",
       "      <td>13.0</td>\n",
       "      <td>5.0</td>\n",
       "      <td>missing</td>\n",
       "    </tr>\n",
       "    <tr>\n",
       "      <th>3</th>\n",
       "      <td>tt0002423</td>\n",
       "      <td>Madame DuBarry</td>\n",
       "      <td>Madame DuBarry</td>\n",
       "      <td>1919</td>\n",
       "      <td>1919-11-26</td>\n",
       "      <td>Biography, Drama, Romance</td>\n",
       "      <td>85</td>\n",
       "      <td>Germany</td>\n",
       "      <td>German</td>\n",
       "      <td>Ernst Lubitsch</td>\n",
       "      <td>...</td>\n",
       "      <td>The story of Madame DuBarry, the mistress of L...</td>\n",
       "      <td>6.8</td>\n",
       "      <td>753</td>\n",
       "      <td>NaN</td>\n",
       "      <td>NaN</td>\n",
       "      <td>NaN</td>\n",
       "      <td>NaN</td>\n",
       "      <td>12.0</td>\n",
       "      <td>9.0</td>\n",
       "      <td>NaN</td>\n",
       "    </tr>\n",
       "    <tr>\n",
       "      <th>4</th>\n",
       "      <td>tt0002445</td>\n",
       "      <td>Quo Vadis?</td>\n",
       "      <td>Quo Vadis?</td>\n",
       "      <td>1913</td>\n",
       "      <td>1913-03-01</td>\n",
       "      <td>Drama, History</td>\n",
       "      <td>120</td>\n",
       "      <td>Italy</td>\n",
       "      <td>Italian</td>\n",
       "      <td>Enrico Guazzoni</td>\n",
       "      <td>...</td>\n",
       "      <td>An epic Italian film \"Quo Vadis\" influenced ma...</td>\n",
       "      <td>6.2</td>\n",
       "      <td>273</td>\n",
       "      <td>ITL 45000</td>\n",
       "      <td>NaN</td>\n",
       "      <td>NaN</td>\n",
       "      <td>NaN</td>\n",
       "      <td>7.0</td>\n",
       "      <td>5.0</td>\n",
       "      <td>NaN</td>\n",
       "    </tr>\n",
       "  </tbody>\n",
       "</table>\n",
       "<p>5 rows × 23 columns</p>\n",
       "</div>"
      ],
      "text/plain": [
       "  imdb_title_id                                              title  \\\n",
       "0     tt0001892                                     Den sorte drøm   \n",
       "1     tt0002101                                          Cleopatra   \n",
       "2     tt0002199  From the Manger to the Cross; or, Jesus of Naz...   \n",
       "3     tt0002423                                     Madame DuBarry   \n",
       "4     tt0002445                                         Quo Vadis?   \n",
       "\n",
       "                                      original_title  year date_published  \\\n",
       "0                                     Den sorte drøm  1911     1911-08-19   \n",
       "1                                          Cleopatra  1912     1912-11-13   \n",
       "2  From the Manger to the Cross; or, Jesus of Naz...  1912           1913   \n",
       "3                                     Madame DuBarry  1919     1919-11-26   \n",
       "4                                         Quo Vadis?  1913     1913-03-01   \n",
       "\n",
       "                       genre  duration           country language  \\\n",
       "0                      Drama        53  Germany, Denmark      NaN   \n",
       "1             Drama, History       100               USA  English   \n",
       "2           Biography, Drama        60               USA  English   \n",
       "3  Biography, Drama, Romance        85           Germany   German   \n",
       "4             Drama, History       120             Italy  Italian   \n",
       "\n",
       "             director  ...                                        description  \\\n",
       "0           Urban Gad  ...  Two men of high rank are both wooing the beaut...   \n",
       "1  Charles L. Gaskill  ...  The fabled queen of Egypt's affair with Roman ...   \n",
       "2       Sidney Olcott  ...  An account of the life of Jesus Christ, based ...   \n",
       "3      Ernst Lubitsch  ...  The story of Madame DuBarry, the mistress of L...   \n",
       "4     Enrico Guazzoni  ...  An epic Italian film \"Quo Vadis\" influenced ma...   \n",
       "\n",
       "  avg_vote votes     budget  usa_gross_income  worlwide_gross_income  \\\n",
       "0      5.8   188        NaN               NaN                    NaN   \n",
       "1      5.2   446    $ 45000               NaN                    NaN   \n",
       "2      5.7   484        NaN               NaN                    NaN   \n",
       "3      6.8   753        NaN               NaN                    NaN   \n",
       "4      6.2   273  ITL 45000               NaN                    NaN   \n",
       "\n",
       "  metascore reviews_from_users reviews_from_critics     cast  \n",
       "0       NaN                5.0                  2.0  missing  \n",
       "1       NaN               25.0                  3.0      NaN  \n",
       "2       NaN               13.0                  5.0  missing  \n",
       "3       NaN               12.0                  9.0      NaN  \n",
       "4       NaN                7.0                  5.0      NaN  \n",
       "\n",
       "[5 rows x 23 columns]"
      ]
     },
     "execution_count": 19,
     "metadata": {},
     "output_type": "execute_result"
    }
   ],
   "source": [
    "df_movies_update.head() # Inspect the head of the movies"
   ]
  },
  {
   "cell_type": "code",
   "execution_count": 21,
   "metadata": {},
   "outputs": [],
   "source": [
    "df_movies_update['year'] = df_movies_update['year'].astype(str) # Convert Year to string type"
   ]
  },
  {
   "cell_type": "code",
   "execution_count": 22,
   "metadata": {},
   "outputs": [],
   "source": [
    "# Update to Wikipedia Format [Bad Boys (1992 Film)]\n",
    "df_movies_update ['wiki_title'] = df_movies_update['original_title'] + ' ' + '(' + df_movies_update['year'] + ' ' + 'film' + ')'"
   ]
  },
  {
   "cell_type": "code",
   "execution_count": 23,
   "metadata": {},
   "outputs": [
    {
     "data": {
      "text/html": [
       "<div>\n",
       "<style scoped>\n",
       "    .dataframe tbody tr th:only-of-type {\n",
       "        vertical-align: middle;\n",
       "    }\n",
       "\n",
       "    .dataframe tbody tr th {\n",
       "        vertical-align: top;\n",
       "    }\n",
       "\n",
       "    .dataframe thead th {\n",
       "        text-align: right;\n",
       "    }\n",
       "</style>\n",
       "<table border=\"1\" class=\"dataframe\">\n",
       "  <thead>\n",
       "    <tr style=\"text-align: right;\">\n",
       "      <th></th>\n",
       "      <th>imdb_title_id</th>\n",
       "      <th>title</th>\n",
       "      <th>original_title</th>\n",
       "      <th>year</th>\n",
       "      <th>date_published</th>\n",
       "      <th>genre</th>\n",
       "      <th>duration</th>\n",
       "      <th>country</th>\n",
       "      <th>language</th>\n",
       "      <th>director</th>\n",
       "      <th>...</th>\n",
       "      <th>avg_vote</th>\n",
       "      <th>votes</th>\n",
       "      <th>budget</th>\n",
       "      <th>usa_gross_income</th>\n",
       "      <th>worlwide_gross_income</th>\n",
       "      <th>metascore</th>\n",
       "      <th>reviews_from_users</th>\n",
       "      <th>reviews_from_critics</th>\n",
       "      <th>cast</th>\n",
       "      <th>wiki_title</th>\n",
       "    </tr>\n",
       "  </thead>\n",
       "  <tbody>\n",
       "    <tr>\n",
       "      <th>0</th>\n",
       "      <td>tt0001892</td>\n",
       "      <td>Den sorte drøm</td>\n",
       "      <td>Den sorte drøm</td>\n",
       "      <td>1911</td>\n",
       "      <td>1911-08-19</td>\n",
       "      <td>Drama</td>\n",
       "      <td>53</td>\n",
       "      <td>Germany, Denmark</td>\n",
       "      <td>NaN</td>\n",
       "      <td>Urban Gad</td>\n",
       "      <td>...</td>\n",
       "      <td>5.8</td>\n",
       "      <td>188</td>\n",
       "      <td>NaN</td>\n",
       "      <td>NaN</td>\n",
       "      <td>NaN</td>\n",
       "      <td>NaN</td>\n",
       "      <td>5.0</td>\n",
       "      <td>2.0</td>\n",
       "      <td>missing</td>\n",
       "      <td>Den sorte drøm (1911 film)</td>\n",
       "    </tr>\n",
       "    <tr>\n",
       "      <th>1</th>\n",
       "      <td>tt0002101</td>\n",
       "      <td>Cleopatra</td>\n",
       "      <td>Cleopatra</td>\n",
       "      <td>1912</td>\n",
       "      <td>1912-11-13</td>\n",
       "      <td>Drama, History</td>\n",
       "      <td>100</td>\n",
       "      <td>USA</td>\n",
       "      <td>English</td>\n",
       "      <td>Charles L. Gaskill</td>\n",
       "      <td>...</td>\n",
       "      <td>5.2</td>\n",
       "      <td>446</td>\n",
       "      <td>$ 45000</td>\n",
       "      <td>NaN</td>\n",
       "      <td>NaN</td>\n",
       "      <td>NaN</td>\n",
       "      <td>25.0</td>\n",
       "      <td>3.0</td>\n",
       "      <td>NaN</td>\n",
       "      <td>Cleopatra (1912 film)</td>\n",
       "    </tr>\n",
       "    <tr>\n",
       "      <th>2</th>\n",
       "      <td>tt0002199</td>\n",
       "      <td>From the Manger to the Cross; or, Jesus of Naz...</td>\n",
       "      <td>From the Manger to the Cross; or, Jesus of Naz...</td>\n",
       "      <td>1912</td>\n",
       "      <td>1913</td>\n",
       "      <td>Biography, Drama</td>\n",
       "      <td>60</td>\n",
       "      <td>USA</td>\n",
       "      <td>English</td>\n",
       "      <td>Sidney Olcott</td>\n",
       "      <td>...</td>\n",
       "      <td>5.7</td>\n",
       "      <td>484</td>\n",
       "      <td>NaN</td>\n",
       "      <td>NaN</td>\n",
       "      <td>NaN</td>\n",
       "      <td>NaN</td>\n",
       "      <td>13.0</td>\n",
       "      <td>5.0</td>\n",
       "      <td>missing</td>\n",
       "      <td>From the Manger to the Cross; or, Jesus of Naz...</td>\n",
       "    </tr>\n",
       "    <tr>\n",
       "      <th>3</th>\n",
       "      <td>tt0002423</td>\n",
       "      <td>Madame DuBarry</td>\n",
       "      <td>Madame DuBarry</td>\n",
       "      <td>1919</td>\n",
       "      <td>1919-11-26</td>\n",
       "      <td>Biography, Drama, Romance</td>\n",
       "      <td>85</td>\n",
       "      <td>Germany</td>\n",
       "      <td>German</td>\n",
       "      <td>Ernst Lubitsch</td>\n",
       "      <td>...</td>\n",
       "      <td>6.8</td>\n",
       "      <td>753</td>\n",
       "      <td>NaN</td>\n",
       "      <td>NaN</td>\n",
       "      <td>NaN</td>\n",
       "      <td>NaN</td>\n",
       "      <td>12.0</td>\n",
       "      <td>9.0</td>\n",
       "      <td>NaN</td>\n",
       "      <td>Madame DuBarry (1919 film)</td>\n",
       "    </tr>\n",
       "    <tr>\n",
       "      <th>4</th>\n",
       "      <td>tt0002445</td>\n",
       "      <td>Quo Vadis?</td>\n",
       "      <td>Quo Vadis?</td>\n",
       "      <td>1913</td>\n",
       "      <td>1913-03-01</td>\n",
       "      <td>Drama, History</td>\n",
       "      <td>120</td>\n",
       "      <td>Italy</td>\n",
       "      <td>Italian</td>\n",
       "      <td>Enrico Guazzoni</td>\n",
       "      <td>...</td>\n",
       "      <td>6.2</td>\n",
       "      <td>273</td>\n",
       "      <td>ITL 45000</td>\n",
       "      <td>NaN</td>\n",
       "      <td>NaN</td>\n",
       "      <td>NaN</td>\n",
       "      <td>7.0</td>\n",
       "      <td>5.0</td>\n",
       "      <td>NaN</td>\n",
       "      <td>Quo Vadis? (1913 film)</td>\n",
       "    </tr>\n",
       "  </tbody>\n",
       "</table>\n",
       "<p>5 rows × 24 columns</p>\n",
       "</div>"
      ],
      "text/plain": [
       "  imdb_title_id                                              title  \\\n",
       "0     tt0001892                                     Den sorte drøm   \n",
       "1     tt0002101                                          Cleopatra   \n",
       "2     tt0002199  From the Manger to the Cross; or, Jesus of Naz...   \n",
       "3     tt0002423                                     Madame DuBarry   \n",
       "4     tt0002445                                         Quo Vadis?   \n",
       "\n",
       "                                      original_title  year date_published  \\\n",
       "0                                     Den sorte drøm  1911     1911-08-19   \n",
       "1                                          Cleopatra  1912     1912-11-13   \n",
       "2  From the Manger to the Cross; or, Jesus of Naz...  1912           1913   \n",
       "3                                     Madame DuBarry  1919     1919-11-26   \n",
       "4                                         Quo Vadis?  1913     1913-03-01   \n",
       "\n",
       "                       genre  duration           country language  \\\n",
       "0                      Drama        53  Germany, Denmark      NaN   \n",
       "1             Drama, History       100               USA  English   \n",
       "2           Biography, Drama        60               USA  English   \n",
       "3  Biography, Drama, Romance        85           Germany   German   \n",
       "4             Drama, History       120             Italy  Italian   \n",
       "\n",
       "             director  ... avg_vote votes     budget usa_gross_income  \\\n",
       "0           Urban Gad  ...      5.8   188        NaN              NaN   \n",
       "1  Charles L. Gaskill  ...      5.2   446    $ 45000              NaN   \n",
       "2       Sidney Olcott  ...      5.7   484        NaN              NaN   \n",
       "3      Ernst Lubitsch  ...      6.8   753        NaN              NaN   \n",
       "4     Enrico Guazzoni  ...      6.2   273  ITL 45000              NaN   \n",
       "\n",
       "   worlwide_gross_income  metascore reviews_from_users reviews_from_critics  \\\n",
       "0                    NaN        NaN                5.0                  2.0   \n",
       "1                    NaN        NaN               25.0                  3.0   \n",
       "2                    NaN        NaN               13.0                  5.0   \n",
       "3                    NaN        NaN               12.0                  9.0   \n",
       "4                    NaN        NaN                7.0                  5.0   \n",
       "\n",
       "      cast                                         wiki_title  \n",
       "0  missing                         Den sorte drøm (1911 film)  \n",
       "1      NaN                              Cleopatra (1912 film)  \n",
       "2  missing  From the Manger to the Cross; or, Jesus of Naz...  \n",
       "3      NaN                         Madame DuBarry (1919 film)  \n",
       "4      NaN                             Quo Vadis? (1913 film)  \n",
       "\n",
       "[5 rows x 24 columns]"
      ]
     },
     "execution_count": 23,
     "metadata": {},
     "output_type": "execute_result"
    }
   ],
   "source": [
    "df_movies_update.head() # Inspect ['wiki_title'] column to ensure format is correct"
   ]
  },
  {
   "cell_type": "code",
   "execution_count": 24,
   "metadata": {},
   "outputs": [
    {
     "name": "stderr",
     "output_type": "stream",
     "text": [
      "100%|██████████| 61986/61986 [11:53:37<00:00,  1.45it/s]    \n"
     ]
    }
   ],
   "source": [
    "# Find actor url pages for entries in characters dataframe\n",
    "df_movies_update['cast_wiki'] = df_movies_update['wiki_title'].progress_apply(find_movie_page)"
   ]
  },
  {
   "cell_type": "code",
   "execution_count": 25,
   "metadata": {},
   "outputs": [
    {
     "name": "stdout",
     "output_type": "stream",
     "text": [
      "Submission CSV is ready!\n"
     ]
    }
   ],
   "source": [
    "# Write the DataFrame you created to a csv called 'movies_cast_wiki.csv'\n",
    "df_movies_update.to_csv('/Users/macbook/Google Drive/0. Ofilispeaks Business (Mac and Cloud)/9. Data Science/0. Python/General Assembly Training/Project 6/data/movies_cast_wiki.csv', index=False)\n",
    "print('CSV is ready!')"
   ]
  },
  {
   "cell_type": "code",
   "execution_count": 27,
   "metadata": {},
   "outputs": [
    {
     "data": {
      "text/plain": [
       "imdb_title_id                0\n",
       "title                        0\n",
       "original_title               0\n",
       "year                         0\n",
       "date_published               0\n",
       "genre                        0\n",
       "duration                     0\n",
       "country                     56\n",
       "language                   657\n",
       "director                    80\n",
       "writer                    1201\n",
       "production_company        3575\n",
       "actors                      68\n",
       "description               1849\n",
       "avg_vote                     0\n",
       "votes                        0\n",
       "budget                   44471\n",
       "usa_gross_income         51490\n",
       "worlwide_gross_income    39200\n",
       "metascore                52774\n",
       "reviews_from_users        6397\n",
       "reviews_from_critics      9191\n",
       "cast                     22599\n",
       "wiki_title                   0\n",
       "cast_wiki                  897\n",
       "dtype: int64"
      ]
     },
     "execution_count": 27,
     "metadata": {},
     "output_type": "execute_result"
    }
   ],
   "source": [
    "df_movies_update.isnull().sum()"
   ]
  },
  {
   "cell_type": "markdown",
   "metadata": {},
   "source": [
    "# The END"
   ]
  }
 ],
 "metadata": {
  "kernelspec": {
   "display_name": "Python 3",
   "language": "python",
   "name": "python3"
  },
  "language_info": {
   "codemirror_mode": {
    "name": "ipython",
    "version": 3
   },
   "file_extension": ".py",
   "mimetype": "text/x-python",
   "name": "python",
   "nbconvert_exporter": "python",
   "pygments_lexer": "ipython3",
   "version": "3.8.3"
  }
 },
 "nbformat": 4,
 "nbformat_minor": 4
}
